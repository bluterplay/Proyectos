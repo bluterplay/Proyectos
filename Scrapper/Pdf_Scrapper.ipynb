{
 "cells": [
  {
   "cell_type": "markdown",
   "id": "17ad1d9c-4ec2-402c-9f61-286089b955e4",
   "metadata": {},
   "source": [
    "# Modulos"
   ]
  },
  {
   "cell_type": "code",
   "execution_count": 1,
   "id": "baa3ddee-ecfd-435e-aa37-6cb9fcf53028",
   "metadata": {},
   "outputs": [],
   "source": [
    "import os\n",
    "import re\n",
    "import tabula\n",
    "import pandas as pd\n",
    "from tabula.io import read_pdf\n",
    "\n",
    "os.environ['JAVA_HOME'] = 'C:\\Program Files\\Java\\jdk-23'"
   ]
  },
  {
   "cell_type": "markdown",
   "id": "d18fd923-06c1-42d8-89d8-78be9c60ac12",
   "metadata": {},
   "source": [
    "# Funciones"
   ]
  },
  {
   "cell_type": "code",
   "execution_count": 2,
   "id": "5b374056-d230-45f2-b163-55a5d5544aac",
   "metadata": {},
   "outputs": [],
   "source": [
    "def remove_footer(x):\n",
    "    return re.sub(r'\\s*\\(\\d+\\)', '', x).strip() "
   ]
  },
  {
   "cell_type": "markdown",
   "id": "572547c3-5415-43a4-906c-7819a77b07d4",
   "metadata": {},
   "source": [
    "# Lectura de datos"
   ]
  },
  {
   "cell_type": "code",
   "execution_count": 3,
   "id": "0d7f6954-ff00-4601-9513-cb5e3a297967",
   "metadata": {},
   "outputs": [],
   "source": [
    "folder= \"PDFs/\"\n",
    "ls_files = [x for x in os.listdir(folder) if '.pdf' in x]"
   ]
  },
  {
   "cell_type": "markdown",
   "id": "df80e91b-bbe8-46ca-a6d2-4c954b2338bc",
   "metadata": {},
   "source": [
    "## Tasas de descuento por institución"
   ]
  },
  {
   "cell_type": "code",
   "execution_count": 4,
   "id": "bfc17754-fecb-4e07-8a99-d2f530a102a4",
   "metadata": {},
   "outputs": [
    {
     "name": "stderr",
     "output_type": "stream",
     "text": [
      "Failed to import jpype dependencies. Fallback to subprocess.\n",
      "No module named 'jpype'\n"
     ]
    }
   ],
   "source": [
    "ls_data=[]\n",
    "for file in ls_files:\n",
    "    tables = read_pdf(folder+file, pages=\"all\", encoding='latin1',stream=True ) \n",
    "    if(len(tables)>1):\n",
    "        aux= pd.concat(tables, ignore_index=True)\n",
    "    else: \n",
    "        aux= tables[0]\n",
    "    ls_values= [x for x in aux.columns if x !=\"Institución\"]\n",
    "    aux[\"Institución\"] = aux[\"Institución\"].apply(lambda x: remove_footer(x))\n",
    "    aux[ls_values]= aux[ls_values].map(lambda x: float(x.replace(\"-\",\"0\").replace(\"%\", \"\")))\n",
    "    aux[\"Tipo\"] = file.split(\" \")[1]\n",
    "    aux[\"Familia\"] = \" \".join(file.split(\" \")[2:]).replace(\".pdf\", \"\") \n",
    "    ls_data.append(aux)"
   ]
  },
  {
   "cell_type": "code",
   "execution_count": 5,
   "id": "72920baf-69ae-45cc-b294-cebd474e6635",
   "metadata": {},
   "outputs": [],
   "source": [
    "data= pd.concat(ls_data, ignore_index=True)\n",
    "data.columns = ['Institucion', 'Promedio', 'Minima', 'Maxima', 'Desviación', 'Moda', 'Tipo', 'Familia']"
   ]
  },
  {
   "cell_type": "code",
   "execution_count": 6,
   "id": "9fb48362-60d6-4223-8c79-9c6bf2bf04bd",
   "metadata": {},
   "outputs": [
    {
     "data": {
      "text/plain": [
       "array(['EVO', 'Mifel', 'Dlocal', 'Getnet', 'Afirme', 'Banorte',\n",
       "       'BBVA Bancomer', 'Autofin', 'Inbursa', 'Adyen', 'Banregio',\n",
       "       'Multiva', 'Fiserv', 'Bansí', 'Azteca', 'Intercam Banco', 'Bajío',\n",
       "       'Bzpay', 'Velpay', 'Mercado Pago', 'Espiral', 'Paypal',\n",
       "       'PayU Digicuenta', 'Pocket', 'Pago Fácil', 'Sr. Pago', 'Stripe',\n",
       "       'Clip', 'Smart Payment', 'Ebanx', 'Xaldo', 'Cyborgbeat', 'Adquira',\n",
       "       'OEL', 'MerIT', 'EMS', 'Qiubo', 'Banjército'], dtype=object)"
      ]
     },
     "execution_count": 6,
     "metadata": {},
     "output_type": "execute_result"
    }
   ],
   "source": [
    "data.Institucion.unique()"
   ]
  },
  {
   "cell_type": "code",
   "execution_count": 7,
   "id": "3d87de1e-5791-4308-98cb-5eecb3ec1917",
   "metadata": {},
   "outputs": [],
   "source": [
    "data[['Familia', 'Tipo','Institucion',  'Promedio', 'Minima', 'Maxima', 'Desviación', 'Moda' ]].sort_values(by=['Familia', 'Tipo']).to_csv(\"tasas_desc.csv\", index=False)"
   ]
  },
  {
   "cell_type": "code",
   "execution_count": null,
   "id": "ecbebe12-3c4b-4e06-8d89-581c81c919db",
   "metadata": {},
   "outputs": [],
   "source": []
  }
 ],
 "metadata": {
  "kernelspec": {
   "display_name": "Scrapper",
   "language": "python",
   "name": "scrapper"
  },
  "language_info": {
   "codemirror_mode": {
    "name": "ipython",
    "version": 3
   },
   "file_extension": ".py",
   "mimetype": "text/x-python",
   "name": "python",
   "nbconvert_exporter": "python",
   "pygments_lexer": "ipython3",
   "version": "3.11.3"
  }
 },
 "nbformat": 4,
 "nbformat_minor": 5
}
