{
 "cells": [
  {
   "cell_type": "markdown",
   "id": "d6b296e2-80db-4a69-a390-ad7ef109fe6d",
   "metadata": {},
   "source": [
    "# Modulos"
   ]
  },
  {
   "cell_type": "code",
   "execution_count": 1,
   "id": "bcc2b3cc-0cb5-4419-a237-36ef564798b2",
   "metadata": {},
   "outputs": [],
   "source": [
    "import numpy as np\n",
    "import pandas as pd\n",
    "import seaborn as sns\n",
    "import plotly.express as px\n",
    "import matplotlib.pyplot as plt"
   ]
  },
  {
   "cell_type": "markdown",
   "id": "f7c05b2d-c9c8-456a-a036-285a365fa166",
   "metadata": {},
   "source": [
    "# Funciones"
   ]
  },
  {
   "cell_type": "code",
   "execution_count": 96,
   "id": "ec341756-4e39-4263-99c7-d529de192cdf",
   "metadata": {},
   "outputs": [],
   "source": [
    "def generate_synthetic_data(row, size=100):\n",
    "    np.random.seed(0) \n",
    "    mean = row['Promedio']\n",
    "    std_dev = row['Desviación']\n",
    "    synthetic_data = np.random.normal(loc=mean, scale=std_dev, size=size)\n",
    "    return synthetic_data"
   ]
  },
  {
   "cell_type": "code",
   "execution_count": 88,
   "id": "39e11b40-26d8-4c34-9dcc-1c326ee56871",
   "metadata": {},
   "outputs": [],
   "source": [
    "def get_top(data, n, family):\n",
    "    df_family = data[data['Familia'] == family].copy()\n",
    "    top_cre = df_family[df_family['Tipo'] == 'Credito'].nsmallest(n, 'Promedio')\n",
    "    top_deb= df_family[df_family['Tipo'] == 'Debito'].nsmallest(n, 'Promedio')\n",
    "\n",
    "    return top_cre,top_deb"
   ]
  },
  {
   "cell_type": "markdown",
   "id": "1e92e46d-a936-4295-83b0-d92395f1bc8d",
   "metadata": {},
   "source": [
    "# Lectura de datos"
   ]
  },
  {
   "cell_type": "code",
   "execution_count": 89,
   "id": "6424389e-9997-4ed4-be66-7d4cb5a621c3",
   "metadata": {},
   "outputs": [],
   "source": [
    "data= pd.read_csv(\"tasas_desc.csv\")"
   ]
  },
  {
   "cell_type": "code",
   "execution_count": 90,
   "id": "0783d214-9576-4ca2-ac0b-591b48dc4ac7",
   "metadata": {},
   "outputs": [
    {
     "data": {
      "text/html": [
       "<div>\n",
       "<style scoped>\n",
       "    .dataframe tbody tr th:only-of-type {\n",
       "        vertical-align: middle;\n",
       "    }\n",
       "\n",
       "    .dataframe tbody tr th {\n",
       "        vertical-align: top;\n",
       "    }\n",
       "\n",
       "    .dataframe thead th {\n",
       "        text-align: right;\n",
       "    }\n",
       "</style>\n",
       "<table border=\"1\" class=\"dataframe\">\n",
       "  <thead>\n",
       "    <tr style=\"text-align: right;\">\n",
       "      <th></th>\n",
       "      <th>Familia</th>\n",
       "      <th>Tipo</th>\n",
       "      <th>Institucion</th>\n",
       "      <th>Promedio</th>\n",
       "      <th>Minima</th>\n",
       "      <th>Maxima</th>\n",
       "      <th>Desviación</th>\n",
       "      <th>Moda</th>\n",
       "    </tr>\n",
       "  </thead>\n",
       "  <tbody>\n",
       "    <tr>\n",
       "      <th>0</th>\n",
       "      <td>Agencias de viajes</td>\n",
       "      <td>Credito</td>\n",
       "      <td>EVO</td>\n",
       "      <td>1.95</td>\n",
       "      <td>1.79</td>\n",
       "      <td>2.60</td>\n",
       "      <td>0.14</td>\n",
       "      <td>1.95</td>\n",
       "    </tr>\n",
       "    <tr>\n",
       "      <th>1</th>\n",
       "      <td>Agencias de viajes</td>\n",
       "      <td>Credito</td>\n",
       "      <td>Mifel</td>\n",
       "      <td>2.12</td>\n",
       "      <td>1.60</td>\n",
       "      <td>2.80</td>\n",
       "      <td>0.44</td>\n",
       "      <td>1.68</td>\n",
       "    </tr>\n",
       "    <tr>\n",
       "      <th>2</th>\n",
       "      <td>Agencias de viajes</td>\n",
       "      <td>Credito</td>\n",
       "      <td>Dlocal</td>\n",
       "      <td>2.15</td>\n",
       "      <td>2.15</td>\n",
       "      <td>2.15</td>\n",
       "      <td>0.00</td>\n",
       "      <td>2.15</td>\n",
       "    </tr>\n",
       "    <tr>\n",
       "      <th>3</th>\n",
       "      <td>Agencias de viajes</td>\n",
       "      <td>Credito</td>\n",
       "      <td>Getnet</td>\n",
       "      <td>2.19</td>\n",
       "      <td>1.76</td>\n",
       "      <td>3.50</td>\n",
       "      <td>0.28</td>\n",
       "      <td>2.13</td>\n",
       "    </tr>\n",
       "    <tr>\n",
       "      <th>4</th>\n",
       "      <td>Agencias de viajes</td>\n",
       "      <td>Credito</td>\n",
       "      <td>Afirme</td>\n",
       "      <td>2.25</td>\n",
       "      <td>1.60</td>\n",
       "      <td>3.90</td>\n",
       "      <td>0.33</td>\n",
       "      <td>2.40</td>\n",
       "    </tr>\n",
       "    <tr>\n",
       "      <th>5</th>\n",
       "      <td>Agencias de viajes</td>\n",
       "      <td>Credito</td>\n",
       "      <td>Banorte</td>\n",
       "      <td>2.25</td>\n",
       "      <td>1.58</td>\n",
       "      <td>2.80</td>\n",
       "      <td>0.32</td>\n",
       "      <td>2.00</td>\n",
       "    </tr>\n",
       "    <tr>\n",
       "      <th>6</th>\n",
       "      <td>Agencias de viajes</td>\n",
       "      <td>Credito</td>\n",
       "      <td>BBVA Bancomer</td>\n",
       "      <td>2.27</td>\n",
       "      <td>1.58</td>\n",
       "      <td>2.40</td>\n",
       "      <td>0.15</td>\n",
       "      <td>2.25</td>\n",
       "    </tr>\n",
       "    <tr>\n",
       "      <th>7</th>\n",
       "      <td>Agencias de viajes</td>\n",
       "      <td>Credito</td>\n",
       "      <td>Autofin</td>\n",
       "      <td>2.27</td>\n",
       "      <td>2.00</td>\n",
       "      <td>2.40</td>\n",
       "      <td>0.19</td>\n",
       "      <td>2.00</td>\n",
       "    </tr>\n",
       "    <tr>\n",
       "      <th>8</th>\n",
       "      <td>Agencias de viajes</td>\n",
       "      <td>Credito</td>\n",
       "      <td>Inbursa</td>\n",
       "      <td>2.32</td>\n",
       "      <td>1.78</td>\n",
       "      <td>2.60</td>\n",
       "      <td>0.10</td>\n",
       "      <td>2.34</td>\n",
       "    </tr>\n",
       "    <tr>\n",
       "      <th>9</th>\n",
       "      <td>Agencias de viajes</td>\n",
       "      <td>Credito</td>\n",
       "      <td>Adyen</td>\n",
       "      <td>2.32</td>\n",
       "      <td>2.25</td>\n",
       "      <td>2.45</td>\n",
       "      <td>0.12</td>\n",
       "      <td>2.25</td>\n",
       "    </tr>\n",
       "  </tbody>\n",
       "</table>\n",
       "</div>"
      ],
      "text/plain": [
       "              Familia     Tipo    Institucion  Promedio  Minima  Maxima  \\\n",
       "0  Agencias de viajes  Credito            EVO      1.95    1.79    2.60   \n",
       "1  Agencias de viajes  Credito          Mifel      2.12    1.60    2.80   \n",
       "2  Agencias de viajes  Credito         Dlocal      2.15    2.15    2.15   \n",
       "3  Agencias de viajes  Credito         Getnet      2.19    1.76    3.50   \n",
       "4  Agencias de viajes  Credito         Afirme      2.25    1.60    3.90   \n",
       "5  Agencias de viajes  Credito        Banorte      2.25    1.58    2.80   \n",
       "6  Agencias de viajes  Credito  BBVA Bancomer      2.27    1.58    2.40   \n",
       "7  Agencias de viajes  Credito        Autofin      2.27    2.00    2.40   \n",
       "8  Agencias de viajes  Credito        Inbursa      2.32    1.78    2.60   \n",
       "9  Agencias de viajes  Credito          Adyen      2.32    2.25    2.45   \n",
       "\n",
       "   Desviación  Moda  \n",
       "0        0.14  1.95  \n",
       "1        0.44  1.68  \n",
       "2        0.00  2.15  \n",
       "3        0.28  2.13  \n",
       "4        0.33  2.40  \n",
       "5        0.32  2.00  \n",
       "6        0.15  2.25  \n",
       "7        0.19  2.00  \n",
       "8        0.10  2.34  \n",
       "9        0.12  2.25  "
      ]
     },
     "execution_count": 90,
     "metadata": {},
     "output_type": "execute_result"
    }
   ],
   "source": [
    "data.head(10)"
   ]
  },
  {
   "cell_type": "markdown",
   "id": "bbe46066-0045-437b-b29b-77684ced6629",
   "metadata": {},
   "source": [
    "# Procesamiento"
   ]
  },
  {
   "cell_type": "code",
   "execution_count": 97,
   "id": "dd9f0ad8-59e2-447c-9dd7-38000b7dbb18",
   "metadata": {},
   "outputs": [],
   "source": [
    "# Aplicar la función a cada fila del DataFrame\n",
    "data['SyntheticData'] = data.apply(generate_synthetic_data, axis=1)"
   ]
  },
  {
   "cell_type": "code",
   "execution_count": 98,
   "id": "fd896f5a-8e5e-4e90-9540-29988f252d83",
   "metadata": {},
   "outputs": [],
   "source": [
    "df = data.copy()"
   ]
  },
  {
   "cell_type": "code",
   "execution_count": 99,
   "id": "4c1f1634-76d0-44bf-b1da-6e1fca664c70",
   "metadata": {},
   "outputs": [
    {
     "data": {
      "text/plain": [
       "array(['Agencias de viajes', 'Agregadores', 'Aseguradoras',\n",
       "       'Beneficencia', 'Colegios y universidades', 'Comida rápida',\n",
       "       'Educación básica', 'Entretenimiento', 'Estacionamientos',\n",
       "       'Farmacias', 'Gasolineras', 'Gobierno', 'Hospitales', 'Hoteles',\n",
       "       'Misceláneas', 'Médicos y dentistas', 'Otros', 'Peaje',\n",
       "       'Refacciones y ferreterías', 'Renta de autos', 'Restaurantes',\n",
       "       'Salones de belleza', 'Supermercados', 'Telecomunicaciones',\n",
       "       'Transporte aéreo', 'Ventas al detalle (Retail)'], dtype=object)"
      ]
     },
     "execution_count": 99,
     "metadata": {},
     "output_type": "execute_result"
    }
   ],
   "source": [
    "df.Familia.unique()"
   ]
  },
  {
   "cell_type": "code",
   "execution_count": 100,
   "id": "1406a9ec-14f0-4c6e-831f-5f730cdeddc8",
   "metadata": {},
   "outputs": [],
   "source": [
    "top_credito, top_debito = get_top(df,8,'Agencias de viajes' )"
   ]
  },
  {
   "cell_type": "code",
   "execution_count": 101,
   "id": "5a620d4b-1d95-47e6-b4e5-1382fc162c97",
   "metadata": {},
   "outputs": [],
   "source": [
    "synthetic_df_credito = top_credito.explode('SyntheticData')\n",
    "synthetic_df_debito = top_debito.explode('SyntheticData')"
   ]
  },
  {
   "cell_type": "code",
   "execution_count": 103,
   "id": "4692dfca-4c43-419c-8dc4-5bf133ec0c29",
   "metadata": {},
   "outputs": [
    {
     "data": {
      "application/vnd.plotly.v1+json": {
       "config": {
        "plotlyServerURL": "https://plot.ly"
       },
       "data": [
        {
         "alignmentgroup": "True",
         "hovertemplate": "Institucion=%{x}<br>SyntheticData=%{y}<extra></extra>",
         "legendgroup": "EVO",
         "marker": {
          "color": "#0f4990"
         },
         "name": "EVO",
         "notched": false,
         "offsetgroup": "EVO",
         "orientation": "v",
         "showlegend": true,
         "type": "box",
         "x": [
          "EVO",
          "EVO",
          "EVO",
          "EVO",
          "EVO",
          "EVO",
          "EVO",
          "EVO",
          "EVO",
          "EVO",
          "EVO",
          "EVO",
          "EVO",
          "EVO",
          "EVO",
          "EVO",
          "EVO",
          "EVO",
          "EVO",
          "EVO",
          "EVO",
          "EVO",
          "EVO",
          "EVO",
          "EVO",
          "EVO",
          "EVO",
          "EVO",
          "EVO",
          "EVO",
          "EVO",
          "EVO",
          "EVO",
          "EVO",
          "EVO",
          "EVO",
          "EVO",
          "EVO",
          "EVO",
          "EVO",
          "EVO",
          "EVO",
          "EVO",
          "EVO",
          "EVO",
          "EVO",
          "EVO",
          "EVO",
          "EVO",
          "EVO",
          "EVO",
          "EVO",
          "EVO",
          "EVO",
          "EVO",
          "EVO",
          "EVO",
          "EVO",
          "EVO",
          "EVO",
          "EVO",
          "EVO",
          "EVO",
          "EVO",
          "EVO",
          "EVO",
          "EVO",
          "EVO",
          "EVO",
          "EVO",
          "EVO",
          "EVO",
          "EVO",
          "EVO",
          "EVO",
          "EVO",
          "EVO",
          "EVO",
          "EVO",
          "EVO",
          "EVO",
          "EVO",
          "EVO",
          "EVO",
          "EVO",
          "EVO",
          "EVO",
          "EVO",
          "EVO",
          "EVO",
          "EVO",
          "EVO",
          "EVO",
          "EVO",
          "EVO",
          "EVO",
          "EVO",
          "EVO",
          "EVO",
          "EVO"
         ],
         "x0": " ",
         "xaxis": "x",
         "y": [
          2.196967328435473,
          2.0060220091714114,
          2.0870233177748037,
          2.263725047888204,
          2.2114581186209956,
          1.8131810968173023,
          2.0830123784535823,
          1.9288099908383223,
          1.9355493607489018,
          2.007483790271372,
          1.9701660999625228,
          2.1535982909748164,
          2.056545281520579,
          1.967034502308996,
          2.0121408525843596,
          1.9967144058323973,
          2.159171070242065,
          1.921277843072788,
          1.993829478231126,
          1.8304265964977584,
          1.592581425783229,
          2.0415066033616505,
          2.0710210678403307,
          1.846096897143098,
          2.267765647358265,
          1.746388805556173,
          1.9564061924222025,
          1.9237942609963832,
          2.164589090010184,
          2.15571022778604,
          1.9716926395975682,
          2.0029427527443042,
          1.8257099953317841,
          1.6726884944486502,
          1.9012922990943386,
          1.971888855674557,
          2.1222406953018806,
          2.1183331788298174,
          1.8957742455628865,
          1.907677614919453,
          1.803202584890607,
          1.7511974887949435,
          1.7111221733124982,
          2.2231085553324506,
          1.8786486945547685,
          1.8886695977744339,
          1.7746086495930102,
          2.0588486498164675,
          1.7240543013418868,
          1.9202163607700444,
          1.8246346814328853,
          2.004166349700297,
          1.8784872807403576,
          1.7847114942228623,
          1.9460544880325883,
          2.0099664618742583,
          1.9593124111336435,
          1.9923460656835694,
          1.861194906884665,
          1.8992162367618006,
          1.8558555373113668,
          1.8996625573843242,
          1.8361595205137764,
          1.7083204356735653,
          1.9748396599155253,
          1.8937506689308432,
          1.7217722314247537,
          2.014789515773608,
          1.822978228986346,
          1.9572723554114595,
          2.0520726787048553,
          1.9680576075060374,
          2.109516095836062,
          1.7771243851504885,
          2.006327829764857,
          1.854126587268356,
          1.8280883991145365,
          1.8689610469329818,
          1.9063826455021677,
          1.9578631479121644,
          1.78687902229033,
          2.076115708173586,
          2.0151927415622644,
          1.7349258839211885,
          2.158355307131384,
          2.2154244846442817,
          2.115029139962351,
          1.9248105229862709,
          1.800094632988524,
          2.0976232417703593,
          1.8935552274237548,
          2.12114230985354,
          1.9791584969307603,
          2.08672946510772,
          1.9998912956044161,
          2.0489202435468727,
          1.9514700029009149,
          2.2000218691468167,
          1.9677676929785068,
          2.0062785108822583
         ],
         "y0": " ",
         "yaxis": "y"
        },
        {
         "alignmentgroup": "True",
         "hovertemplate": "Institucion=%{x}<br>SyntheticData=%{y}<extra></extra>",
         "legendgroup": "Mifel",
         "marker": {
          "color": "#004e98"
         },
         "name": "Mifel",
         "notched": false,
         "offsetgroup": "Mifel",
         "orientation": "v",
         "showlegend": true,
         "type": "box",
         "x": [
          "Mifel",
          "Mifel",
          "Mifel",
          "Mifel",
          "Mifel",
          "Mifel",
          "Mifel",
          "Mifel",
          "Mifel",
          "Mifel",
          "Mifel",
          "Mifel",
          "Mifel",
          "Mifel",
          "Mifel",
          "Mifel",
          "Mifel",
          "Mifel",
          "Mifel",
          "Mifel",
          "Mifel",
          "Mifel",
          "Mifel",
          "Mifel",
          "Mifel",
          "Mifel",
          "Mifel",
          "Mifel",
          "Mifel",
          "Mifel",
          "Mifel",
          "Mifel",
          "Mifel",
          "Mifel",
          "Mifel",
          "Mifel",
          "Mifel",
          "Mifel",
          "Mifel",
          "Mifel",
          "Mifel",
          "Mifel",
          "Mifel",
          "Mifel",
          "Mifel",
          "Mifel",
          "Mifel",
          "Mifel",
          "Mifel",
          "Mifel",
          "Mifel",
          "Mifel",
          "Mifel",
          "Mifel",
          "Mifel",
          "Mifel",
          "Mifel",
          "Mifel",
          "Mifel",
          "Mifel",
          "Mifel",
          "Mifel",
          "Mifel",
          "Mifel",
          "Mifel",
          "Mifel",
          "Mifel",
          "Mifel",
          "Mifel",
          "Mifel",
          "Mifel",
          "Mifel",
          "Mifel",
          "Mifel",
          "Mifel",
          "Mifel",
          "Mifel",
          "Mifel",
          "Mifel",
          "Mifel",
          "Mifel",
          "Mifel",
          "Mifel",
          "Mifel",
          "Mifel",
          "Mifel",
          "Mifel",
          "Mifel",
          "Mifel",
          "Mifel",
          "Mifel",
          "Mifel",
          "Mifel",
          "Mifel",
          "Mifel",
          "Mifel",
          "Mifel",
          "Mifel",
          "Mifel",
          "Mifel"
         ],
         "x0": " ",
         "xaxis": "x",
         "y": [
          2.8961830322257724,
          2.2960691716815784,
          2.5506447130065255,
          3.1059930076486415,
          2.941725515665986,
          1.6899977328543794,
          2.5380389037112594,
          2.053402828349013,
          2.0745837052108347,
          2.300663340852884,
          2.1833791713107864,
          2.759880343063709,
          2.4548565990646773,
          2.1735370072568445,
          2.3152998224079875,
          2.2668167040446776,
          2.7773947921893467,
          2.0297303639430475,
          2.2577497887263966,
          1.744197874707241,
          0.9966844810330056,
          2.407592181993759,
          2.5003519274981825,
          1.7934473910211657,
          3.1186920345545475,
          1.4800791031765437,
          2.1401337476126363,
          2.0376391059886334,
          2.7944228543177214,
          2.7665178587561257,
          2.1881768673066433,
          2.2863915086249564,
          1.7293742710427504,
          1.2484495539814722,
          1.966918654296493,
          2.1887935464057513,
          2.661327899520197,
          2.649047133465141,
          1.949576200340501,
          1.9869867897468525,
          1.6586366953704794,
          1.4951921076412509,
          1.3692411161249947,
          2.9783411739019874,
          1.8957530400292726,
          1.927247307291078,
          1.5687700415780326,
          2.4620957565660406,
          1.4098849470745014,
          2.026394276705854,
          1.7259947130747828,
          2.2902370990580754,
          1.895245739469696,
          1.6005218389861389,
          2.107599819530992,
          2.3084660230333838,
          2.149267577848594,
          2.253087635005504,
          1.840898278780376,
          1.9603938869656594,
          1.8241174029785816,
          1.961796608922162,
          1.7622156359004404,
          1.3604356549740624,
          2.1980675025916514,
          1.9432163880683648,
          1.4027127273349405,
          2.3236241924313408,
          1.7207887196713736,
          2.1428559741503013,
          2.4407998473581163,
          2.1767524807332608,
          2.6213363011990523,
          1.576676639044393,
          2.297030322118122,
          1.8186835599862623,
          1.736849254359972,
          1.8653061475036572,
          1.982916885863956,
          2.144712750581088,
          1.6073340700553231,
          2.5163636542598424,
          2.3248914734814026,
          1.4440527780380217,
          2.774830965270064,
          2.9541912374534567,
          2.6386630113102463,
          2.040833072242566,
          1.6488688465353614,
          2.5839587598497005,
          1.942602143331801,
          2.657875830968268,
          2.2116409903538186,
          2.5497211760528335,
          2.276801214756737,
          2.4308921940044574,
          2.124620009117161,
          2.9057830173185675,
          2.175841320789593,
          2.296875319915669
         ],
         "y0": " ",
         "yaxis": "y"
        },
        {
         "alignmentgroup": "True",
         "hovertemplate": "Institucion=%{x}<br>SyntheticData=%{y}<extra></extra>",
         "legendgroup": "Dlocal",
         "marker": {
          "color": "#000e39"
         },
         "name": "Dlocal",
         "notched": false,
         "offsetgroup": "Dlocal",
         "orientation": "v",
         "showlegend": true,
         "type": "box",
         "x": [
          "Dlocal",
          "Dlocal",
          "Dlocal",
          "Dlocal",
          "Dlocal",
          "Dlocal",
          "Dlocal",
          "Dlocal",
          "Dlocal",
          "Dlocal",
          "Dlocal",
          "Dlocal",
          "Dlocal",
          "Dlocal",
          "Dlocal",
          "Dlocal",
          "Dlocal",
          "Dlocal",
          "Dlocal",
          "Dlocal",
          "Dlocal",
          "Dlocal",
          "Dlocal",
          "Dlocal",
          "Dlocal",
          "Dlocal",
          "Dlocal",
          "Dlocal",
          "Dlocal",
          "Dlocal",
          "Dlocal",
          "Dlocal",
          "Dlocal",
          "Dlocal",
          "Dlocal",
          "Dlocal",
          "Dlocal",
          "Dlocal",
          "Dlocal",
          "Dlocal",
          "Dlocal",
          "Dlocal",
          "Dlocal",
          "Dlocal",
          "Dlocal",
          "Dlocal",
          "Dlocal",
          "Dlocal",
          "Dlocal",
          "Dlocal",
          "Dlocal",
          "Dlocal",
          "Dlocal",
          "Dlocal",
          "Dlocal",
          "Dlocal",
          "Dlocal",
          "Dlocal",
          "Dlocal",
          "Dlocal",
          "Dlocal",
          "Dlocal",
          "Dlocal",
          "Dlocal",
          "Dlocal",
          "Dlocal",
          "Dlocal",
          "Dlocal",
          "Dlocal",
          "Dlocal",
          "Dlocal",
          "Dlocal",
          "Dlocal",
          "Dlocal",
          "Dlocal",
          "Dlocal",
          "Dlocal",
          "Dlocal",
          "Dlocal",
          "Dlocal",
          "Dlocal",
          "Dlocal",
          "Dlocal",
          "Dlocal",
          "Dlocal",
          "Dlocal",
          "Dlocal",
          "Dlocal",
          "Dlocal",
          "Dlocal",
          "Dlocal",
          "Dlocal",
          "Dlocal",
          "Dlocal",
          "Dlocal",
          "Dlocal",
          "Dlocal",
          "Dlocal",
          "Dlocal",
          "Dlocal"
         ],
         "x0": " ",
         "xaxis": "x",
         "y": [
          2.15,
          2.15,
          2.15,
          2.15,
          2.15,
          2.15,
          2.15,
          2.15,
          2.15,
          2.15,
          2.15,
          2.15,
          2.15,
          2.15,
          2.15,
          2.15,
          2.15,
          2.15,
          2.15,
          2.15,
          2.15,
          2.15,
          2.15,
          2.15,
          2.15,
          2.15,
          2.15,
          2.15,
          2.15,
          2.15,
          2.15,
          2.15,
          2.15,
          2.15,
          2.15,
          2.15,
          2.15,
          2.15,
          2.15,
          2.15,
          2.15,
          2.15,
          2.15,
          2.15,
          2.15,
          2.15,
          2.15,
          2.15,
          2.15,
          2.15,
          2.15,
          2.15,
          2.15,
          2.15,
          2.15,
          2.15,
          2.15,
          2.15,
          2.15,
          2.15,
          2.15,
          2.15,
          2.15,
          2.15,
          2.15,
          2.15,
          2.15,
          2.15,
          2.15,
          2.15,
          2.15,
          2.15,
          2.15,
          2.15,
          2.15,
          2.15,
          2.15,
          2.15,
          2.15,
          2.15,
          2.15,
          2.15,
          2.15,
          2.15,
          2.15,
          2.15,
          2.15,
          2.15,
          2.15,
          2.15,
          2.15,
          2.15,
          2.15,
          2.15,
          2.15,
          2.15,
          2.15,
          2.15,
          2.15,
          2.15
         ],
         "y0": " ",
         "yaxis": "y"
        },
        {
         "alignmentgroup": "True",
         "hovertemplate": "Institucion=%{x}<br>SyntheticData=%{y}<extra></extra>",
         "legendgroup": "Getnet",
         "marker": {
          "color": "#ff0000"
         },
         "name": "Getnet",
         "notched": false,
         "offsetgroup": "Getnet",
         "orientation": "v",
         "showlegend": true,
         "type": "box",
         "x": [
          "Getnet",
          "Getnet",
          "Getnet",
          "Getnet",
          "Getnet",
          "Getnet",
          "Getnet",
          "Getnet",
          "Getnet",
          "Getnet",
          "Getnet",
          "Getnet",
          "Getnet",
          "Getnet",
          "Getnet",
          "Getnet",
          "Getnet",
          "Getnet",
          "Getnet",
          "Getnet",
          "Getnet",
          "Getnet",
          "Getnet",
          "Getnet",
          "Getnet",
          "Getnet",
          "Getnet",
          "Getnet",
          "Getnet",
          "Getnet",
          "Getnet",
          "Getnet",
          "Getnet",
          "Getnet",
          "Getnet",
          "Getnet",
          "Getnet",
          "Getnet",
          "Getnet",
          "Getnet",
          "Getnet",
          "Getnet",
          "Getnet",
          "Getnet",
          "Getnet",
          "Getnet",
          "Getnet",
          "Getnet",
          "Getnet",
          "Getnet",
          "Getnet",
          "Getnet",
          "Getnet",
          "Getnet",
          "Getnet",
          "Getnet",
          "Getnet",
          "Getnet",
          "Getnet",
          "Getnet",
          "Getnet",
          "Getnet",
          "Getnet",
          "Getnet",
          "Getnet",
          "Getnet",
          "Getnet",
          "Getnet",
          "Getnet",
          "Getnet",
          "Getnet",
          "Getnet",
          "Getnet",
          "Getnet",
          "Getnet",
          "Getnet",
          "Getnet",
          "Getnet",
          "Getnet",
          "Getnet",
          "Getnet",
          "Getnet",
          "Getnet",
          "Getnet",
          "Getnet",
          "Getnet",
          "Getnet",
          "Getnet",
          "Getnet",
          "Getnet",
          "Getnet",
          "Getnet",
          "Getnet",
          "Getnet",
          "Getnet",
          "Getnet",
          "Getnet",
          "Getnet",
          "Getnet",
          "Getnet"
         ],
         "x0": " ",
         "xaxis": "x",
         "y": [
          2.683934656870946,
          2.3020440183428224,
          2.464046635549607,
          2.817450095776408,
          2.712916237241991,
          1.916362193634605,
          2.456024756907165,
          2.1476199816766446,
          2.1610987214978037,
          2.304967580542744,
          2.2303321999250456,
          2.5971965819496328,
          2.4030905630411583,
          2.224069004617992,
          2.3142817051687192,
          2.2834288116647947,
          2.6083421404841296,
          2.132555686145576,
          2.2776589564622522,
          1.950853192995517,
          1.4751628515664579,
          2.373013206723301,
          2.4320421356806614,
          1.9821937942861962,
          2.82553129471653,
          1.782777611112346,
          2.202812384844405,
          2.1375885219927664,
          2.619178180020368,
          2.6014204555720797,
          2.2333852791951365,
          2.2958855054886085,
          1.9414199906635683,
          1.6353769888973004,
          2.0925845981886773,
          2.233777711349114,
          2.5344813906037618,
          2.5266663576596353,
          2.081548491125773,
          2.105355229838906,
          1.896405169781214,
          1.7923949775898869,
          1.7122443466249964,
          2.736217110664901,
          2.047297389109537,
          2.067339195548868,
          1.8392172991860205,
          2.4076972996329347,
          1.7381086026837735,
          2.130432721540089,
          1.9392693628657707,
          2.2983326994005933,
          2.0469745614807153,
          1.8594229884457245,
          2.1821089760651766,
          2.309932923748517,
          2.208624822267287,
          2.274692131367139,
          2.01238981376933,
          2.0884324735236013,
          2.0017110746227336,
          2.0893251147686485,
          1.9623190410275528,
          1.7066408713471304,
          2.2396793198310507,
          2.0775013378616864,
          1.7335444628495074,
          2.319579031547217,
          1.9359564579726922,
          2.204544710822919,
          2.3941453574097102,
          2.226115215012075,
          2.5090321916721243,
          1.8442487703009771,
          2.3026556595297136,
          1.9982531745367123,
          1.946176798229073,
          2.0279220938659637,
          2.1027652910043355,
          2.205726295824329,
          1.86375804458066,
          2.4422314163471723,
          2.3203854831245287,
          1.7598517678423773,
          2.606710614262768,
          2.7208489692885633,
          2.520058279924702,
          2.1396210459725418,
          1.890189265977048,
          2.485246483540718,
          2.0771104548475097,
          2.5322846197070796,
          2.2483169938615206,
          2.4634589302154395,
          2.2897825912088323,
          2.3878404870937455,
          2.19294000580183,
          2.690043738293634,
          2.2255353859570137,
          2.3025570217645166
         ],
         "y0": " ",
         "yaxis": "y"
        },
        {
         "alignmentgroup": "True",
         "hovertemplate": "Institucion=%{x}<br>SyntheticData=%{y}<extra></extra>",
         "legendgroup": "Afirme",
         "marker": {
          "color": "#008000"
         },
         "name": "Afirme",
         "notched": false,
         "offsetgroup": "Afirme",
         "orientation": "v",
         "showlegend": true,
         "type": "box",
         "x": [
          "Afirme",
          "Afirme",
          "Afirme",
          "Afirme",
          "Afirme",
          "Afirme",
          "Afirme",
          "Afirme",
          "Afirme",
          "Afirme",
          "Afirme",
          "Afirme",
          "Afirme",
          "Afirme",
          "Afirme",
          "Afirme",
          "Afirme",
          "Afirme",
          "Afirme",
          "Afirme",
          "Afirme",
          "Afirme",
          "Afirme",
          "Afirme",
          "Afirme",
          "Afirme",
          "Afirme",
          "Afirme",
          "Afirme",
          "Afirme",
          "Afirme",
          "Afirme",
          "Afirme",
          "Afirme",
          "Afirme",
          "Afirme",
          "Afirme",
          "Afirme",
          "Afirme",
          "Afirme",
          "Afirme",
          "Afirme",
          "Afirme",
          "Afirme",
          "Afirme",
          "Afirme",
          "Afirme",
          "Afirme",
          "Afirme",
          "Afirme",
          "Afirme",
          "Afirme",
          "Afirme",
          "Afirme",
          "Afirme",
          "Afirme",
          "Afirme",
          "Afirme",
          "Afirme",
          "Afirme",
          "Afirme",
          "Afirme",
          "Afirme",
          "Afirme",
          "Afirme",
          "Afirme",
          "Afirme",
          "Afirme",
          "Afirme",
          "Afirme",
          "Afirme",
          "Afirme",
          "Afirme",
          "Afirme",
          "Afirme",
          "Afirme",
          "Afirme",
          "Afirme",
          "Afirme",
          "Afirme",
          "Afirme",
          "Afirme",
          "Afirme",
          "Afirme",
          "Afirme",
          "Afirme",
          "Afirme",
          "Afirme",
          "Afirme",
          "Afirme",
          "Afirme",
          "Afirme",
          "Afirme",
          "Afirme",
          "Afirme",
          "Afirme",
          "Afirme",
          "Afirme",
          "Afirme",
          "Afirme"
         ],
         "x0": " ",
         "xaxis": "x",
         "y": [
          2.8321372741693294,
          2.3820518787611835,
          2.572983534754894,
          2.989494755736481,
          2.8662941367494894,
          1.9274982996407843,
          2.5635291777834444,
          2.2000521212617596,
          2.215937778908126,
          2.385497505639663,
          2.29753437848309,
          2.7299102572977816,
          2.501142449298508,
          2.2901527554426333,
          2.3964748668059905,
          2.360112528033508,
          2.7430460941420103,
          2.182297772957286,
          2.3533123415447976,
          1.9681484060304308,
          1.4075133607747539,
          2.465694136495319,
          2.5352639456236368,
          2.0050855432658743,
          2.9990190259159104,
          1.7700593273824077,
          2.265100310709477,
          2.1882293294914748,
          2.7558171407382908,
          2.7348883940670943,
          2.3011326504799823,
          2.3747936314687172,
          1.9570307032820629,
          1.596337165486104,
          2.13518899072237,
          2.3015951598043136,
          2.655995924640148,
          2.6467853500988556,
          2.1221821502553757,
          2.1502400923101392,
          1.9039775215278594,
          1.781394080730938,
          1.6869308370937457,
          2.8937558804264905,
          2.081814780021954,
          2.1054354804683086,
          1.8365775311835244,
          2.5065718174245304,
          1.717413710305876,
          2.17979570752939,
          1.9544960348060871,
          2.3776778242935563,
          2.081434304602272,
          1.860391379239604,
          2.240699864648244,
          2.391349517275038,
          2.2719506833864456,
          2.349815726254128,
          2.040673709085282,
          2.1302954152242446,
          2.028088052233936,
          2.1313474566916213,
          1.98166172692533,
          1.6803267412305467,
          2.3085506269437386,
          2.1174122910512736,
          1.7120345455012052,
          2.4027181443235053,
          1.95059153975353,
          2.2671419806127258,
          2.4905998855185874,
          2.2925643605499455,
          2.626002225899289,
          1.8425074792832947,
          2.382772741588591,
          2.0240126699896965,
          1.962636940769979,
          2.058979610627743,
          2.147187664397967,
          2.268534562935816,
          1.8655005525414923,
          2.547272740694882,
          2.4036686051110516,
          1.7430395835285162,
          2.741123223952548,
          2.8756434280900924,
          2.638997258482685,
          2.1906248041819243,
          1.896651634901521,
          2.597969069887275,
          2.1169516074988506,
          2.653406873226201,
          2.318730742765364,
          2.572290882039625,
          2.3676009110675524,
          2.483169145503343,
          2.2534650068378705,
          2.8393372629889257,
          2.2918809905921944,
          2.3826564899367515
         ],
         "y0": " ",
         "yaxis": "y"
        },
        {
         "alignmentgroup": "True",
         "hovertemplate": "Institucion=%{x}<br>SyntheticData=%{y}<extra></extra>",
         "legendgroup": "Banorte",
         "marker": {
          "color": "#d52b1e"
         },
         "name": "Banorte",
         "notched": false,
         "offsetgroup": "Banorte",
         "orientation": "v",
         "showlegend": true,
         "type": "box",
         "x": [
          "Banorte",
          "Banorte",
          "Banorte",
          "Banorte",
          "Banorte",
          "Banorte",
          "Banorte",
          "Banorte",
          "Banorte",
          "Banorte",
          "Banorte",
          "Banorte",
          "Banorte",
          "Banorte",
          "Banorte",
          "Banorte",
          "Banorte",
          "Banorte",
          "Banorte",
          "Banorte",
          "Banorte",
          "Banorte",
          "Banorte",
          "Banorte",
          "Banorte",
          "Banorte",
          "Banorte",
          "Banorte",
          "Banorte",
          "Banorte",
          "Banorte",
          "Banorte",
          "Banorte",
          "Banorte",
          "Banorte",
          "Banorte",
          "Banorte",
          "Banorte",
          "Banorte",
          "Banorte",
          "Banorte",
          "Banorte",
          "Banorte",
          "Banorte",
          "Banorte",
          "Banorte",
          "Banorte",
          "Banorte",
          "Banorte",
          "Banorte",
          "Banorte",
          "Banorte",
          "Banorte",
          "Banorte",
          "Banorte",
          "Banorte",
          "Banorte",
          "Banorte",
          "Banorte",
          "Banorte",
          "Banorte",
          "Banorte",
          "Banorte",
          "Banorte",
          "Banorte",
          "Banorte",
          "Banorte",
          "Banorte",
          "Banorte",
          "Banorte",
          "Banorte",
          "Banorte",
          "Banorte",
          "Banorte",
          "Banorte",
          "Banorte",
          "Banorte",
          "Banorte",
          "Banorte",
          "Banorte",
          "Banorte",
          "Banorte",
          "Banorte",
          "Banorte",
          "Banorte",
          "Banorte",
          "Banorte",
          "Banorte",
          "Banorte",
          "Banorte",
          "Banorte",
          "Banorte",
          "Banorte",
          "Banorte",
          "Banorte",
          "Banorte",
          "Banorte",
          "Banorte",
          "Banorte",
          "Banorte"
         ],
         "x0": " ",
         "xaxis": "x",
         "y": [
          2.8144967507096528,
          2.3780503066775114,
          2.5631961549138365,
          2.9670858237444664,
          2.8476185568479897,
          1.9372710784395486,
          2.5540282936081886,
          2.2015656933447367,
          2.2169699674260617,
          2.381391520620279,
          2.296093942771481,
          2.715367522228152,
          2.4935320720470378,
          2.288936005277705,
          2.392036234478536,
          2.3567757847597655,
          2.728105303410434,
          2.184349355594944,
          2.3501816645282885,
          1.9766893634234481,
          1.4330432589330948,
          2.4591579505409156,
          2.526619583635042,
          2.0125071934699386,
          2.9763214796760344,
          1.7846029841283952,
          2.2646427255364627,
          2.1901011679917333,
          2.7404893485947066,
          2.720194806368091,
          2.2995831762230132,
          2.3710120062726956,
          1.965908560758364,
          1.6161451301683434,
          2.138668112215631,
          2.3000316701132735,
          2.6436930178328706,
          2.6347615516110117,
          2.126055418429455,
          2.1532631198158927,
          1.9144630511785303,
          1.795594260102728,
          1.7039935389999958,
          2.8742481264741726,
          2.086911301839471,
          2.10981622348442,
          1.8491054847840236,
          2.498796913866211,
          1.7335526887814554,
          2.18192311033153,
          1.9634507004180237,
          2.373808799314964,
          2.0865423559779606,
          1.8721977010808282,
          2.2409816869316304,
          2.3870661985697335,
          2.271285511162614,
          2.34679100727673,
          2.0470169300220915,
          2.133922826884116,
          2.0348126567116958,
          2.134942988307027,
          1.9897931897457748,
          1.6975895672538632,
          2.306776365521201,
          2.121430100413356,
          1.7283365289708659,
          2.398090321768248,
          1.9596645233973624,
          2.2666225266547646,
          2.4833089798968118,
          2.2912745314423715,
          2.6146082190538564,
          1.854855737486831,
          2.3787493251768157,
          2.0308607708990998,
          1.9713449122617979,
          2.064768107275387,
          2.150303189719241,
          2.2679729095135186,
          1.8771520509493258,
          2.53826447582534,
          2.3990119807137473,
          1.7584020203912885,
          2.726240702014592,
          2.8566845363297864,
          2.6272094627710882,
          2.192424052540048,
          1.9073591611166263,
          2.587424552617964,
          2.1209833769685824,
          2.641182422522377,
          2.316647992984595,
          2.5625244916747882,
          2.3640372470958084,
          2.4761034138214235,
          2.2533600066306625,
          2.821478558049867,
          2.2906118696651583,
          2.3786365963023046
         ],
         "y0": " ",
         "yaxis": "y"
        },
        {
         "alignmentgroup": "True",
         "hovertemplate": "Institucion=%{x}<br>SyntheticData=%{y}<extra></extra>",
         "legendgroup": "BBVA Bancomer",
         "marker": {
          "color": "#006EC1"
         },
         "name": "BBVA Bancomer",
         "notched": false,
         "offsetgroup": "BBVA Bancomer",
         "orientation": "v",
         "showlegend": true,
         "type": "box",
         "x": [
          "BBVA Bancomer",
          "BBVA Bancomer",
          "BBVA Bancomer",
          "BBVA Bancomer",
          "BBVA Bancomer",
          "BBVA Bancomer",
          "BBVA Bancomer",
          "BBVA Bancomer",
          "BBVA Bancomer",
          "BBVA Bancomer",
          "BBVA Bancomer",
          "BBVA Bancomer",
          "BBVA Bancomer",
          "BBVA Bancomer",
          "BBVA Bancomer",
          "BBVA Bancomer",
          "BBVA Bancomer",
          "BBVA Bancomer",
          "BBVA Bancomer",
          "BBVA Bancomer",
          "BBVA Bancomer",
          "BBVA Bancomer",
          "BBVA Bancomer",
          "BBVA Bancomer",
          "BBVA Bancomer",
          "BBVA Bancomer",
          "BBVA Bancomer",
          "BBVA Bancomer",
          "BBVA Bancomer",
          "BBVA Bancomer",
          "BBVA Bancomer",
          "BBVA Bancomer",
          "BBVA Bancomer",
          "BBVA Bancomer",
          "BBVA Bancomer",
          "BBVA Bancomer",
          "BBVA Bancomer",
          "BBVA Bancomer",
          "BBVA Bancomer",
          "BBVA Bancomer",
          "BBVA Bancomer",
          "BBVA Bancomer",
          "BBVA Bancomer",
          "BBVA Bancomer",
          "BBVA Bancomer",
          "BBVA Bancomer",
          "BBVA Bancomer",
          "BBVA Bancomer",
          "BBVA Bancomer",
          "BBVA Bancomer",
          "BBVA Bancomer",
          "BBVA Bancomer",
          "BBVA Bancomer",
          "BBVA Bancomer",
          "BBVA Bancomer",
          "BBVA Bancomer",
          "BBVA Bancomer",
          "BBVA Bancomer",
          "BBVA Bancomer",
          "BBVA Bancomer",
          "BBVA Bancomer",
          "BBVA Bancomer",
          "BBVA Bancomer",
          "BBVA Bancomer",
          "BBVA Bancomer",
          "BBVA Bancomer",
          "BBVA Bancomer",
          "BBVA Bancomer",
          "BBVA Bancomer",
          "BBVA Bancomer",
          "BBVA Bancomer",
          "BBVA Bancomer",
          "BBVA Bancomer",
          "BBVA Bancomer",
          "BBVA Bancomer",
          "BBVA Bancomer",
          "BBVA Bancomer",
          "BBVA Bancomer",
          "BBVA Bancomer",
          "BBVA Bancomer",
          "BBVA Bancomer",
          "BBVA Bancomer",
          "BBVA Bancomer",
          "BBVA Bancomer",
          "BBVA Bancomer",
          "BBVA Bancomer",
          "BBVA Bancomer",
          "BBVA Bancomer",
          "BBVA Bancomer",
          "BBVA Bancomer",
          "BBVA Bancomer",
          "BBVA Bancomer",
          "BBVA Bancomer",
          "BBVA Bancomer",
          "BBVA Bancomer",
          "BBVA Bancomer",
          "BBVA Bancomer",
          "BBVA Bancomer",
          "BBVA Bancomer",
          "BBVA Bancomer"
         ],
         "x0": " ",
         "xaxis": "x",
         "y": [
          2.5346078518951494,
          2.3300235812550834,
          2.416810697615861,
          2.6061339798802186,
          2.550133698522495,
          2.1234083180185386,
          2.4125132626288384,
          2.2472964187553455,
          2.2545171722309663,
          2.3315897752907557,
          2.2916065356741315,
          2.4881410260444463,
          2.384155658772049,
          2.2882512524739242,
          2.3365794849118138,
          2.32005114910614,
          2.494111860973641,
          2.23922626043513,
          2.316960155247635,
          2.1418856391047414,
          1.8870515276248883,
          2.3680427893160543,
          2.399665429828926,
          2.158675246939034,
          2.6104631935981413,
          2.051845148810185,
          2.2768637775952167,
          2.241922422496125,
          2.4999168821537685,
          2.4904038154850427,
          2.2932421138545376,
          2.326724377940326,
          2.136832137855483,
          1.972880529766411,
          2.217813177601077,
          2.293452345365597,
          2.4545436021091582,
          2.4503569773176617,
          2.211900977388807,
          2.2246545874136996,
          2.112717055239936,
          2.0569973094231537,
          2.0140594714062483,
          2.5626163092847687,
          2.193552172737252,
          2.204288854758322,
          2.082080695992511,
          2.3866235533747866,
          2.027915322866307,
          2.238088957967905,
          2.135680015820949,
          2.328035374678889,
          2.1933792293646692,
          2.0929051723816383,
          2.2657726657492017,
          2.3342497805795626,
          2.2799775833574754,
          2.315370784660967,
          2.1748516859478553,
          2.2155888251019293,
          2.1691309328336073,
          2.216067025768919,
          2.148028057693332,
          2.0110576096502486,
          2.296613921338063,
          2.209732859568761,
          2.0254702479550932,
          2.3394173383288663,
          2.133905245342514,
          2.277791809369421,
          2.3793635843266308,
          2.2893474366136117,
          2.440910102681495,
          2.0847761269469522,
          2.3303512461766323,
          2.167278486358953,
          2.1393804276227177,
          2.1831725502853376,
          2.223267120180894,
          2.2784248013344617,
          2.0952275238824964,
          2.405123973043128,
          2.339849365959569,
          2.0395634470584163,
          2.49323782906934,
          2.5543833764045876,
          2.4468169356739478,
          2.2430112746281474,
          2.1093871067734185,
          2.4281677590396704,
          2.209523457954023,
          2.453366760557364,
          2.301241246711529,
          2.416495855472557,
          2.32345495957616,
          2.3759859752287924,
          2.271575003108123,
          2.537880574085875,
          2.289036813905543,
          2.3302984045167054
         ],
         "y0": " ",
         "yaxis": "y"
        },
        {
         "alignmentgroup": "True",
         "hovertemplate": "Institucion=%{x}<br>SyntheticData=%{y}<extra></extra>",
         "legendgroup": "Autofin",
         "marker": {
          "color": "#ffcc00"
         },
         "name": "Autofin",
         "notched": false,
         "offsetgroup": "Autofin",
         "orientation": "v",
         "showlegend": true,
         "type": "box",
         "x": [
          "Autofin",
          "Autofin",
          "Autofin",
          "Autofin",
          "Autofin",
          "Autofin",
          "Autofin",
          "Autofin",
          "Autofin",
          "Autofin",
          "Autofin",
          "Autofin",
          "Autofin",
          "Autofin",
          "Autofin",
          "Autofin",
          "Autofin",
          "Autofin",
          "Autofin",
          "Autofin",
          "Autofin",
          "Autofin",
          "Autofin",
          "Autofin",
          "Autofin",
          "Autofin",
          "Autofin",
          "Autofin",
          "Autofin",
          "Autofin",
          "Autofin",
          "Autofin",
          "Autofin",
          "Autofin",
          "Autofin",
          "Autofin",
          "Autofin",
          "Autofin",
          "Autofin",
          "Autofin",
          "Autofin",
          "Autofin",
          "Autofin",
          "Autofin",
          "Autofin",
          "Autofin",
          "Autofin",
          "Autofin",
          "Autofin",
          "Autofin",
          "Autofin",
          "Autofin",
          "Autofin",
          "Autofin",
          "Autofin",
          "Autofin",
          "Autofin",
          "Autofin",
          "Autofin",
          "Autofin",
          "Autofin",
          "Autofin",
          "Autofin",
          "Autofin",
          "Autofin",
          "Autofin",
          "Autofin",
          "Autofin",
          "Autofin",
          "Autofin",
          "Autofin",
          "Autofin",
          "Autofin",
          "Autofin",
          "Autofin",
          "Autofin",
          "Autofin",
          "Autofin",
          "Autofin",
          "Autofin",
          "Autofin",
          "Autofin",
          "Autofin",
          "Autofin",
          "Autofin",
          "Autofin",
          "Autofin",
          "Autofin",
          "Autofin",
          "Autofin",
          "Autofin",
          "Autofin",
          "Autofin",
          "Autofin",
          "Autofin",
          "Autofin",
          "Autofin",
          "Autofin",
          "Autofin",
          "Autofin"
         ],
         "x0": " ",
         "xaxis": "x",
         "y": [
          2.605169945733856,
          2.3460298695897723,
          2.4559602169800905,
          2.695769707848277,
          2.624836018128494,
          2.084317202823482,
          2.450516799329862,
          2.2412421304234376,
          2.250388418159224,
          2.3480137153682907,
          2.2973682785205667,
          2.5463119663229654,
          2.414597167777929,
          2.2931182531336374,
          2.3543340142216307,
          2.333398122201111,
          2.5538750238999453,
          2.2310199298844977,
          2.3294828633136713,
          2.107721809532672,
          1.7849319349915251,
          2.3941875331336684,
          2.4342428777833063,
          2.1289886461227763,
          2.7012533785576456,
          1.9936705218262347,
          2.278694118287275,
          2.2344350684950918,
          2.561228050728107,
          2.549178166281054,
          2.2994400108824142,
          2.341850878724413,
          2.1013207079502787,
          1.8936486710374538,
          2.203896691628031,
          2.299706304129756,
          2.503755229338267,
          2.498452171269038,
          2.196407904692489,
          2.2125624773906862,
          2.0707749366372523,
          2.0001965919359947,
          1.9458086637812477,
          2.64064732509404,
          2.173166085467186,
          2.1867658826938747,
          2.031968881590514,
          2.417723167608063,
          1.9633594089639892,
          2.229579346759346,
          2.0998613533732016,
          2.3435114745932597,
          2.172947023861914,
          2.045679885016742,
          2.264645376615656,
          2.3513830554007793,
          2.282638272252802,
          2.3274696605705585,
          2.149478802200617,
          2.201079178462444,
          2.1422325149225694,
          2.2016848993072973,
          2.115502206411554,
          1.9420063055569814,
          2.303710967028213,
          2.1936616221204304,
          1.9602623140764515,
          2.3579286285498973,
          2.097613310767184,
          2.2798696252012665,
          2.4085272068137322,
          2.294506753043908,
          2.486486130063227,
          2.035383094132806,
          2.3464449118237343,
          2.1398860827213406,
          2.1045485416554426,
          2.160018563694761,
          2.2108050188957993,
          2.280671415023652,
          2.0486215302511623,
          2.4411570325212955,
          2.3584758635487875,
          1.9781136996073276,
          2.552767916821164,
          2.630218943445811,
          2.4939681185203337,
          2.2358142811956534,
          2.066557001912997,
          2.470345828116916,
          2.1933963800750957,
          2.5022645633726612,
          2.3095722458346035,
          2.4555614169319053,
          2.3377096154631363,
          2.4042489019564703,
          2.271995003936956,
          2.6093153938421088,
          2.2941132976136878,
          2.3463779790544934
         ],
         "y0": " ",
         "yaxis": "y"
        }
       ],
       "layout": {
        "autosize": true,
        "boxmode": "overlay",
        "legend": {
         "title": {
          "text": "Institucion"
         },
         "tracegroupgap": 0
        },
        "template": {
         "data": {
          "bar": [
           {
            "error_x": {
             "color": "#2a3f5f"
            },
            "error_y": {
             "color": "#2a3f5f"
            },
            "marker": {
             "line": {
              "color": "#E5ECF6",
              "width": 0.5
             },
             "pattern": {
              "fillmode": "overlay",
              "size": 10,
              "solidity": 0.2
             }
            },
            "type": "bar"
           }
          ],
          "barpolar": [
           {
            "marker": {
             "line": {
              "color": "#E5ECF6",
              "width": 0.5
             },
             "pattern": {
              "fillmode": "overlay",
              "size": 10,
              "solidity": 0.2
             }
            },
            "type": "barpolar"
           }
          ],
          "carpet": [
           {
            "aaxis": {
             "endlinecolor": "#2a3f5f",
             "gridcolor": "white",
             "linecolor": "white",
             "minorgridcolor": "white",
             "startlinecolor": "#2a3f5f"
            },
            "baxis": {
             "endlinecolor": "#2a3f5f",
             "gridcolor": "white",
             "linecolor": "white",
             "minorgridcolor": "white",
             "startlinecolor": "#2a3f5f"
            },
            "type": "carpet"
           }
          ],
          "choropleth": [
           {
            "colorbar": {
             "outlinewidth": 0,
             "ticks": ""
            },
            "type": "choropleth"
           }
          ],
          "contour": [
           {
            "colorbar": {
             "outlinewidth": 0,
             "ticks": ""
            },
            "colorscale": [
             [
              0,
              "#0d0887"
             ],
             [
              0.1111111111111111,
              "#46039f"
             ],
             [
              0.2222222222222222,
              "#7201a8"
             ],
             [
              0.3333333333333333,
              "#9c179e"
             ],
             [
              0.4444444444444444,
              "#bd3786"
             ],
             [
              0.5555555555555556,
              "#d8576b"
             ],
             [
              0.6666666666666666,
              "#ed7953"
             ],
             [
              0.7777777777777778,
              "#fb9f3a"
             ],
             [
              0.8888888888888888,
              "#fdca26"
             ],
             [
              1,
              "#f0f921"
             ]
            ],
            "type": "contour"
           }
          ],
          "contourcarpet": [
           {
            "colorbar": {
             "outlinewidth": 0,
             "ticks": ""
            },
            "type": "contourcarpet"
           }
          ],
          "heatmap": [
           {
            "colorbar": {
             "outlinewidth": 0,
             "ticks": ""
            },
            "colorscale": [
             [
              0,
              "#0d0887"
             ],
             [
              0.1111111111111111,
              "#46039f"
             ],
             [
              0.2222222222222222,
              "#7201a8"
             ],
             [
              0.3333333333333333,
              "#9c179e"
             ],
             [
              0.4444444444444444,
              "#bd3786"
             ],
             [
              0.5555555555555556,
              "#d8576b"
             ],
             [
              0.6666666666666666,
              "#ed7953"
             ],
             [
              0.7777777777777778,
              "#fb9f3a"
             ],
             [
              0.8888888888888888,
              "#fdca26"
             ],
             [
              1,
              "#f0f921"
             ]
            ],
            "type": "heatmap"
           }
          ],
          "heatmapgl": [
           {
            "colorbar": {
             "outlinewidth": 0,
             "ticks": ""
            },
            "colorscale": [
             [
              0,
              "#0d0887"
             ],
             [
              0.1111111111111111,
              "#46039f"
             ],
             [
              0.2222222222222222,
              "#7201a8"
             ],
             [
              0.3333333333333333,
              "#9c179e"
             ],
             [
              0.4444444444444444,
              "#bd3786"
             ],
             [
              0.5555555555555556,
              "#d8576b"
             ],
             [
              0.6666666666666666,
              "#ed7953"
             ],
             [
              0.7777777777777778,
              "#fb9f3a"
             ],
             [
              0.8888888888888888,
              "#fdca26"
             ],
             [
              1,
              "#f0f921"
             ]
            ],
            "type": "heatmapgl"
           }
          ],
          "histogram": [
           {
            "marker": {
             "pattern": {
              "fillmode": "overlay",
              "size": 10,
              "solidity": 0.2
             }
            },
            "type": "histogram"
           }
          ],
          "histogram2d": [
           {
            "colorbar": {
             "outlinewidth": 0,
             "ticks": ""
            },
            "colorscale": [
             [
              0,
              "#0d0887"
             ],
             [
              0.1111111111111111,
              "#46039f"
             ],
             [
              0.2222222222222222,
              "#7201a8"
             ],
             [
              0.3333333333333333,
              "#9c179e"
             ],
             [
              0.4444444444444444,
              "#bd3786"
             ],
             [
              0.5555555555555556,
              "#d8576b"
             ],
             [
              0.6666666666666666,
              "#ed7953"
             ],
             [
              0.7777777777777778,
              "#fb9f3a"
             ],
             [
              0.8888888888888888,
              "#fdca26"
             ],
             [
              1,
              "#f0f921"
             ]
            ],
            "type": "histogram2d"
           }
          ],
          "histogram2dcontour": [
           {
            "colorbar": {
             "outlinewidth": 0,
             "ticks": ""
            },
            "colorscale": [
             [
              0,
              "#0d0887"
             ],
             [
              0.1111111111111111,
              "#46039f"
             ],
             [
              0.2222222222222222,
              "#7201a8"
             ],
             [
              0.3333333333333333,
              "#9c179e"
             ],
             [
              0.4444444444444444,
              "#bd3786"
             ],
             [
              0.5555555555555556,
              "#d8576b"
             ],
             [
              0.6666666666666666,
              "#ed7953"
             ],
             [
              0.7777777777777778,
              "#fb9f3a"
             ],
             [
              0.8888888888888888,
              "#fdca26"
             ],
             [
              1,
              "#f0f921"
             ]
            ],
            "type": "histogram2dcontour"
           }
          ],
          "mesh3d": [
           {
            "colorbar": {
             "outlinewidth": 0,
             "ticks": ""
            },
            "type": "mesh3d"
           }
          ],
          "parcoords": [
           {
            "line": {
             "colorbar": {
              "outlinewidth": 0,
              "ticks": ""
             }
            },
            "type": "parcoords"
           }
          ],
          "pie": [
           {
            "automargin": true,
            "type": "pie"
           }
          ],
          "scatter": [
           {
            "fillpattern": {
             "fillmode": "overlay",
             "size": 10,
             "solidity": 0.2
            },
            "type": "scatter"
           }
          ],
          "scatter3d": [
           {
            "line": {
             "colorbar": {
              "outlinewidth": 0,
              "ticks": ""
             }
            },
            "marker": {
             "colorbar": {
              "outlinewidth": 0,
              "ticks": ""
             }
            },
            "type": "scatter3d"
           }
          ],
          "scattercarpet": [
           {
            "marker": {
             "colorbar": {
              "outlinewidth": 0,
              "ticks": ""
             }
            },
            "type": "scattercarpet"
           }
          ],
          "scattergeo": [
           {
            "marker": {
             "colorbar": {
              "outlinewidth": 0,
              "ticks": ""
             }
            },
            "type": "scattergeo"
           }
          ],
          "scattergl": [
           {
            "marker": {
             "colorbar": {
              "outlinewidth": 0,
              "ticks": ""
             }
            },
            "type": "scattergl"
           }
          ],
          "scattermapbox": [
           {
            "marker": {
             "colorbar": {
              "outlinewidth": 0,
              "ticks": ""
             }
            },
            "type": "scattermapbox"
           }
          ],
          "scatterpolar": [
           {
            "marker": {
             "colorbar": {
              "outlinewidth": 0,
              "ticks": ""
             }
            },
            "type": "scatterpolar"
           }
          ],
          "scatterpolargl": [
           {
            "marker": {
             "colorbar": {
              "outlinewidth": 0,
              "ticks": ""
             }
            },
            "type": "scatterpolargl"
           }
          ],
          "scatterternary": [
           {
            "marker": {
             "colorbar": {
              "outlinewidth": 0,
              "ticks": ""
             }
            },
            "type": "scatterternary"
           }
          ],
          "surface": [
           {
            "colorbar": {
             "outlinewidth": 0,
             "ticks": ""
            },
            "colorscale": [
             [
              0,
              "#0d0887"
             ],
             [
              0.1111111111111111,
              "#46039f"
             ],
             [
              0.2222222222222222,
              "#7201a8"
             ],
             [
              0.3333333333333333,
              "#9c179e"
             ],
             [
              0.4444444444444444,
              "#bd3786"
             ],
             [
              0.5555555555555556,
              "#d8576b"
             ],
             [
              0.6666666666666666,
              "#ed7953"
             ],
             [
              0.7777777777777778,
              "#fb9f3a"
             ],
             [
              0.8888888888888888,
              "#fdca26"
             ],
             [
              1,
              "#f0f921"
             ]
            ],
            "type": "surface"
           }
          ],
          "table": [
           {
            "cells": {
             "fill": {
              "color": "#EBF0F8"
             },
             "line": {
              "color": "white"
             }
            },
            "header": {
             "fill": {
              "color": "#C8D4E3"
             },
             "line": {
              "color": "white"
             }
            },
            "type": "table"
           }
          ]
         },
         "layout": {
          "annotationdefaults": {
           "arrowcolor": "#2a3f5f",
           "arrowhead": 0,
           "arrowwidth": 1
          },
          "autotypenumbers": "strict",
          "coloraxis": {
           "colorbar": {
            "outlinewidth": 0,
            "ticks": ""
           }
          },
          "colorscale": {
           "diverging": [
            [
             0,
             "#8e0152"
            ],
            [
             0.1,
             "#c51b7d"
            ],
            [
             0.2,
             "#de77ae"
            ],
            [
             0.3,
             "#f1b6da"
            ],
            [
             0.4,
             "#fde0ef"
            ],
            [
             0.5,
             "#f7f7f7"
            ],
            [
             0.6,
             "#e6f5d0"
            ],
            [
             0.7,
             "#b8e186"
            ],
            [
             0.8,
             "#7fbc41"
            ],
            [
             0.9,
             "#4d9221"
            ],
            [
             1,
             "#276419"
            ]
           ],
           "sequential": [
            [
             0,
             "#0d0887"
            ],
            [
             0.1111111111111111,
             "#46039f"
            ],
            [
             0.2222222222222222,
             "#7201a8"
            ],
            [
             0.3333333333333333,
             "#9c179e"
            ],
            [
             0.4444444444444444,
             "#bd3786"
            ],
            [
             0.5555555555555556,
             "#d8576b"
            ],
            [
             0.6666666666666666,
             "#ed7953"
            ],
            [
             0.7777777777777778,
             "#fb9f3a"
            ],
            [
             0.8888888888888888,
             "#fdca26"
            ],
            [
             1,
             "#f0f921"
            ]
           ],
           "sequentialminus": [
            [
             0,
             "#0d0887"
            ],
            [
             0.1111111111111111,
             "#46039f"
            ],
            [
             0.2222222222222222,
             "#7201a8"
            ],
            [
             0.3333333333333333,
             "#9c179e"
            ],
            [
             0.4444444444444444,
             "#bd3786"
            ],
            [
             0.5555555555555556,
             "#d8576b"
            ],
            [
             0.6666666666666666,
             "#ed7953"
            ],
            [
             0.7777777777777778,
             "#fb9f3a"
            ],
            [
             0.8888888888888888,
             "#fdca26"
            ],
            [
             1,
             "#f0f921"
            ]
           ]
          },
          "colorway": [
           "#636efa",
           "#EF553B",
           "#00cc96",
           "#ab63fa",
           "#FFA15A",
           "#19d3f3",
           "#FF6692",
           "#B6E880",
           "#FF97FF",
           "#FECB52"
          ],
          "font": {
           "color": "#2a3f5f"
          },
          "geo": {
           "bgcolor": "white",
           "lakecolor": "white",
           "landcolor": "#E5ECF6",
           "showlakes": true,
           "showland": true,
           "subunitcolor": "white"
          },
          "hoverlabel": {
           "align": "left"
          },
          "hovermode": "closest",
          "mapbox": {
           "style": "light"
          },
          "paper_bgcolor": "white",
          "plot_bgcolor": "#E5ECF6",
          "polar": {
           "angularaxis": {
            "gridcolor": "white",
            "linecolor": "white",
            "ticks": ""
           },
           "bgcolor": "#E5ECF6",
           "radialaxis": {
            "gridcolor": "white",
            "linecolor": "white",
            "ticks": ""
           }
          },
          "scene": {
           "xaxis": {
            "backgroundcolor": "#E5ECF6",
            "gridcolor": "white",
            "gridwidth": 2,
            "linecolor": "white",
            "showbackground": true,
            "ticks": "",
            "zerolinecolor": "white"
           },
           "yaxis": {
            "backgroundcolor": "#E5ECF6",
            "gridcolor": "white",
            "gridwidth": 2,
            "linecolor": "white",
            "showbackground": true,
            "ticks": "",
            "zerolinecolor": "white"
           },
           "zaxis": {
            "backgroundcolor": "#E5ECF6",
            "gridcolor": "white",
            "gridwidth": 2,
            "linecolor": "white",
            "showbackground": true,
            "ticks": "",
            "zerolinecolor": "white"
           }
          },
          "shapedefaults": {
           "line": {
            "color": "#2a3f5f"
           }
          },
          "ternary": {
           "aaxis": {
            "gridcolor": "white",
            "linecolor": "white",
            "ticks": ""
           },
           "baxis": {
            "gridcolor": "white",
            "linecolor": "white",
            "ticks": ""
           },
           "bgcolor": "#E5ECF6",
           "caxis": {
            "gridcolor": "white",
            "linecolor": "white",
            "ticks": ""
           }
          },
          "title": {
           "x": 0.05
          },
          "xaxis": {
           "automargin": true,
           "gridcolor": "white",
           "linecolor": "white",
           "ticks": "",
           "title": {
            "standoff": 15
           },
           "zerolinecolor": "white",
           "zerolinewidth": 2
          },
          "yaxis": {
           "automargin": true,
           "gridcolor": "white",
           "linecolor": "white",
           "ticks": "",
           "title": {
            "standoff": 15
           },
           "zerolinecolor": "white",
           "zerolinewidth": 2
          }
         }
        },
        "title": {
         "text": "Crédito"
        },
        "xaxis": {
         "anchor": "y",
         "autorange": true,
         "categoryarray": [
          "EVO",
          "Mifel",
          "Dlocal",
          "Getnet",
          "Afirme",
          "Banorte",
          "BBVA Bancomer",
          "Autofin"
         ],
         "categoryorder": "array",
         "domain": [
          0,
          1
         ],
         "range": [
          -0.5,
          7.5
         ],
         "title": {
          "text": "Institución"
         },
         "type": "category"
        },
        "yaxis": {
         "anchor": "x",
         "autorange": true,
         "domain": [
          0,
          1
         ],
         "range": [
          0.878795172504031,
          3.236581343083522
         ],
         "title": {
          "text": "Tasa de Descuento (Crédito)"
         },
         "type": "linear"
        }
       }
      },
      "image/png": "[encoded data removed]",
      "text/html": [
       "<div>                            <div id=\"dc3a5aa0-2d1f-4e32-92e8-85b78687dede\" class=\"plotly-graph-div\" style=\"height:525px; width:100%;\"></div>            <script type=\"text/javascript\">                require([\"plotly\"], function(Plotly) {                    window.PLOTLYENV=window.PLOTLYENV || {};                                    if (document.getElementById(\"dc3a5aa0-2d1f-4e32-92e8-85b78687dede\")) {                    Plotly.newPlot(                        \"dc3a5aa0-2d1f-4e32-92e8-85b78687dede\",                        [{\"alignmentgroup\":\"True\",\"hovertemplate\":\"Institucion=%{x}\\u003cbr\\u003eSyntheticData=%{y}\\u003cextra\\u003e\\u003c\\u002fextra\\u003e\",\"legendgroup\":\"EVO\",\"marker\":{\"color\":\"#0f4990\"},\"name\":\"EVO\",\"notched\":false,\"offsetgroup\":\"EVO\",\"orientation\":\"v\",\"showlegend\":true,\"x\":[\"EVO\",\"EVO\",\"EVO\",\"EVO\",\"EVO\",\"EVO\",\"EVO\",\"EVO\",\"EVO\",\"EVO\",\"EVO\",\"EVO\",\"EVO\",\"EVO\",\"EVO\",\"EVO\",\"EVO\",\"EVO\",\"EVO\",\"EVO\",\"EVO\",\"EVO\",\"EVO\",\"EVO\",\"EVO\",\"EVO\",\"EVO\",\"EVO\",\"EVO\",\"EVO\",\"EVO\",\"EVO\",\"EVO\",\"EVO\",\"EVO\",\"EVO\",\"EVO\",\"EVO\",\"EVO\",\"EVO\",\"EVO\",\"EVO\",\"EVO\",\"EVO\",\"EVO\",\"EVO\",\"EVO\",\"EVO\",\"EVO\",\"EVO\",\"EVO\",\"EVO\",\"EVO\",\"EVO\",\"EVO\",\"EVO\",\"EVO\",\"EVO\",\"EVO\",\"EVO\",\"EVO\",\"EVO\",\"EVO\",\"EVO\",\"EVO\",\"EVO\",\"EVO\",\"EVO\",\"EVO\",\"EVO\",\"EVO\",\"EVO\",\"EVO\",\"EVO\",\"EVO\",\"EVO\",\"EVO\",\"EVO\",\"EVO\",\"EVO\",\"EVO\",\"EVO\",\"EVO\",\"EVO\",\"EVO\",\"EVO\",\"EVO\",\"EVO\",\"EVO\",\"EVO\",\"EVO\",\"EVO\",\"EVO\",\"EVO\",\"EVO\",\"EVO\",\"EVO\",\"EVO\",\"EVO\",\"EVO\"],\"x0\":\" \",\"xaxis\":\"x\",\"y\":[2.196967328435473,2.0060220091714114,2.0870233177748037,2.263725047888204,2.2114581186209956,1.8131810968173023,2.0830123784535823,1.9288099908383223,1.9355493607489018,2.007483790271372,1.9701660999625228,2.1535982909748164,2.056545281520579,1.967034502308996,2.0121408525843596,1.9967144058323973,2.159171070242065,1.921277843072788,1.993829478231126,1.8304265964977584,1.592581425783229,2.0415066033616505,2.0710210678403307,1.846096897143098,2.267765647358265,1.746388805556173,1.9564061924222025,1.9237942609963832,2.164589090010184,2.15571022778604,1.9716926395975682,2.0029427527443042,1.8257099953317841,1.6726884944486502,1.9012922990943386,1.971888855674557,2.1222406953018806,2.1183331788298174,1.8957742455628865,1.907677614919453,1.803202584890607,1.7511974887949435,1.7111221733124982,2.2231085553324506,1.8786486945547685,1.8886695977744339,1.7746086495930102,2.0588486498164675,1.7240543013418868,1.9202163607700444,1.8246346814328853,2.004166349700297,1.8784872807403576,1.7847114942228623,1.9460544880325883,2.0099664618742583,1.9593124111336435,1.9923460656835694,1.861194906884665,1.8992162367618006,1.8558555373113668,1.8996625573843242,1.8361595205137764,1.7083204356735653,1.9748396599155253,1.8937506689308432,1.7217722314247537,2.014789515773608,1.822978228986346,1.9572723554114595,2.0520726787048553,1.9680576075060374,2.109516095836062,1.7771243851504885,2.006327829764857,1.854126587268356,1.8280883991145365,1.8689610469329818,1.9063826455021677,1.9578631479121644,1.78687902229033,2.076115708173586,2.0151927415622644,1.7349258839211885,2.158355307131384,2.2154244846442817,2.115029139962351,1.9248105229862709,1.800094632988524,2.0976232417703593,1.8935552274237548,2.12114230985354,1.9791584969307603,2.08672946510772,1.9998912956044161,2.0489202435468727,1.9514700029009149,2.2000218691468167,1.9677676929785068,2.0062785108822583],\"y0\":\" \",\"yaxis\":\"y\",\"type\":\"box\"},{\"alignmentgroup\":\"True\",\"hovertemplate\":\"Institucion=%{x}\\u003cbr\\u003eSyntheticData=%{y}\\u003cextra\\u003e\\u003c\\u002fextra\\u003e\",\"legendgroup\":\"Mifel\",\"marker\":{\"color\":\"#004e98\"},\"name\":\"Mifel\",\"notched\":false,\"offsetgroup\":\"Mifel\",\"orientation\":\"v\",\"showlegend\":true,\"x\":[\"Mifel\",\"Mifel\",\"Mifel\",\"Mifel\",\"Mifel\",\"Mifel\",\"Mifel\",\"Mifel\",\"Mifel\",\"Mifel\",\"Mifel\",\"Mifel\",\"Mifel\",\"Mifel\",\"Mifel\",\"Mifel\",\"Mifel\",\"Mifel\",\"Mifel\",\"Mifel\",\"Mifel\",\"Mifel\",\"Mifel\",\"Mifel\",\"Mifel\",\"Mifel\",\"Mifel\",\"Mifel\",\"Mifel\",\"Mifel\",\"Mifel\",\"Mifel\",\"Mifel\",\"Mifel\",\"Mifel\",\"Mifel\",\"Mifel\",\"Mifel\",\"Mifel\",\"Mifel\",\"Mifel\",\"Mifel\",\"Mifel\",\"Mifel\",\"Mifel\",\"Mifel\",\"Mifel\",\"Mifel\",\"Mifel\",\"Mifel\",\"Mifel\",\"Mifel\",\"Mifel\",\"Mifel\",\"Mifel\",\"Mifel\",\"Mifel\",\"Mifel\",\"Mifel\",\"Mifel\",\"Mifel\",\"Mifel\",\"Mifel\",\"Mifel\",\"Mifel\",\"Mifel\",\"Mifel\",\"Mifel\",\"Mifel\",\"Mifel\",\"Mifel\",\"Mifel\",\"Mifel\",\"Mifel\",\"Mifel\",\"Mifel\",\"Mifel\",\"Mifel\",\"Mifel\",\"Mifel\",\"Mifel\",\"Mifel\",\"Mifel\",\"Mifel\",\"Mifel\",\"Mifel\",\"Mifel\",\"Mifel\",\"Mifel\",\"Mifel\",\"Mifel\",\"Mifel\",\"Mifel\",\"Mifel\",\"Mifel\",\"Mifel\",\"Mifel\",\"Mifel\",\"Mifel\",\"Mifel\"],\"x0\":\" \",\"xaxis\":\"x\",\"y\":[2.8961830322257724,2.2960691716815784,2.5506447130065255,3.1059930076486415,2.941725515665986,1.6899977328543794,2.5380389037112594,2.053402828349013,2.0745837052108347,2.300663340852884,2.1833791713107864,2.759880343063709,2.4548565990646773,2.1735370072568445,2.3152998224079875,2.2668167040446776,2.7773947921893467,2.0297303639430475,2.2577497887263966,1.744197874707241,0.9966844810330056,2.407592181993759,2.5003519274981825,1.7934473910211657,3.1186920345545475,1.4800791031765437,2.1401337476126363,2.0376391059886334,2.7944228543177214,2.7665178587561257,2.1881768673066433,2.2863915086249564,1.7293742710427504,1.2484495539814722,1.966918654296493,2.1887935464057513,2.661327899520197,2.649047133465141,1.949576200340501,1.9869867897468525,1.6586366953704794,1.4951921076412509,1.3692411161249947,2.9783411739019874,1.8957530400292726,1.927247307291078,1.5687700415780326,2.4620957565660406,1.4098849470745014,2.026394276705854,1.7259947130747828,2.2902370990580754,1.895245739469696,1.6005218389861389,2.107599819530992,2.3084660230333838,2.149267577848594,2.253087635005504,1.840898278780376,1.9603938869656594,1.8241174029785816,1.961796608922162,1.7622156359004404,1.3604356549740624,2.1980675025916514,1.9432163880683648,1.4027127273349405,2.3236241924313408,1.7207887196713736,2.1428559741503013,2.4407998473581163,2.1767524807332608,2.6213363011990523,1.576676639044393,2.297030322118122,1.8186835599862623,1.736849254359972,1.8653061475036572,1.982916885863956,2.144712750581088,1.6073340700553231,2.5163636542598424,2.3248914734814026,1.4440527780380217,2.774830965270064,2.9541912374534567,2.6386630113102463,2.040833072242566,1.6488688465353614,2.5839587598497005,1.942602143331801,2.657875830968268,2.2116409903538186,2.5497211760528335,2.276801214756737,2.4308921940044574,2.124620009117161,2.9057830173185675,2.175841320789593,2.296875319915669],\"y0\":\" \",\"yaxis\":\"y\",\"type\":\"box\"},{\"alignmentgroup\":\"True\",\"hovertemplate\":\"Institucion=%{x}\\u003cbr\\u003eSyntheticData=%{y}\\u003cextra\\u003e\\u003c\\u002fextra\\u003e\",\"legendgroup\":\"Dlocal\",\"marker\":{\"color\":\"#000e39\"},\"name\":\"Dlocal\",\"notched\":false,\"offsetgroup\":\"Dlocal\",\"orientation\":\"v\",\"showlegend\":true,\"x\":[\"Dlocal\",\"Dlocal\",\"Dlocal\",\"Dlocal\",\"Dlocal\",\"Dlocal\",\"Dlocal\",\"Dlocal\",\"Dlocal\",\"Dlocal\",\"Dlocal\",\"Dlocal\",\"Dlocal\",\"Dlocal\",\"Dlocal\",\"Dlocal\",\"Dlocal\",\"Dlocal\",\"Dlocal\",\"Dlocal\",\"Dlocal\",\"Dlocal\",\"Dlocal\",\"Dlocal\",\"Dlocal\",\"Dlocal\",\"Dlocal\",\"Dlocal\",\"Dlocal\",\"Dlocal\",\"Dlocal\",\"Dlocal\",\"Dlocal\",\"Dlocal\",\"Dlocal\",\"Dlocal\",\"Dlocal\",\"Dlocal\",\"Dlocal\",\"Dlocal\",\"Dlocal\",\"Dlocal\",\"Dlocal\",\"Dlocal\",\"Dlocal\",\"Dlocal\",\"Dlocal\",\"Dlocal\",\"Dlocal\",\"Dlocal\",\"Dlocal\",\"Dlocal\",\"Dlocal\",\"Dlocal\",\"Dlocal\",\"Dlocal\",\"Dlocal\",\"Dlocal\",\"Dlocal\",\"Dlocal\",\"Dlocal\",\"Dlocal\",\"Dlocal\",\"Dlocal\",\"Dlocal\",\"Dlocal\",\"Dlocal\",\"Dlocal\",\"Dlocal\",\"Dlocal\",\"Dlocal\",\"Dlocal\",\"Dlocal\",\"Dlocal\",\"Dlocal\",\"Dlocal\",\"Dlocal\",\"Dlocal\",\"Dlocal\",\"Dlocal\",\"Dlocal\",\"Dlocal\",\"Dlocal\",\"Dlocal\",\"Dlocal\",\"Dlocal\",\"Dlocal\",\"Dlocal\",\"Dlocal\",\"Dlocal\",\"Dlocal\",\"Dlocal\",\"Dlocal\",\"Dlocal\",\"Dlocal\",\"Dlocal\",\"Dlocal\",\"Dlocal\",\"Dlocal\",\"Dlocal\"],\"x0\":\" \",\"xaxis\":\"x\",\"y\":[2.15,2.15,2.15,2.15,2.15,2.15,2.15,2.15,2.15,2.15,2.15,2.15,2.15,2.15,2.15,2.15,2.15,2.15,2.15,2.15,2.15,2.15,2.15,2.15,2.15,2.15,2.15,2.15,2.15,2.15,2.15,2.15,2.15,2.15,2.15,2.15,2.15,2.15,2.15,2.15,2.15,2.15,2.15,2.15,2.15,2.15,2.15,2.15,2.15,2.15,2.15,2.15,2.15,2.15,2.15,2.15,2.15,2.15,2.15,2.15,2.15,2.15,2.15,2.15,2.15,2.15,2.15,2.15,2.15,2.15,2.15,2.15,2.15,2.15,2.15,2.15,2.15,2.15,2.15,2.15,2.15,2.15,2.15,2.15,2.15,2.15,2.15,2.15,2.15,2.15,2.15,2.15,2.15,2.15,2.15,2.15,2.15,2.15,2.15,2.15],\"y0\":\" \",\"yaxis\":\"y\",\"type\":\"box\"},{\"alignmentgroup\":\"True\",\"hovertemplate\":\"Institucion=%{x}\\u003cbr\\u003eSyntheticData=%{y}\\u003cextra\\u003e\\u003c\\u002fextra\\u003e\",\"legendgroup\":\"Getnet\",\"marker\":{\"color\":\"#ff0000\"},\"name\":\"Getnet\",\"notched\":false,\"offsetgroup\":\"Getnet\",\"orientation\":\"v\",\"showlegend\":true,\"x\":[\"Getnet\",\"Getnet\",\"Getnet\",\"Getnet\",\"Getnet\",\"Getnet\",\"Getnet\",\"Getnet\",\"Getnet\",\"Getnet\",\"Getnet\",\"Getnet\",\"Getnet\",\"Getnet\",\"Getnet\",\"Getnet\",\"Getnet\",\"Getnet\",\"Getnet\",\"Getnet\",\"Getnet\",\"Getnet\",\"Getnet\",\"Getnet\",\"Getnet\",\"Getnet\",\"Getnet\",\"Getnet\",\"Getnet\",\"Getnet\",\"Getnet\",\"Getnet\",\"Getnet\",\"Getnet\",\"Getnet\",\"Getnet\",\"Getnet\",\"Getnet\",\"Getnet\",\"Getnet\",\"Getnet\",\"Getnet\",\"Getnet\",\"Getnet\",\"Getnet\",\"Getnet\",\"Getnet\",\"Getnet\",\"Getnet\",\"Getnet\",\"Getnet\",\"Getnet\",\"Getnet\",\"Getnet\",\"Getnet\",\"Getnet\",\"Getnet\",\"Getnet\",\"Getnet\",\"Getnet\",\"Getnet\",\"Getnet\",\"Getnet\",\"Getnet\",\"Getnet\",\"Getnet\",\"Getnet\",\"Getnet\",\"Getnet\",\"Getnet\",\"Getnet\",\"Getnet\",\"Getnet\",\"Getnet\",\"Getnet\",\"Getnet\",\"Getnet\",\"Getnet\",\"Getnet\",\"Getnet\",\"Getnet\",\"Getnet\",\"Getnet\",\"Getnet\",\"Getnet\",\"Getnet\",\"Getnet\",\"Getnet\",\"Getnet\",\"Getnet\",\"Getnet\",\"Getnet\",\"Getnet\",\"Getnet\",\"Getnet\",\"Getnet\",\"Getnet\",\"Getnet\",\"Getnet\",\"Getnet\"],\"x0\":\" \",\"xaxis\":\"x\",\"y\":[2.683934656870946,2.3020440183428224,2.464046635549607,2.817450095776408,2.712916237241991,1.916362193634605,2.456024756907165,2.1476199816766446,2.1610987214978037,2.304967580542744,2.2303321999250456,2.5971965819496328,2.4030905630411583,2.224069004617992,2.3142817051687192,2.2834288116647947,2.6083421404841296,2.132555686145576,2.2776589564622522,1.950853192995517,1.4751628515664579,2.373013206723301,2.4320421356806614,1.9821937942861962,2.82553129471653,1.782777611112346,2.202812384844405,2.1375885219927664,2.619178180020368,2.6014204555720797,2.2333852791951365,2.2958855054886085,1.9414199906635683,1.6353769888973004,2.0925845981886773,2.233777711349114,2.5344813906037618,2.5266663576596353,2.081548491125773,2.105355229838906,1.896405169781214,1.7923949775898869,1.7122443466249964,2.736217110664901,2.047297389109537,2.067339195548868,1.8392172991860205,2.4076972996329347,1.7381086026837735,2.130432721540089,1.9392693628657707,2.2983326994005933,2.0469745614807153,1.8594229884457245,2.1821089760651766,2.309932923748517,2.208624822267287,2.274692131367139,2.01238981376933,2.0884324735236013,2.0017110746227336,2.0893251147686485,1.9623190410275528,1.7066408713471304,2.2396793198310507,2.0775013378616864,1.7335444628495074,2.319579031547217,1.9359564579726922,2.204544710822919,2.3941453574097102,2.226115215012075,2.5090321916721243,1.8442487703009771,2.3026556595297136,1.9982531745367123,1.946176798229073,2.0279220938659637,2.1027652910043355,2.205726295824329,1.86375804458066,2.4422314163471723,2.3203854831245287,1.7598517678423773,2.606710614262768,2.7208489692885633,2.520058279924702,2.1396210459725418,1.890189265977048,2.485246483540718,2.0771104548475097,2.5322846197070796,2.2483169938615206,2.4634589302154395,2.2897825912088323,2.3878404870937455,2.19294000580183,2.690043738293634,2.2255353859570137,2.3025570217645166],\"y0\":\" \",\"yaxis\":\"y\",\"type\":\"box\"},{\"alignmentgroup\":\"True\",\"hovertemplate\":\"Institucion=%{x}\\u003cbr\\u003eSyntheticData=%{y}\\u003cextra\\u003e\\u003c\\u002fextra\\u003e\",\"legendgroup\":\"Afirme\",\"marker\":{\"color\":\"#008000\"},\"name\":\"Afirme\",\"notched\":false,\"offsetgroup\":\"Afirme\",\"orientation\":\"v\",\"showlegend\":true,\"x\":[\"Afirme\",\"Afirme\",\"Afirme\",\"Afirme\",\"Afirme\",\"Afirme\",\"Afirme\",\"Afirme\",\"Afirme\",\"Afirme\",\"Afirme\",\"Afirme\",\"Afirme\",\"Afirme\",\"Afirme\",\"Afirme\",\"Afirme\",\"Afirme\",\"Afirme\",\"Afirme\",\"Afirme\",\"Afirme\",\"Afirme\",\"Afirme\",\"Afirme\",\"Afirme\",\"Afirme\",\"Afirme\",\"Afirme\",\"Afirme\",\"Afirme\",\"Afirme\",\"Afirme\",\"Afirme\",\"Afirme\",\"Afirme\",\"Afirme\",\"Afirme\",\"Afirme\",\"Afirme\",\"Afirme\",\"Afirme\",\"Afirme\",\"Afirme\",\"Afirme\",\"Afirme\",\"Afirme\",\"Afirme\",\"Afirme\",\"Afirme\",\"Afirme\",\"Afirme\",\"Afirme\",\"Afirme\",\"Afirme\",\"Afirme\",\"Afirme\",\"Afirme\",\"Afirme\",\"Afirme\",\"Afirme\",\"Afirme\",\"Afirme\",\"Afirme\",\"Afirme\",\"Afirme\",\"Afirme\",\"Afirme\",\"Afirme\",\"Afirme\",\"Afirme\",\"Afirme\",\"Afirme\",\"Afirme\",\"Afirme\",\"Afirme\",\"Afirme\",\"Afirme\",\"Afirme\",\"Afirme\",\"Afirme\",\"Afirme\",\"Afirme\",\"Afirme\",\"Afirme\",\"Afirme\",\"Afirme\",\"Afirme\",\"Afirme\",\"Afirme\",\"Afirme\",\"Afirme\",\"Afirme\",\"Afirme\",\"Afirme\",\"Afirme\",\"Afirme\",\"Afirme\",\"Afirme\",\"Afirme\"],\"x0\":\" \",\"xaxis\":\"x\",\"y\":[2.8321372741693294,2.3820518787611835,2.572983534754894,2.989494755736481,2.8662941367494894,1.9274982996407843,2.5635291777834444,2.2000521212617596,2.215937778908126,2.385497505639663,2.29753437848309,2.7299102572977816,2.501142449298508,2.2901527554426333,2.3964748668059905,2.360112528033508,2.7430460941420103,2.182297772957286,2.3533123415447976,1.9681484060304308,1.4075133607747539,2.465694136495319,2.5352639456236368,2.0050855432658743,2.9990190259159104,1.7700593273824077,2.265100310709477,2.1882293294914748,2.7558171407382908,2.7348883940670943,2.3011326504799823,2.3747936314687172,1.9570307032820629,1.596337165486104,2.13518899072237,2.3015951598043136,2.655995924640148,2.6467853500988556,2.1221821502553757,2.1502400923101392,1.9039775215278594,1.781394080730938,1.6869308370937457,2.8937558804264905,2.081814780021954,2.1054354804683086,1.8365775311835244,2.5065718174245304,1.717413710305876,2.17979570752939,1.9544960348060871,2.3776778242935563,2.081434304602272,1.860391379239604,2.240699864648244,2.391349517275038,2.2719506833864456,2.349815726254128,2.040673709085282,2.1302954152242446,2.028088052233936,2.1313474566916213,1.98166172692533,1.6803267412305467,2.3085506269437386,2.1174122910512736,1.7120345455012052,2.4027181443235053,1.95059153975353,2.2671419806127258,2.4905998855185874,2.2925643605499455,2.626002225899289,1.8425074792832947,2.382772741588591,2.0240126699896965,1.962636940769979,2.058979610627743,2.147187664397967,2.268534562935816,1.8655005525414923,2.547272740694882,2.4036686051110516,1.7430395835285162,2.741123223952548,2.8756434280900924,2.638997258482685,2.1906248041819243,1.896651634901521,2.597969069887275,2.1169516074988506,2.653406873226201,2.318730742765364,2.572290882039625,2.3676009110675524,2.483169145503343,2.2534650068378705,2.8393372629889257,2.2918809905921944,2.3826564899367515],\"y0\":\" \",\"yaxis\":\"y\",\"type\":\"box\"},{\"alignmentgroup\":\"True\",\"hovertemplate\":\"Institucion=%{x}\\u003cbr\\u003eSyntheticData=%{y}\\u003cextra\\u003e\\u003c\\u002fextra\\u003e\",\"legendgroup\":\"Banorte\",\"marker\":{\"color\":\"#d52b1e\"},\"name\":\"Banorte\",\"notched\":false,\"offsetgroup\":\"Banorte\",\"orientation\":\"v\",\"showlegend\":true,\"x\":[\"Banorte\",\"Banorte\",\"Banorte\",\"Banorte\",\"Banorte\",\"Banorte\",\"Banorte\",\"Banorte\",\"Banorte\",\"Banorte\",\"Banorte\",\"Banorte\",\"Banorte\",\"Banorte\",\"Banorte\",\"Banorte\",\"Banorte\",\"Banorte\",\"Banorte\",\"Banorte\",\"Banorte\",\"Banorte\",\"Banorte\",\"Banorte\",\"Banorte\",\"Banorte\",\"Banorte\",\"Banorte\",\"Banorte\",\"Banorte\",\"Banorte\",\"Banorte\",\"Banorte\",\"Banorte\",\"Banorte\",\"Banorte\",\"Banorte\",\"Banorte\",\"Banorte\",\"Banorte\",\"Banorte\",\"Banorte\",\"Banorte\",\"Banorte\",\"Banorte\",\"Banorte\",\"Banorte\",\"Banorte\",\"Banorte\",\"Banorte\",\"Banorte\",\"Banorte\",\"Banorte\",\"Banorte\",\"Banorte\",\"Banorte\",\"Banorte\",\"Banorte\",\"Banorte\",\"Banorte\",\"Banorte\",\"Banorte\",\"Banorte\",\"Banorte\",\"Banorte\",\"Banorte\",\"Banorte\",\"Banorte\",\"Banorte\",\"Banorte\",\"Banorte\",\"Banorte\",\"Banorte\",\"Banorte\",\"Banorte\",\"Banorte\",\"Banorte\",\"Banorte\",\"Banorte\",\"Banorte\",\"Banorte\",\"Banorte\",\"Banorte\",\"Banorte\",\"Banorte\",\"Banorte\",\"Banorte\",\"Banorte\",\"Banorte\",\"Banorte\",\"Banorte\",\"Banorte\",\"Banorte\",\"Banorte\",\"Banorte\",\"Banorte\",\"Banorte\",\"Banorte\",\"Banorte\",\"Banorte\"],\"x0\":\" \",\"xaxis\":\"x\",\"y\":[2.8144967507096528,2.3780503066775114,2.5631961549138365,2.9670858237444664,2.8476185568479897,1.9372710784395486,2.5540282936081886,2.2015656933447367,2.2169699674260617,2.381391520620279,2.296093942771481,2.715367522228152,2.4935320720470378,2.288936005277705,2.392036234478536,2.3567757847597655,2.728105303410434,2.184349355594944,2.3501816645282885,1.9766893634234481,1.4330432589330948,2.4591579505409156,2.526619583635042,2.0125071934699386,2.9763214796760344,1.7846029841283952,2.2646427255364627,2.1901011679917333,2.7404893485947066,2.720194806368091,2.2995831762230132,2.3710120062726956,1.965908560758364,1.6161451301683434,2.138668112215631,2.3000316701132735,2.6436930178328706,2.6347615516110117,2.126055418429455,2.1532631198158927,1.9144630511785303,1.795594260102728,1.7039935389999958,2.8742481264741726,2.086911301839471,2.10981622348442,1.8491054847840236,2.498796913866211,1.7335526887814554,2.18192311033153,1.9634507004180237,2.373808799314964,2.0865423559779606,1.8721977010808282,2.2409816869316304,2.3870661985697335,2.271285511162614,2.34679100727673,2.0470169300220915,2.133922826884116,2.0348126567116958,2.134942988307027,1.9897931897457748,1.6975895672538632,2.306776365521201,2.121430100413356,1.7283365289708659,2.398090321768248,1.9596645233973624,2.2666225266547646,2.4833089798968118,2.2912745314423715,2.6146082190538564,1.854855737486831,2.3787493251768157,2.0308607708990998,1.9713449122617979,2.064768107275387,2.150303189719241,2.2679729095135186,1.8771520509493258,2.53826447582534,2.3990119807137473,1.7584020203912885,2.726240702014592,2.8566845363297864,2.6272094627710882,2.192424052540048,1.9073591611166263,2.587424552617964,2.1209833769685824,2.641182422522377,2.316647992984595,2.5625244916747882,2.3640372470958084,2.4761034138214235,2.2533600066306625,2.821478558049867,2.2906118696651583,2.3786365963023046],\"y0\":\" \",\"yaxis\":\"y\",\"type\":\"box\"},{\"alignmentgroup\":\"True\",\"hovertemplate\":\"Institucion=%{x}\\u003cbr\\u003eSyntheticData=%{y}\\u003cextra\\u003e\\u003c\\u002fextra\\u003e\",\"legendgroup\":\"BBVA Bancomer\",\"marker\":{\"color\":\"#006EC1\"},\"name\":\"BBVA Bancomer\",\"notched\":false,\"offsetgroup\":\"BBVA Bancomer\",\"orientation\":\"v\",\"showlegend\":true,\"x\":[\"BBVA Bancomer\",\"BBVA Bancomer\",\"BBVA Bancomer\",\"BBVA Bancomer\",\"BBVA Bancomer\",\"BBVA Bancomer\",\"BBVA Bancomer\",\"BBVA Bancomer\",\"BBVA Bancomer\",\"BBVA Bancomer\",\"BBVA Bancomer\",\"BBVA Bancomer\",\"BBVA Bancomer\",\"BBVA Bancomer\",\"BBVA Bancomer\",\"BBVA Bancomer\",\"BBVA Bancomer\",\"BBVA Bancomer\",\"BBVA Bancomer\",\"BBVA Bancomer\",\"BBVA Bancomer\",\"BBVA Bancomer\",\"BBVA Bancomer\",\"BBVA Bancomer\",\"BBVA Bancomer\",\"BBVA Bancomer\",\"BBVA Bancomer\",\"BBVA Bancomer\",\"BBVA Bancomer\",\"BBVA Bancomer\",\"BBVA Bancomer\",\"BBVA Bancomer\",\"BBVA Bancomer\",\"BBVA Bancomer\",\"BBVA Bancomer\",\"BBVA Bancomer\",\"BBVA Bancomer\",\"BBVA Bancomer\",\"BBVA Bancomer\",\"BBVA Bancomer\",\"BBVA Bancomer\",\"BBVA Bancomer\",\"BBVA Bancomer\",\"BBVA Bancomer\",\"BBVA Bancomer\",\"BBVA Bancomer\",\"BBVA Bancomer\",\"BBVA Bancomer\",\"BBVA Bancomer\",\"BBVA Bancomer\",\"BBVA Bancomer\",\"BBVA Bancomer\",\"BBVA Bancomer\",\"BBVA Bancomer\",\"BBVA Bancomer\",\"BBVA Bancomer\",\"BBVA Bancomer\",\"BBVA Bancomer\",\"BBVA Bancomer\",\"BBVA Bancomer\",\"BBVA Bancomer\",\"BBVA Bancomer\",\"BBVA Bancomer\",\"BBVA Bancomer\",\"BBVA Bancomer\",\"BBVA Bancomer\",\"BBVA Bancomer\",\"BBVA Bancomer\",\"BBVA Bancomer\",\"BBVA Bancomer\",\"BBVA Bancomer\",\"BBVA Bancomer\",\"BBVA Bancomer\",\"BBVA Bancomer\",\"BBVA Bancomer\",\"BBVA Bancomer\",\"BBVA Bancomer\",\"BBVA Bancomer\",\"BBVA Bancomer\",\"BBVA Bancomer\",\"BBVA Bancomer\",\"BBVA Bancomer\",\"BBVA Bancomer\",\"BBVA Bancomer\",\"BBVA Bancomer\",\"BBVA Bancomer\",\"BBVA Bancomer\",\"BBVA Bancomer\",\"BBVA Bancomer\",\"BBVA Bancomer\",\"BBVA Bancomer\",\"BBVA Bancomer\",\"BBVA Bancomer\",\"BBVA Bancomer\",\"BBVA Bancomer\",\"BBVA Bancomer\",\"BBVA Bancomer\",\"BBVA Bancomer\",\"BBVA Bancomer\",\"BBVA Bancomer\"],\"x0\":\" \",\"xaxis\":\"x\",\"y\":[2.5346078518951494,2.3300235812550834,2.416810697615861,2.6061339798802186,2.550133698522495,2.1234083180185386,2.4125132626288384,2.2472964187553455,2.2545171722309663,2.3315897752907557,2.2916065356741315,2.4881410260444463,2.384155658772049,2.2882512524739242,2.3365794849118138,2.32005114910614,2.494111860973641,2.23922626043513,2.316960155247635,2.1418856391047414,1.8870515276248883,2.3680427893160543,2.399665429828926,2.158675246939034,2.6104631935981413,2.051845148810185,2.2768637775952167,2.241922422496125,2.4999168821537685,2.4904038154850427,2.2932421138545376,2.326724377940326,2.136832137855483,1.972880529766411,2.217813177601077,2.293452345365597,2.4545436021091582,2.4503569773176617,2.211900977388807,2.2246545874136996,2.112717055239936,2.0569973094231537,2.0140594714062483,2.5626163092847687,2.193552172737252,2.204288854758322,2.082080695992511,2.3866235533747866,2.027915322866307,2.238088957967905,2.135680015820949,2.328035374678889,2.1933792293646692,2.0929051723816383,2.2657726657492017,2.3342497805795626,2.2799775833574754,2.315370784660967,2.1748516859478553,2.2155888251019293,2.1691309328336073,2.216067025768919,2.148028057693332,2.0110576096502486,2.296613921338063,2.209732859568761,2.0254702479550932,2.3394173383288663,2.133905245342514,2.277791809369421,2.3793635843266308,2.2893474366136117,2.440910102681495,2.0847761269469522,2.3303512461766323,2.167278486358953,2.1393804276227177,2.1831725502853376,2.223267120180894,2.2784248013344617,2.0952275238824964,2.405123973043128,2.339849365959569,2.0395634470584163,2.49323782906934,2.5543833764045876,2.4468169356739478,2.2430112746281474,2.1093871067734185,2.4281677590396704,2.209523457954023,2.453366760557364,2.301241246711529,2.416495855472557,2.32345495957616,2.3759859752287924,2.271575003108123,2.537880574085875,2.289036813905543,2.3302984045167054],\"y0\":\" \",\"yaxis\":\"y\",\"type\":\"box\"},{\"alignmentgroup\":\"True\",\"hovertemplate\":\"Institucion=%{x}\\u003cbr\\u003eSyntheticData=%{y}\\u003cextra\\u003e\\u003c\\u002fextra\\u003e\",\"legendgroup\":\"Autofin\",\"marker\":{\"color\":\"#ffcc00\"},\"name\":\"Autofin\",\"notched\":false,\"offsetgroup\":\"Autofin\",\"orientation\":\"v\",\"showlegend\":true,\"x\":[\"Autofin\",\"Autofin\",\"Autofin\",\"Autofin\",\"Autofin\",\"Autofin\",\"Autofin\",\"Autofin\",\"Autofin\",\"Autofin\",\"Autofin\",\"Autofin\",\"Autofin\",\"Autofin\",\"Autofin\",\"Autofin\",\"Autofin\",\"Autofin\",\"Autofin\",\"Autofin\",\"Autofin\",\"Autofin\",\"Autofin\",\"Autofin\",\"Autofin\",\"Autofin\",\"Autofin\",\"Autofin\",\"Autofin\",\"Autofin\",\"Autofin\",\"Autofin\",\"Autofin\",\"Autofin\",\"Autofin\",\"Autofin\",\"Autofin\",\"Autofin\",\"Autofin\",\"Autofin\",\"Autofin\",\"Autofin\",\"Autofin\",\"Autofin\",\"Autofin\",\"Autofin\",\"Autofin\",\"Autofin\",\"Autofin\",\"Autofin\",\"Autofin\",\"Autofin\",\"Autofin\",\"Autofin\",\"Autofin\",\"Autofin\",\"Autofin\",\"Autofin\",\"Autofin\",\"Autofin\",\"Autofin\",\"Autofin\",\"Autofin\",\"Autofin\",\"Autofin\",\"Autofin\",\"Autofin\",\"Autofin\",\"Autofin\",\"Autofin\",\"Autofin\",\"Autofin\",\"Autofin\",\"Autofin\",\"Autofin\",\"Autofin\",\"Autofin\",\"Autofin\",\"Autofin\",\"Autofin\",\"Autofin\",\"Autofin\",\"Autofin\",\"Autofin\",\"Autofin\",\"Autofin\",\"Autofin\",\"Autofin\",\"Autofin\",\"Autofin\",\"Autofin\",\"Autofin\",\"Autofin\",\"Autofin\",\"Autofin\",\"Autofin\",\"Autofin\",\"Autofin\",\"Autofin\",\"Autofin\"],\"x0\":\" \",\"xaxis\":\"x\",\"y\":[2.605169945733856,2.3460298695897723,2.4559602169800905,2.695769707848277,2.624836018128494,2.084317202823482,2.450516799329862,2.2412421304234376,2.250388418159224,2.3480137153682907,2.2973682785205667,2.5463119663229654,2.414597167777929,2.2931182531336374,2.3543340142216307,2.333398122201111,2.5538750238999453,2.2310199298844977,2.3294828633136713,2.107721809532672,1.7849319349915251,2.3941875331336684,2.4342428777833063,2.1289886461227763,2.7012533785576456,1.9936705218262347,2.278694118287275,2.2344350684950918,2.561228050728107,2.549178166281054,2.2994400108824142,2.341850878724413,2.1013207079502787,1.8936486710374538,2.203896691628031,2.299706304129756,2.503755229338267,2.498452171269038,2.196407904692489,2.2125624773906862,2.0707749366372523,2.0001965919359947,1.9458086637812477,2.64064732509404,2.173166085467186,2.1867658826938747,2.031968881590514,2.417723167608063,1.9633594089639892,2.229579346759346,2.0998613533732016,2.3435114745932597,2.172947023861914,2.045679885016742,2.264645376615656,2.3513830554007793,2.282638272252802,2.3274696605705585,2.149478802200617,2.201079178462444,2.1422325149225694,2.2016848993072973,2.115502206411554,1.9420063055569814,2.303710967028213,2.1936616221204304,1.9602623140764515,2.3579286285498973,2.097613310767184,2.2798696252012665,2.4085272068137322,2.294506753043908,2.486486130063227,2.035383094132806,2.3464449118237343,2.1398860827213406,2.1045485416554426,2.160018563694761,2.2108050188957993,2.280671415023652,2.0486215302511623,2.4411570325212955,2.3584758635487875,1.9781136996073276,2.552767916821164,2.630218943445811,2.4939681185203337,2.2358142811956534,2.066557001912997,2.470345828116916,2.1933963800750957,2.5022645633726612,2.3095722458346035,2.4555614169319053,2.3377096154631363,2.4042489019564703,2.271995003936956,2.6093153938421088,2.2941132976136878,2.3463779790544934],\"y0\":\" \",\"yaxis\":\"y\",\"type\":\"box\"}],                        {\"template\":{\"data\":{\"histogram2dcontour\":[{\"type\":\"histogram2dcontour\",\"colorbar\":{\"outlinewidth\":0,\"ticks\":\"\"},\"colorscale\":[[0.0,\"#0d0887\"],[0.1111111111111111,\"#46039f\"],[0.2222222222222222,\"#7201a8\"],[0.3333333333333333,\"#9c179e\"],[0.4444444444444444,\"#bd3786\"],[0.5555555555555556,\"#d8576b\"],[0.6666666666666666,\"#ed7953\"],[0.7777777777777778,\"#fb9f3a\"],[0.8888888888888888,\"#fdca26\"],[1.0,\"#f0f921\"]]}],\"choropleth\":[{\"type\":\"choropleth\",\"colorbar\":{\"outlinewidth\":0,\"ticks\":\"\"}}],\"histogram2d\":[{\"type\":\"histogram2d\",\"colorbar\":{\"outlinewidth\":0,\"ticks\":\"\"},\"colorscale\":[[0.0,\"#0d0887\"],[0.1111111111111111,\"#46039f\"],[0.2222222222222222,\"#7201a8\"],[0.3333333333333333,\"#9c179e\"],[0.4444444444444444,\"#bd3786\"],[0.5555555555555556,\"#d8576b\"],[0.6666666666666666,\"#ed7953\"],[0.7777777777777778,\"#fb9f3a\"],[0.8888888888888888,\"#fdca26\"],[1.0,\"#f0f921\"]]}],\"heatmap\":[{\"type\":\"heatmap\",\"colorbar\":{\"outlinewidth\":0,\"ticks\":\"\"},\"colorscale\":[[0.0,\"#0d0887\"],[0.1111111111111111,\"#46039f\"],[0.2222222222222222,\"#7201a8\"],[0.3333333333333333,\"#9c179e\"],[0.4444444444444444,\"#bd3786\"],[0.5555555555555556,\"#d8576b\"],[0.6666666666666666,\"#ed7953\"],[0.7777777777777778,\"#fb9f3a\"],[0.8888888888888888,\"#fdca26\"],[1.0,\"#f0f921\"]]}],\"heatmapgl\":[{\"type\":\"heatmapgl\",\"colorbar\":{\"outlinewidth\":0,\"ticks\":\"\"},\"colorscale\":[[0.0,\"#0d0887\"],[0.1111111111111111,\"#46039f\"],[0.2222222222222222,\"#7201a8\"],[0.3333333333333333,\"#9c179e\"],[0.4444444444444444,\"#bd3786\"],[0.5555555555555556,\"#d8576b\"],[0.6666666666666666,\"#ed7953\"],[0.7777777777777778,\"#fb9f3a\"],[0.8888888888888888,\"#fdca26\"],[1.0,\"#f0f921\"]]}],\"contourcarpet\":[{\"type\":\"contourcarpet\",\"colorbar\":{\"outlinewidth\":0,\"ticks\":\"\"}}],\"contour\":[{\"type\":\"contour\",\"colorbar\":{\"outlinewidth\":0,\"ticks\":\"\"},\"colorscale\":[[0.0,\"#0d0887\"],[0.1111111111111111,\"#46039f\"],[0.2222222222222222,\"#7201a8\"],[0.3333333333333333,\"#9c179e\"],[0.4444444444444444,\"#bd3786\"],[0.5555555555555556,\"#d8576b\"],[0.6666666666666666,\"#ed7953\"],[0.7777777777777778,\"#fb9f3a\"],[0.8888888888888888,\"#fdca26\"],[1.0,\"#f0f921\"]]}],\"surface\":[{\"type\":\"surface\",\"colorbar\":{\"outlinewidth\":0,\"ticks\":\"\"},\"colorscale\":[[0.0,\"#0d0887\"],[0.1111111111111111,\"#46039f\"],[0.2222222222222222,\"#7201a8\"],[0.3333333333333333,\"#9c179e\"],[0.4444444444444444,\"#bd3786\"],[0.5555555555555556,\"#d8576b\"],[0.6666666666666666,\"#ed7953\"],[0.7777777777777778,\"#fb9f3a\"],[0.8888888888888888,\"#fdca26\"],[1.0,\"#f0f921\"]]}],\"mesh3d\":[{\"type\":\"mesh3d\",\"colorbar\":{\"outlinewidth\":0,\"ticks\":\"\"}}],\"scatter\":[{\"fillpattern\":{\"fillmode\":\"overlay\",\"size\":10,\"solidity\":0.2},\"type\":\"scatter\"}],\"parcoords\":[{\"type\":\"parcoords\",\"line\":{\"colorbar\":{\"outlinewidth\":0,\"ticks\":\"\"}}}],\"scatterpolargl\":[{\"type\":\"scatterpolargl\",\"marker\":{\"colorbar\":{\"outlinewidth\":0,\"ticks\":\"\"}}}],\"bar\":[{\"error_x\":{\"color\":\"#2a3f5f\"},\"error_y\":{\"color\":\"#2a3f5f\"},\"marker\":{\"line\":{\"color\":\"#E5ECF6\",\"width\":0.5},\"pattern\":{\"fillmode\":\"overlay\",\"size\":10,\"solidity\":0.2}},\"type\":\"bar\"}],\"scattergeo\":[{\"type\":\"scattergeo\",\"marker\":{\"colorbar\":{\"outlinewidth\":0,\"ticks\":\"\"}}}],\"scatterpolar\":[{\"type\":\"scatterpolar\",\"marker\":{\"colorbar\":{\"outlinewidth\":0,\"ticks\":\"\"}}}],\"histogram\":[{\"marker\":{\"pattern\":{\"fillmode\":\"overlay\",\"size\":10,\"solidity\":0.2}},\"type\":\"histogram\"}],\"scattergl\":[{\"type\":\"scattergl\",\"marker\":{\"colorbar\":{\"outlinewidth\":0,\"ticks\":\"\"}}}],\"scatter3d\":[{\"type\":\"scatter3d\",\"line\":{\"colorbar\":{\"outlinewidth\":0,\"ticks\":\"\"}},\"marker\":{\"colorbar\":{\"outlinewidth\":0,\"ticks\":\"\"}}}],\"scattermapbox\":[{\"type\":\"scattermapbox\",\"marker\":{\"colorbar\":{\"outlinewidth\":0,\"ticks\":\"\"}}}],\"scatterternary\":[{\"type\":\"scatterternary\",\"marker\":{\"colorbar\":{\"outlinewidth\":0,\"ticks\":\"\"}}}],\"scattercarpet\":[{\"type\":\"scattercarpet\",\"marker\":{\"colorbar\":{\"outlinewidth\":0,\"ticks\":\"\"}}}],\"carpet\":[{\"aaxis\":{\"endlinecolor\":\"#2a3f5f\",\"gridcolor\":\"white\",\"linecolor\":\"white\",\"minorgridcolor\":\"white\",\"startlinecolor\":\"#2a3f5f\"},\"baxis\":{\"endlinecolor\":\"#2a3f5f\",\"gridcolor\":\"white\",\"linecolor\":\"white\",\"minorgridcolor\":\"white\",\"startlinecolor\":\"#2a3f5f\"},\"type\":\"carpet\"}],\"table\":[{\"cells\":{\"fill\":{\"color\":\"#EBF0F8\"},\"line\":{\"color\":\"white\"}},\"header\":{\"fill\":{\"color\":\"#C8D4E3\"},\"line\":{\"color\":\"white\"}},\"type\":\"table\"}],\"barpolar\":[{\"marker\":{\"line\":{\"color\":\"#E5ECF6\",\"width\":0.5},\"pattern\":{\"fillmode\":\"overlay\",\"size\":10,\"solidity\":0.2}},\"type\":\"barpolar\"}],\"pie\":[{\"automargin\":true,\"type\":\"pie\"}]},\"layout\":{\"autotypenumbers\":\"strict\",\"colorway\":[\"#636efa\",\"#EF553B\",\"#00cc96\",\"#ab63fa\",\"#FFA15A\",\"#19d3f3\",\"#FF6692\",\"#B6E880\",\"#FF97FF\",\"#FECB52\"],\"font\":{\"color\":\"#2a3f5f\"},\"hovermode\":\"closest\",\"hoverlabel\":{\"align\":\"left\"},\"paper_bgcolor\":\"white\",\"plot_bgcolor\":\"#E5ECF6\",\"polar\":{\"bgcolor\":\"#E5ECF6\",\"angularaxis\":{\"gridcolor\":\"white\",\"linecolor\":\"white\",\"ticks\":\"\"},\"radialaxis\":{\"gridcolor\":\"white\",\"linecolor\":\"white\",\"ticks\":\"\"}},\"ternary\":{\"bgcolor\":\"#E5ECF6\",\"aaxis\":{\"gridcolor\":\"white\",\"linecolor\":\"white\",\"ticks\":\"\"},\"baxis\":{\"gridcolor\":\"white\",\"linecolor\":\"white\",\"ticks\":\"\"},\"caxis\":{\"gridcolor\":\"white\",\"linecolor\":\"white\",\"ticks\":\"\"}},\"coloraxis\":{\"colorbar\":{\"outlinewidth\":0,\"ticks\":\"\"}},\"colorscale\":{\"sequential\":[[0.0,\"#0d0887\"],[0.1111111111111111,\"#46039f\"],[0.2222222222222222,\"#7201a8\"],[0.3333333333333333,\"#9c179e\"],[0.4444444444444444,\"#bd3786\"],[0.5555555555555556,\"#d8576b\"],[0.6666666666666666,\"#ed7953\"],[0.7777777777777778,\"#fb9f3a\"],[0.8888888888888888,\"#fdca26\"],[1.0,\"#f0f921\"]],\"sequentialminus\":[[0.0,\"#0d0887\"],[0.1111111111111111,\"#46039f\"],[0.2222222222222222,\"#7201a8\"],[0.3333333333333333,\"#9c179e\"],[0.4444444444444444,\"#bd3786\"],[0.5555555555555556,\"#d8576b\"],[0.6666666666666666,\"#ed7953\"],[0.7777777777777778,\"#fb9f3a\"],[0.8888888888888888,\"#fdca26\"],[1.0,\"#f0f921\"]],\"diverging\":[[0,\"#8e0152\"],[0.1,\"#c51b7d\"],[0.2,\"#de77ae\"],[0.3,\"#f1b6da\"],[0.4,\"#fde0ef\"],[0.5,\"#f7f7f7\"],[0.6,\"#e6f5d0\"],[0.7,\"#b8e186\"],[0.8,\"#7fbc41\"],[0.9,\"#4d9221\"],[1,\"#276419\"]]},\"xaxis\":{\"gridcolor\":\"white\",\"linecolor\":\"white\",\"ticks\":\"\",\"title\":{\"standoff\":15},\"zerolinecolor\":\"white\",\"automargin\":true,\"zerolinewidth\":2},\"yaxis\":{\"gridcolor\":\"white\",\"linecolor\":\"white\",\"ticks\":\"\",\"title\":{\"standoff\":15},\"zerolinecolor\":\"white\",\"automargin\":true,\"zerolinewidth\":2},\"scene\":{\"xaxis\":{\"backgroundcolor\":\"#E5ECF6\",\"gridcolor\":\"white\",\"linecolor\":\"white\",\"showbackground\":true,\"ticks\":\"\",\"zerolinecolor\":\"white\",\"gridwidth\":2},\"yaxis\":{\"backgroundcolor\":\"#E5ECF6\",\"gridcolor\":\"white\",\"linecolor\":\"white\",\"showbackground\":true,\"ticks\":\"\",\"zerolinecolor\":\"white\",\"gridwidth\":2},\"zaxis\":{\"backgroundcolor\":\"#E5ECF6\",\"gridcolor\":\"white\",\"linecolor\":\"white\",\"showbackground\":true,\"ticks\":\"\",\"zerolinecolor\":\"white\",\"gridwidth\":2}},\"shapedefaults\":{\"line\":{\"color\":\"#2a3f5f\"}},\"annotationdefaults\":{\"arrowcolor\":\"#2a3f5f\",\"arrowhead\":0,\"arrowwidth\":1},\"geo\":{\"bgcolor\":\"white\",\"landcolor\":\"#E5ECF6\",\"subunitcolor\":\"white\",\"showland\":true,\"showlakes\":true,\"lakecolor\":\"white\"},\"title\":{\"x\":0.05},\"mapbox\":{\"style\":\"light\"}}},\"xaxis\":{\"anchor\":\"y\",\"domain\":[0.0,1.0],\"title\":{\"text\":\"Instituci\\u00f3n\"},\"categoryorder\":\"array\",\"categoryarray\":[\"EVO\",\"Mifel\",\"Dlocal\",\"Getnet\",\"Afirme\",\"Banorte\",\"BBVA Bancomer\",\"Autofin\"]},\"yaxis\":{\"anchor\":\"x\",\"domain\":[0.0,1.0],\"title\":{\"text\":\"Tasa de Descuento (Cr\\u00e9dito)\"}},\"legend\":{\"title\":{\"text\":\"Institucion\"},\"tracegroupgap\":0},\"title\":{\"text\":\"Cr\\u00e9dito\"},\"boxmode\":\"overlay\"},                        {\"responsive\": true}                    ).then(function(){\n",
       "                            \n",
       "var gd = document.getElementById('dc3a5aa0-2d1f-4e32-92e8-85b78687dede');\n",
       "var x = new MutationObserver(function (mutations, observer) {{\n",
       "        var display = window.getComputedStyle(gd).display;\n",
       "        if (!display || display === 'none') {{\n",
       "            console.log([gd, 'removed!']);\n",
       "            Plotly.purge(gd);\n",
       "            observer.disconnect();\n",
       "        }}\n",
       "}});\n",
       "\n",
       "// Listen for the removal of the full notebook cells\n",
       "var notebookContainer = gd.closest('#notebook-container');\n",
       "if (notebookContainer) {{\n",
       "    x.observe(notebookContainer, {childList: true});\n",
       "}}\n",
       "\n",
       "// Listen for the clearing of the current output cell\n",
       "var outputEl = gd.closest('.output');\n",
       "if (outputEl) {{\n",
       "    x.observe(outputEl, {childList: true});\n",
       "}}\n",
       "\n",
       "                        })                };                });            </script>        </div>"
      ]
     },
     "metadata": {},
     "output_type": "display_data"
    },
    {
     "data": {
      "application/vnd.plotly.v1+json": {
       "config": {
        "plotlyServerURL": "https://plot.ly"
       },
       "data": [
        {
         "alignmentgroup": "True",
         "hovertemplate": "Institucion=%{x}<br>SyntheticData=%{y}<extra></extra>",
         "legendgroup": "EVO",
         "marker": {
          "color": "#0f4990"
         },
         "name": "EVO",
         "notched": false,
         "offsetgroup": "EVO",
         "orientation": "v",
         "showlegend": true,
         "type": "box",
         "x": [
          "EVO",
          "EVO",
          "EVO",
          "EVO",
          "EVO",
          "EVO",
          "EVO",
          "EVO",
          "EVO",
          "EVO",
          "EVO",
          "EVO",
          "EVO",
          "EVO",
          "EVO",
          "EVO",
          "EVO",
          "EVO",
          "EVO",
          "EVO",
          "EVO",
          "EVO",
          "EVO",
          "EVO",
          "EVO",
          "EVO",
          "EVO",
          "EVO",
          "EVO",
          "EVO",
          "EVO",
          "EVO",
          "EVO",
          "EVO",
          "EVO",
          "EVO",
          "EVO",
          "EVO",
          "EVO",
          "EVO",
          "EVO",
          "EVO",
          "EVO",
          "EVO",
          "EVO",
          "EVO",
          "EVO",
          "EVO",
          "EVO",
          "EVO",
          "EVO",
          "EVO",
          "EVO",
          "EVO",
          "EVO",
          "EVO",
          "EVO",
          "EVO",
          "EVO",
          "EVO",
          "EVO",
          "EVO",
          "EVO",
          "EVO",
          "EVO",
          "EVO",
          "EVO",
          "EVO",
          "EVO",
          "EVO",
          "EVO",
          "EVO",
          "EVO",
          "EVO",
          "EVO",
          "EVO",
          "EVO",
          "EVO",
          "EVO",
          "EVO",
          "EVO",
          "EVO",
          "EVO",
          "EVO",
          "EVO",
          "EVO",
          "EVO",
          "EVO",
          "EVO",
          "EVO",
          "EVO",
          "EVO",
          "EVO",
          "EVO",
          "EVO",
          "EVO",
          "EVO",
          "EVO",
          "EVO",
          "EVO"
         ],
         "x0": " ",
         "xaxis": "x",
         "y": [
          1.6651699457338562,
          1.4060298695897724,
          1.5159602169800905,
          1.755769707848277,
          1.6848360181284938,
          1.144317202823482,
          1.510516799329862,
          1.3012421304234374,
          1.310388418159224,
          1.4080137153682908,
          1.357368278520567,
          1.6063119663229655,
          1.4745971677779288,
          1.3531182531336374,
          1.414334014221631,
          1.3933981222011107,
          1.6138750238999453,
          1.291019929884498,
          1.3894828633136713,
          1.1677218095326722,
          0.8449319349915252,
          1.4541875331336687,
          1.4942428777833061,
          1.188988646122776,
          1.7612533785576456,
          1.0536705218262348,
          1.338694118287275,
          1.2944350684950916,
          1.621228050728107,
          1.6091781662810543,
          1.359440010882414,
          1.401850878724413,
          1.1613207079502788,
          0.9536486710374539,
          1.263896691628031,
          1.3597063041297563,
          1.563755229338267,
          1.5584521712690382,
          1.2564079046924892,
          1.2725624773906863,
          1.1307749366372524,
          1.0601965919359948,
          1.0058086637812478,
          1.7006473250940402,
          1.233166085467186,
          1.2467658826938746,
          1.091968881590514,
          1.477723167608063,
          1.0233594089639892,
          1.289579346759346,
          1.1598613533732016,
          1.4035114745932598,
          1.2329470238619142,
          1.1056798850167417,
          1.3246453766156556,
          1.4113830554007794,
          1.342638272252802,
          1.3874696605705585,
          1.2094788022006169,
          1.2610791784624438,
          1.2022325149225694,
          1.2616848993072973,
          1.175502206411554,
          1.0020063055569814,
          1.363710967028213,
          1.2536616221204304,
          1.0202623140764515,
          1.417928628549897,
          1.157613310767184,
          1.3398696252012665,
          1.468527206813732,
          1.354506753043908,
          1.546486130063227,
          1.095383094132806,
          1.4064449118237343,
          1.1998860827213407,
          1.1645485416554426,
          1.2200185636947611,
          1.2708050188957993,
          1.3406714150236516,
          1.1086215302511624,
          1.5011570325212955,
          1.4184758635487875,
          1.0381136996073277,
          1.612767916821164,
          1.6902189434458108,
          1.5539681185203338,
          1.2958142811956535,
          1.126557001912997,
          1.530345828116916,
          1.253396380075096,
          1.5622645633726613,
          1.3695722458346036,
          1.5155614169319054,
          1.3977096154631363,
          1.4642489019564702,
          1.331995003936956,
          1.6693153938421088,
          1.3541132976136878,
          1.4063779790544935
         ],
         "y0": " ",
         "yaxis": "y"
        },
        {
         "alignmentgroup": "True",
         "hovertemplate": "Institucion=%{x}<br>SyntheticData=%{y}<extra></extra>",
         "legendgroup": "Inbursa",
         "marker": {
          "color": "#0033a0"
         },
         "name": "Inbursa",
         "notched": false,
         "offsetgroup": "Inbursa",
         "orientation": "v",
         "showlegend": true,
         "type": "box",
         "x": [
          "Inbursa",
          "Inbursa",
          "Inbursa",
          "Inbursa",
          "Inbursa",
          "Inbursa",
          "Inbursa",
          "Inbursa",
          "Inbursa",
          "Inbursa",
          "Inbursa",
          "Inbursa",
          "Inbursa",
          "Inbursa",
          "Inbursa",
          "Inbursa",
          "Inbursa",
          "Inbursa",
          "Inbursa",
          "Inbursa",
          "Inbursa",
          "Inbursa",
          "Inbursa",
          "Inbursa",
          "Inbursa",
          "Inbursa",
          "Inbursa",
          "Inbursa",
          "Inbursa",
          "Inbursa",
          "Inbursa",
          "Inbursa",
          "Inbursa",
          "Inbursa",
          "Inbursa",
          "Inbursa",
          "Inbursa",
          "Inbursa",
          "Inbursa",
          "Inbursa",
          "Inbursa",
          "Inbursa",
          "Inbursa",
          "Inbursa",
          "Inbursa",
          "Inbursa",
          "Inbursa",
          "Inbursa",
          "Inbursa",
          "Inbursa",
          "Inbursa",
          "Inbursa",
          "Inbursa",
          "Inbursa",
          "Inbursa",
          "Inbursa",
          "Inbursa",
          "Inbursa",
          "Inbursa",
          "Inbursa",
          "Inbursa",
          "Inbursa",
          "Inbursa",
          "Inbursa",
          "Inbursa",
          "Inbursa",
          "Inbursa",
          "Inbursa",
          "Inbursa",
          "Inbursa",
          "Inbursa",
          "Inbursa",
          "Inbursa",
          "Inbursa",
          "Inbursa",
          "Inbursa",
          "Inbursa",
          "Inbursa",
          "Inbursa",
          "Inbursa",
          "Inbursa",
          "Inbursa",
          "Inbursa",
          "Inbursa",
          "Inbursa",
          "Inbursa",
          "Inbursa",
          "Inbursa",
          "Inbursa",
          "Inbursa",
          "Inbursa",
          "Inbursa",
          "Inbursa",
          "Inbursa",
          "Inbursa",
          "Inbursa",
          "Inbursa",
          "Inbursa",
          "Inbursa",
          "Inbursa"
         ],
         "x0": " ",
         "xaxis": "x",
         "y": [
          1.6964052345967664,
          1.5600157208367222,
          1.617873798410574,
          1.7440893199201457,
          1.7067557990149969,
          1.422272212012359,
          1.615008841752559,
          1.5048642791702302,
          1.5096781148206442,
          1.5610598501938373,
          1.534404357116088,
          1.6654273506962975,
          1.5961037725146994,
          1.5321675016492828,
          1.5643863232745425,
          1.5533674327374267,
          1.6694079073157606,
          1.49948417362342,
          1.5513067701650902,
          1.4345904260698275,
          1.264701018416592,
          1.5853618595440362,
          1.6064436198859506,
          1.4457834979593558,
          1.7469754623987608,
          1.3745634325401235,
          1.5245758517301446,
          1.5012816149974166,
          1.6732779214358457,
          1.6669358769900284,
          1.5354947425696917,
          1.5578162519602174,
          1.4312214252369888,
          1.3219203531776074,
          1.4852087850673847,
          1.5356348969103981,
          1.6430290680727722,
          1.6402379848784412,
          1.4812673182592049,
          1.4897697249424664,
          1.4151447034932907,
          1.3779982062821026,
          1.3493729809374988,
          1.715077539523179,
          1.4690347818248346,
          1.4761925698388814,
          1.3947204639950075,
          1.597749035583191,
          1.3586102152442048,
          1.4987259719786032,
          1.4304533438806324,
          1.5586902497859263,
          1.4689194862431127,
          1.4019367815877588,
          1.5171817771661344,
          1.5628331870530419,
          1.526651722238317,
          1.5502471897739782,
          1.4565677906319037,
          1.4837258834012863,
          1.452753955222405,
          1.4840446838459458,
          1.4386853717955546,
          1.3473717397668323,
          1.5377426142253754,
          1.4798219063791738,
          1.3569801653033955,
          1.5662782255525773,
          1.4292701635616758,
          1.5251945395796138,
          1.5929090562177537,
          1.5328982910757412,
          1.6339400684543302,
          1.3965174179646347,
          1.5602341641177548,
          1.4515189909059687,
          1.432920285081812,
          1.4621150335235584,
          1.4888447467872628,
          1.5256165342229746,
          1.4034850159216643,
          1.6100826486954187,
          1.5665662439730461,
          1.3663756313722777,
          1.66882521937956,
          1.7095889176030583,
          1.6378779571159652,
          1.502007516418765,
          1.4129247378489458,
          1.6254451726931136,
          1.479682305302682,
          1.6422445070382428,
          1.5408274978076861,
          1.6176639036483713,
          1.5556366397174402,
          1.5906573168191949,
          1.521050002072082,
          1.6985870493905835,
          1.532691209270362,
          1.5601989363444702
         ],
         "y0": " ",
         "yaxis": "y"
        },
        {
         "alignmentgroup": "True",
         "hovertemplate": "Institucion=%{x}<br>SyntheticData=%{y}<extra></extra>",
         "legendgroup": "BBVA Bancomer",
         "marker": {
          "color": "#006EC1"
         },
         "name": "BBVA Bancomer",
         "notched": false,
         "offsetgroup": "BBVA Bancomer",
         "orientation": "v",
         "showlegend": true,
         "type": "box",
         "x": [
          "BBVA Bancomer",
          "BBVA Bancomer",
          "BBVA Bancomer",
          "BBVA Bancomer",
          "BBVA Bancomer",
          "BBVA Bancomer",
          "BBVA Bancomer",
          "BBVA Bancomer",
          "BBVA Bancomer",
          "BBVA Bancomer",
          "BBVA Bancomer",
          "BBVA Bancomer",
          "BBVA Bancomer",
          "BBVA Bancomer",
          "BBVA Bancomer",
          "BBVA Bancomer",
          "BBVA Bancomer",
          "BBVA Bancomer",
          "BBVA Bancomer",
          "BBVA Bancomer",
          "BBVA Bancomer",
          "BBVA Bancomer",
          "BBVA Bancomer",
          "BBVA Bancomer",
          "BBVA Bancomer",
          "BBVA Bancomer",
          "BBVA Bancomer",
          "BBVA Bancomer",
          "BBVA Bancomer",
          "BBVA Bancomer",
          "BBVA Bancomer",
          "BBVA Bancomer",
          "BBVA Bancomer",
          "BBVA Bancomer",
          "BBVA Bancomer",
          "BBVA Bancomer",
          "BBVA Bancomer",
          "BBVA Bancomer",
          "BBVA Bancomer",
          "BBVA Bancomer",
          "BBVA Bancomer",
          "BBVA Bancomer",
          "BBVA Bancomer",
          "BBVA Bancomer",
          "BBVA Bancomer",
          "BBVA Bancomer",
          "BBVA Bancomer",
          "BBVA Bancomer",
          "BBVA Bancomer",
          "BBVA Bancomer",
          "BBVA Bancomer",
          "BBVA Bancomer",
          "BBVA Bancomer",
          "BBVA Bancomer",
          "BBVA Bancomer",
          "BBVA Bancomer",
          "BBVA Bancomer",
          "BBVA Bancomer",
          "BBVA Bancomer",
          "BBVA Bancomer",
          "BBVA Bancomer",
          "BBVA Bancomer",
          "BBVA Bancomer",
          "BBVA Bancomer",
          "BBVA Bancomer",
          "BBVA Bancomer",
          "BBVA Bancomer",
          "BBVA Bancomer",
          "BBVA Bancomer",
          "BBVA Bancomer",
          "BBVA Bancomer",
          "BBVA Bancomer",
          "BBVA Bancomer",
          "BBVA Bancomer",
          "BBVA Bancomer",
          "BBVA Bancomer",
          "BBVA Bancomer",
          "BBVA Bancomer",
          "BBVA Bancomer",
          "BBVA Bancomer",
          "BBVA Bancomer",
          "BBVA Bancomer",
          "BBVA Bancomer",
          "BBVA Bancomer",
          "BBVA Bancomer",
          "BBVA Bancomer",
          "BBVA Bancomer",
          "BBVA Bancomer",
          "BBVA Bancomer",
          "BBVA Bancomer",
          "BBVA Bancomer",
          "BBVA Bancomer",
          "BBVA Bancomer",
          "BBVA Bancomer",
          "BBVA Bancomer",
          "BBVA Bancomer",
          "BBVA Bancomer",
          "BBVA Bancomer",
          "BBVA Bancomer",
          "BBVA Bancomer"
         ],
         "x0": " ",
         "xaxis": "x",
         "y": [
          1.8846078518951497,
          1.6800235812550837,
          1.766810697615861,
          1.9561339798802186,
          1.9001336985224953,
          1.4734083180185384,
          1.7625132626288385,
          1.5972964187553453,
          1.6045171722309663,
          1.681589775290756,
          1.6416065356741318,
          1.8381410260444464,
          1.734155658772049,
          1.6382512524739243,
          1.6865794849118139,
          1.67005114910614,
          1.844111860973641,
          1.58922626043513,
          1.6669601552476354,
          1.4918856391047415,
          1.2370515276248883,
          1.7180427893160541,
          1.749665429828926,
          1.5086752469390339,
          1.9604631935981414,
          1.4018451488101853,
          1.626863777595217,
          1.591922422496125,
          1.8499168821537688,
          1.8404038154850428,
          1.6432421138545374,
          1.6767243779403262,
          1.4868321378554832,
          1.322880529766411,
          1.5678131776010773,
          1.6434523453655971,
          1.8045436021091583,
          1.8003569773176618,
          1.5619009773888073,
          1.5746545874136997,
          1.4627170552399362,
          1.4069973094231538,
          1.3640594714062482,
          1.9126163092847686,
          1.543552172737252,
          1.5542888547583222,
          1.4320806959925112,
          1.7366235533747867,
          1.3779153228663075,
          1.5880889579679047,
          1.4856800158209489,
          1.6780353746788894,
          1.543379229364669,
          1.4429051723816384,
          1.615772665749202,
          1.6842497805795626,
          1.6299775833574752,
          1.6653707846609673,
          1.5248516859478556,
          1.5655888251019294,
          1.5191309328336073,
          1.5660670257689189,
          1.498028057693332,
          1.3610576096502487,
          1.646613921338063,
          1.5597328595687607,
          1.3754702479550933,
          1.6894173383288662,
          1.483905245342514,
          1.627791809369421,
          1.7293635843266306,
          1.6393474366136116,
          1.790910102681495,
          1.4347761269469523,
          1.6803512461766323,
          1.5172784863589532,
          1.4893804276227178,
          1.5331725502853377,
          1.573267120180894,
          1.628424801334462,
          1.4452275238824965,
          1.755123973043128,
          1.689849365959569,
          1.3895634470584166,
          1.84323782906934,
          1.9043833764045877,
          1.7968169356739476,
          1.5930112746281475,
          1.4593871067734188,
          1.7781677590396705,
          1.5595234579540231,
          1.8033667605573642,
          1.6512412467115292,
          1.766495855472557,
          1.6734549595761603,
          1.7259859752287923,
          1.621575003108123,
          1.8878805740858753,
          1.6390368139055431,
          1.6802984045167053
         ],
         "y0": " ",
         "yaxis": "y"
        },
        {
         "alignmentgroup": "True",
         "hovertemplate": "Institucion=%{x}<br>SyntheticData=%{y}<extra></extra>",
         "legendgroup": "Banorte",
         "marker": {
          "color": "#d52b1e"
         },
         "name": "Banorte",
         "notched": false,
         "offsetgroup": "Banorte",
         "orientation": "v",
         "showlegend": true,
         "type": "box",
         "x": [
          "Banorte",
          "Banorte",
          "Banorte",
          "Banorte",
          "Banorte",
          "Banorte",
          "Banorte",
          "Banorte",
          "Banorte",
          "Banorte",
          "Banorte",
          "Banorte",
          "Banorte",
          "Banorte",
          "Banorte",
          "Banorte",
          "Banorte",
          "Banorte",
          "Banorte",
          "Banorte",
          "Banorte",
          "Banorte",
          "Banorte",
          "Banorte",
          "Banorte",
          "Banorte",
          "Banorte",
          "Banorte",
          "Banorte",
          "Banorte",
          "Banorte",
          "Banorte",
          "Banorte",
          "Banorte",
          "Banorte",
          "Banorte",
          "Banorte",
          "Banorte",
          "Banorte",
          "Banorte",
          "Banorte",
          "Banorte",
          "Banorte",
          "Banorte",
          "Banorte",
          "Banorte",
          "Banorte",
          "Banorte",
          "Banorte",
          "Banorte",
          "Banorte",
          "Banorte",
          "Banorte",
          "Banorte",
          "Banorte",
          "Banorte",
          "Banorte",
          "Banorte",
          "Banorte",
          "Banorte",
          "Banorte",
          "Banorte",
          "Banorte",
          "Banorte",
          "Banorte",
          "Banorte",
          "Banorte",
          "Banorte",
          "Banorte",
          "Banorte",
          "Banorte",
          "Banorte",
          "Banorte",
          "Banorte",
          "Banorte",
          "Banorte",
          "Banorte",
          "Banorte",
          "Banorte",
          "Banorte",
          "Banorte",
          "Banorte",
          "Banorte",
          "Banorte",
          "Banorte",
          "Banorte",
          "Banorte",
          "Banorte",
          "Banorte",
          "Banorte",
          "Banorte",
          "Banorte",
          "Banorte",
          "Banorte",
          "Banorte",
          "Banorte",
          "Banorte",
          "Banorte",
          "Banorte",
          "Banorte"
         ],
         "x0": " ",
         "xaxis": "x",
         "y": [
          2.2244967507096525,
          1.7880503066775113,
          1.9731961549138366,
          2.3770858237444665,
          2.2576185568479894,
          1.3472710784395483,
          1.9640282936081885,
          1.6115656933447366,
          1.6269699674260614,
          1.791391520620279,
          1.706093942771481,
          2.125367522228152,
          1.903532072047038,
          1.698936005277705,
          1.8020362344785361,
          1.7667757847597654,
          2.138105303410434,
          1.5943493555949437,
          1.7601816645282884,
          1.386689363423448,
          0.8430432589330947,
          1.8691579505409153,
          1.9366195836350417,
          1.4225071934699385,
          2.3863214796760346,
          1.1946029841283952,
          1.6746427255364627,
          1.6001011679917332,
          2.1504893485947063,
          2.130194806368091,
          1.7095831762230131,
          1.7810120062726955,
          1.3759085607583639,
          1.0261451301683433,
          1.5486681122156312,
          1.7100316701132736,
          2.0536930178328707,
          2.0447615516110114,
          1.5360554184294553,
          1.5632631198158926,
          1.3244630511785302,
          1.2055942601027279,
          1.113993538999996,
          2.2842481264741727,
          1.4969113018394709,
          1.5198162234844204,
          1.2591054847840235,
          1.908796913866211,
          1.1435526887814556,
          1.59192311033153,
          1.3734507004180236,
          1.7838087993149638,
          1.4965423559779605,
          1.282197701080828,
          1.6509816869316303,
          1.7970661985697336,
          1.6812855111626137,
          1.7567910072767299,
          1.4570169300220916,
          1.5439228268841156,
          1.4448126567116957,
          1.5449429883070267,
          1.3997931897457745,
          1.1075895672538634,
          1.7167763655212007,
          1.5314301004133561,
          1.1383365289708656,
          1.8080903217682476,
          1.3696645233973623,
          1.6766225266547643,
          1.8933089798968117,
          1.7012745314423714,
          2.024608219053856,
          1.264855737486831,
          1.7887493251768156,
          1.4408607708990997,
          1.3813449122617978,
          1.4747681072753869,
          1.5603031897192408,
          1.6779729095135185,
          1.287152050949326,
          1.9482644758253398,
          1.809011980713747,
          1.1684020203912884,
          2.1362407020145917,
          2.2666845363297865,
          2.037209462771088,
          1.6024240525400477,
          1.3173591611166264,
          1.9974245526179637,
          1.5309833769685826,
          2.051182422522377,
          1.7266479929845953,
          1.972524491674788,
          1.7740372470958086,
          1.8861034138214232,
          1.6633600066306624,
          2.2314785580498673,
          1.7006118696651582,
          1.7886365963023045
         ],
         "y0": " ",
         "yaxis": "y"
        },
        {
         "alignmentgroup": "True",
         "hovertemplate": "Institucion=%{x}<br>SyntheticData=%{y}<extra></extra>",
         "legendgroup": "Autofin",
         "marker": {
          "color": "#ffcc00"
         },
         "name": "Autofin",
         "notched": false,
         "offsetgroup": "Autofin",
         "orientation": "v",
         "showlegend": true,
         "type": "box",
         "visible": "legendonly",
         "x": [
          "Autofin",
          "Autofin",
          "Autofin",
          "Autofin",
          "Autofin",
          "Autofin",
          "Autofin",
          "Autofin",
          "Autofin",
          "Autofin",
          "Autofin",
          "Autofin",
          "Autofin",
          "Autofin",
          "Autofin",
          "Autofin",
          "Autofin",
          "Autofin",
          "Autofin",
          "Autofin",
          "Autofin",
          "Autofin",
          "Autofin",
          "Autofin",
          "Autofin",
          "Autofin",
          "Autofin",
          "Autofin",
          "Autofin",
          "Autofin",
          "Autofin",
          "Autofin",
          "Autofin",
          "Autofin",
          "Autofin",
          "Autofin",
          "Autofin",
          "Autofin",
          "Autofin",
          "Autofin",
          "Autofin",
          "Autofin",
          "Autofin",
          "Autofin",
          "Autofin",
          "Autofin",
          "Autofin",
          "Autofin",
          "Autofin",
          "Autofin",
          "Autofin",
          "Autofin",
          "Autofin",
          "Autofin",
          "Autofin",
          "Autofin",
          "Autofin",
          "Autofin",
          "Autofin",
          "Autofin",
          "Autofin",
          "Autofin",
          "Autofin",
          "Autofin",
          "Autofin",
          "Autofin",
          "Autofin",
          "Autofin",
          "Autofin",
          "Autofin",
          "Autofin",
          "Autofin",
          "Autofin",
          "Autofin",
          "Autofin",
          "Autofin",
          "Autofin",
          "Autofin",
          "Autofin",
          "Autofin",
          "Autofin",
          "Autofin",
          "Autofin",
          "Autofin",
          "Autofin",
          "Autofin",
          "Autofin",
          "Autofin",
          "Autofin",
          "Autofin",
          "Autofin",
          "Autofin",
          "Autofin",
          "Autofin",
          "Autofin",
          "Autofin",
          "Autofin",
          "Autofin",
          "Autofin",
          "Autofin"
         ],
         "x0": " ",
         "xaxis": "x",
         "y": [
          2.151013086491916,
          1.8100393020918057,
          1.9546844960264347,
          2.2702232998003646,
          2.1768894975374917,
          1.4656805300308973,
          1.9475221043813973,
          1.6721606979255754,
          1.6841952870516106,
          1.812649625484593,
          1.7460108927902194,
          2.073568376740744,
          1.9002594312867482,
          1.740418754123207,
          1.8209658081863564,
          1.7934185818435666,
          2.0835197682894013,
          1.6587104340585497,
          1.7882669254127253,
          1.4964760651745688,
          1.0717525460414803,
          1.8734046488600902,
          1.9261090497148765,
          1.5244587448983895,
          2.2774386559969018,
          1.3464085813503088,
          1.7214396293253615,
          1.6632040374935415,
          2.0931948035896144,
          2.0773396924750713,
          1.748736856424229,
          1.8045406299005433,
          1.4880535630924718,
          1.2148008829440182,
          1.6230219626684619,
          1.7490872422759949,
          2.0175726701819303,
          2.0105949621961026,
          1.6131682956480118,
          1.6344243123561661,
          1.4478617587332268,
          1.3549955157052562,
          1.2834324523437468,
          2.1976938488079476,
          1.5825869545620865,
          1.6004814245972034,
          1.3968011599875183,
          1.9043725889579775,
          1.306525538110512,
          1.6568149299465078,
          1.4861333597015811,
          1.8067256244648155,
          1.5822987156077817,
          1.4148419539693968,
          1.7029544429153363,
          1.8170829676326044,
          1.726629305595792,
          1.7856179744349454,
          1.551419476579759,
          1.6193147085032153,
          1.5418848880560123,
          1.6201117096148647,
          1.5067134294888864,
          1.2784293494170806,
          1.754356535563438,
          1.6095547659479346,
          1.3024504132584889,
          1.8256955638814436,
          1.4831754089041893,
          1.7229863489490347,
          1.8922726405443842,
          1.7422457276893526,
          1.994850171135825,
          1.4012935449115869,
          1.8105854102943872,
          1.5387974772649216,
          1.4923007127045296,
          1.565287583808896,
          1.632111866968157,
          1.7240413355574362,
          1.418712539804161,
          1.9352066217385469,
          1.826415609932615,
          1.325939078430694,
          2.0820630484489,
          2.1839722940076456,
          2.004694892789913,
          1.6650187910469123,
          1.4423118446223644,
          1.9736129317327842,
          1.6092057632567052,
          2.015611267595607,
          1.7620687445192151,
          1.954159759120928,
          1.7990915992936005,
          1.886643292047987,
          1.712625005180205,
          2.1564676234764586,
          1.741728023175905,
          1.8104973408611753
         ],
         "y0": " ",
         "yaxis": "y"
        },
        {
         "alignmentgroup": "True",
         "hovertemplate": "Institucion=%{x}<br>SyntheticData=%{y}<extra></extra>",
         "legendgroup": "Getnet",
         "marker": {
          "color": "#ff0000"
         },
         "name": "Getnet",
         "notched": false,
         "offsetgroup": "Getnet",
         "orientation": "v",
         "showlegend": true,
         "type": "box",
         "x": [
          "Getnet",
          "Getnet",
          "Getnet",
          "Getnet",
          "Getnet",
          "Getnet",
          "Getnet",
          "Getnet",
          "Getnet",
          "Getnet",
          "Getnet",
          "Getnet",
          "Getnet",
          "Getnet",
          "Getnet",
          "Getnet",
          "Getnet",
          "Getnet",
          "Getnet",
          "Getnet",
          "Getnet",
          "Getnet",
          "Getnet",
          "Getnet",
          "Getnet",
          "Getnet",
          "Getnet",
          "Getnet",
          "Getnet",
          "Getnet",
          "Getnet",
          "Getnet",
          "Getnet",
          "Getnet",
          "Getnet",
          "Getnet",
          "Getnet",
          "Getnet",
          "Getnet",
          "Getnet",
          "Getnet",
          "Getnet",
          "Getnet",
          "Getnet",
          "Getnet",
          "Getnet",
          "Getnet",
          "Getnet",
          "Getnet",
          "Getnet",
          "Getnet",
          "Getnet",
          "Getnet",
          "Getnet",
          "Getnet",
          "Getnet",
          "Getnet",
          "Getnet",
          "Getnet",
          "Getnet",
          "Getnet",
          "Getnet",
          "Getnet",
          "Getnet",
          "Getnet",
          "Getnet",
          "Getnet",
          "Getnet",
          "Getnet",
          "Getnet",
          "Getnet",
          "Getnet",
          "Getnet",
          "Getnet",
          "Getnet",
          "Getnet",
          "Getnet",
          "Getnet",
          "Getnet",
          "Getnet",
          "Getnet",
          "Getnet",
          "Getnet",
          "Getnet",
          "Getnet",
          "Getnet",
          "Getnet",
          "Getnet",
          "Getnet",
          "Getnet",
          "Getnet",
          "Getnet",
          "Getnet",
          "Getnet",
          "Getnet",
          "Getnet",
          "Getnet",
          "Getnet",
          "Getnet",
          "Getnet"
         ],
         "x0": " ",
         "xaxis": "x",
         "y": [
          2.3826993680080357,
          1.8780581670958725,
          2.0921330541191234,
          2.559130483704539,
          2.420996456355488,
          1.368407184445728,
          2.081532714484468,
          1.6739978329298517,
          1.6918090248363835,
          1.8819214457171978,
          1.7832961213295249,
          2.2680811975763007,
          2.0115839583043877,
          1.7750197561023464,
          1.8942293961158074,
          1.8534595011284787,
          2.2828092570683145,
          1.6540914424066537,
          1.8458350496108336,
          1.4139845764583618,
          0.7853937681413908,
          1.9718388803129334,
          2.049841393578017,
          1.4553989424496165,
          2.5698092108754147,
          1.191884700398457,
          1.746930651401535,
          1.6607419754904416,
          2.297128309312629,
          2.2736627448631053,
          1.787330547507859,
          1.8699201322528043,
          1.4015192733768582,
          0.997105306757147,
          1.6012725047493235,
          1.7878491185684726,
          2.1852075518692566,
          2.1748805440502323,
          1.5866890775590576,
          1.6181479822871259,
          1.3420354029251758,
          1.204593363243779,
          1.0986800294687453,
          2.4517868962357623,
          1.541428692751888,
          1.567912508403861,
          1.2664657167815272,
          2.017671431657807,
          1.1328577964035578,
          1.6512860963208316,
          1.3986773723583399,
          1.873153924207927,
          1.541002099099517,
          1.2931660918747074,
          1.7195725755146978,
          1.8884827920962546,
          1.754611372281772,
          1.8419146021637192,
          1.4953008253380435,
          1.595785768584759,
          1.481189634322898,
          1.5969653302299998,
          1.429135875643552,
          1.0912754371372797,
          1.7956476726338886,
          1.581341053602943,
          1.1268266116225636,
          1.9012294345445364,
          1.3942996051782004,
          1.7492197964445715,
          1.9997635080056886,
          1.777723676980242,
          2.1515782532810213,
          1.2731144464691484,
          1.878866407235693,
          1.476620266352084,
          1.4078050548027037,
          1.5158256240371664,
          1.614725563112872,
          1.7507811766250059,
          1.2988945589101581,
          2.0633058001730493,
          1.9022951027002701,
          1.161589836077427,
          2.2806533117043717,
          2.431478995131316,
          2.166148441329071,
          1.6634278107494302,
          1.3338215300410994,
          2.1201471389645206,
          1.5808245296199235,
          2.182304676041498,
          1.8070617418884383,
          2.0913564434989738,
          1.8618555669545287,
          1.9914320722310208,
          1.7338850076667036,
          2.390772082745159,
          1.7769574743003393,
          1.8787360644745397
         ],
         "y0": " ",
         "yaxis": "y"
        },
        {
         "alignmentgroup": "True",
         "hovertemplate": "Institucion=%{x}<br>SyntheticData=%{y}<extra></extra>",
         "legendgroup": "Mifel",
         "marker": {
          "color": "#004e98"
         },
         "name": "Mifel",
         "notched": false,
         "offsetgroup": "Mifel",
         "orientation": "v",
         "showlegend": true,
         "type": "box",
         "x": [
          "Mifel",
          "Mifel",
          "Mifel",
          "Mifel",
          "Mifel",
          "Mifel",
          "Mifel",
          "Mifel",
          "Mifel",
          "Mifel",
          "Mifel",
          "Mifel",
          "Mifel",
          "Mifel",
          "Mifel",
          "Mifel",
          "Mifel",
          "Mifel",
          "Mifel",
          "Mifel",
          "Mifel",
          "Mifel",
          "Mifel",
          "Mifel",
          "Mifel",
          "Mifel",
          "Mifel",
          "Mifel",
          "Mifel",
          "Mifel",
          "Mifel",
          "Mifel",
          "Mifel",
          "Mifel",
          "Mifel",
          "Mifel",
          "Mifel",
          "Mifel",
          "Mifel",
          "Mifel",
          "Mifel",
          "Mifel",
          "Mifel",
          "Mifel",
          "Mifel",
          "Mifel",
          "Mifel",
          "Mifel",
          "Mifel",
          "Mifel",
          "Mifel",
          "Mifel",
          "Mifel",
          "Mifel",
          "Mifel",
          "Mifel",
          "Mifel",
          "Mifel",
          "Mifel",
          "Mifel",
          "Mifel",
          "Mifel",
          "Mifel",
          "Mifel",
          "Mifel",
          "Mifel",
          "Mifel",
          "Mifel",
          "Mifel",
          "Mifel",
          "Mifel",
          "Mifel",
          "Mifel",
          "Mifel",
          "Mifel",
          "Mifel",
          "Mifel",
          "Mifel",
          "Mifel",
          "Mifel",
          "Mifel",
          "Mifel",
          "Mifel",
          "Mifel",
          "Mifel",
          "Mifel",
          "Mifel",
          "Mifel",
          "Mifel",
          "Mifel",
          "Mifel",
          "Mifel",
          "Mifel",
          "Mifel",
          "Mifel",
          "Mifel",
          "Mifel",
          "Mifel",
          "Mifel",
          "Mifel"
         ],
         "x0": " ",
         "xaxis": "x",
         "y": [
          2.764947743362862,
          2.0420833204346285,
          2.348731131576042,
          3.0176733955767725,
          2.819805734779483,
          1.3120427236655021,
          2.3335468612885624,
          1.7497806796022202,
          1.7752940085494144,
          2.047617206027337,
          1.9063430927152654,
          2.6007649586903767,
          2.2333499943279067,
          1.8944877587411992,
          2.0652475133550756,
          2.0068473935083615,
          2.621861908773531,
          1.7212661202041255,
          1.9959258818749779,
          1.3773292581700858,
          0.47691539760793833,
          2.176417855583391,
          2.288151185395538,
          1.436652539184586,
          3.032969950713432,
          1.0591861924626547,
          1.8542520141697665,
          1.7307925594863083,
          2.6423729836099827,
          2.608760148047151,
          1.9121221356193656,
          2.030426135389152,
          1.3594735537560403,
          0.7801778718413188,
          1.6456065608571393,
          1.9128649536251094,
          2.4820540607856922,
          2.467261319855738,
          1.6247167867737853,
          1.6697795421950723,
          1.274266928514441,
          1.0773904932951432,
          0.9256767989687433,
          2.8639109594728485,
          1.5598843436716237,
          1.5978206201460714,
          1.1660184591735392,
          2.2420698885909123,
          0.9746341407942857,
          1.7172476514865966,
          1.355402722567352,
          2.035058323865409,
          1.5592732770884974,
          1.2042649424151217,
          1.815063418980513,
          2.0570158913811216,
          1.865254127863079,
          1.9903101058020842,
          1.4938092903490894,
          1.6377471820268168,
          1.473595962678746,
          1.6394368243835131,
          1.3990324705164394,
          0.9150702207642113,
          1.9240358553944892,
          1.6170561038096212,
          0.9659948761079964,
          2.0752745954286604,
          1.3491318668768817,
          1.8575310597719537,
          2.2164179979540948,
          1.8983609427014276,
          2.4338823628079496,
          1.1755423152125641,
          2.0432410698241013,
          1.467050651801634,
          1.3684775109336027,
          1.5232096776748598,
          1.6648771579724926,
          1.8597676313817653,
          1.2124705843848211,
          2.3074380380857193,
          2.076801093057144,
          1.0157908462730716,
          2.618773662711668,
          2.834821263296209,
          2.4547531727146152,
          1.734639837019454,
          1.2625011105994126,
          2.3888594152735028,
          1.6163162181042148,
          2.4778958873026866,
          1.9403857383807361,
          2.3476186893363677,
          2.018874190502433,
          2.2044837791417327,
          1.835565010982035,
          2.7765113617700927,
          1.8972634091329186,
          2.043054362625692
         ],
         "y0": " ",
         "yaxis": "y"
        },
        {
         "alignmentgroup": "True",
         "hovertemplate": "Institucion=%{x}<br>SyntheticData=%{y}<extra></extra>",
         "legendgroup": "Afirme",
         "marker": {
          "color": "#008000"
         },
         "name": "Afirme",
         "notched": false,
         "offsetgroup": "Afirme",
         "orientation": "v",
         "showlegend": true,
         "type": "box",
         "x": [
          "Afirme",
          "Afirme",
          "Afirme",
          "Afirme",
          "Afirme",
          "Afirme",
          "Afirme",
          "Afirme",
          "Afirme",
          "Afirme",
          "Afirme",
          "Afirme",
          "Afirme",
          "Afirme",
          "Afirme",
          "Afirme",
          "Afirme",
          "Afirme",
          "Afirme",
          "Afirme",
          "Afirme",
          "Afirme",
          "Afirme",
          "Afirme",
          "Afirme",
          "Afirme",
          "Afirme",
          "Afirme",
          "Afirme",
          "Afirme",
          "Afirme",
          "Afirme",
          "Afirme",
          "Afirme",
          "Afirme",
          "Afirme",
          "Afirme",
          "Afirme",
          "Afirme",
          "Afirme",
          "Afirme",
          "Afirme",
          "Afirme",
          "Afirme",
          "Afirme",
          "Afirme",
          "Afirme",
          "Afirme",
          "Afirme",
          "Afirme",
          "Afirme",
          "Afirme",
          "Afirme",
          "Afirme",
          "Afirme",
          "Afirme",
          "Afirme",
          "Afirme",
          "Afirme",
          "Afirme",
          "Afirme",
          "Afirme",
          "Afirme",
          "Afirme",
          "Afirme",
          "Afirme",
          "Afirme",
          "Afirme",
          "Afirme",
          "Afirme",
          "Afirme",
          "Afirme",
          "Afirme",
          "Afirme",
          "Afirme",
          "Afirme",
          "Afirme",
          "Afirme",
          "Afirme",
          "Afirme",
          "Afirme",
          "Afirme",
          "Afirme",
          "Afirme",
          "Afirme",
          "Afirme",
          "Afirme",
          "Afirme",
          "Afirme",
          "Afirme",
          "Afirme",
          "Afirme",
          "Afirme",
          "Afirme",
          "Afirme",
          "Afirme",
          "Afirme",
          "Afirme",
          "Afirme",
          "Afirme"
         ],
         "x0": " ",
         "xaxis": "x",
         "y": [
          2.3715751803306224,
          1.9760455904264949,
          2.1438340153906643,
          2.5098590277684227,
          2.4015918171434905,
          1.576589414835841,
          2.135525641082421,
          1.8161064095936676,
          1.8300665329798684,
          1.979073565562128,
          1.9017726356366547,
          2.281739317019263,
          2.080700940292628,
          1.8952857547829203,
          1.9887203374961735,
          1.9567655549385374,
          2.293282931215706,
          1.800504103507918,
          1.9507896334787616,
          1.6123122356025,
          1.1196329534081173,
          2.049549392677705,
          2.1106864976692568,
          1.644772144082132,
          2.5182288409564064,
          1.4382339543663583,
          1.8732699700174194,
          1.8057166834925082,
          2.3045059721639527,
          2.2861140432710827,
          1.9049347534521057,
          1.9696671306846305,
          1.6025421331872673,
          1.2855690242150613,
          1.759105476695416,
          1.9053412010401543,
          2.216784297411039,
          2.208690156147479,
          1.7476752229516939,
          1.7723322023331527,
          1.5559196401305433,
          1.4481947982180974,
          1.3651816447187466,
          2.425724864617219,
          1.7122008672920206,
          1.7329584525327562,
          1.4966893455855215,
          2.085472203191254,
          1.3919696242081943,
          1.7983053187379492,
          1.6003146972538342,
          1.972201724379186,
          1.711866510105027,
          1.5176166666045006,
          1.85182715378179,
          1.9842162424538212,
          1.8792899944911188,
          1.9477168503445368,
          1.6760465928325208,
          1.75480506186373,
          1.6649864701449744,
          1.7557295831532431,
          1.6241875782071085,
          1.359378045323814,
          1.9114535812535884,
          1.7434835284996042,
          1.3872424793798472,
          1.9942068541024747,
          1.5968834743288598,
          1.8750641647808803,
          2.0714362630314858,
          1.8974050441196493,
          2.1904261985175575,
          1.501900512097441,
          1.9766790759414894,
          1.6614050736273094,
          1.6074688267372543,
          1.6921335972183196,
          1.769649765683062,
          1.8762879492466262,
          1.5221065461728267,
          2.1212396812167142,
          1.9950421075218334,
          1.4144893309796052,
          2.291593136200724,
          2.4098078610488693,
          2.2018460756362987,
          1.8078217976144184,
          1.549481739761943,
          2.16579100081003,
          1.743078685377778,
          2.2145090704109043,
          1.9203997436422895,
          2.1432253205802767,
          1.9633462551805767,
          2.064906218775665,
          1.863045006009038,
          2.377902443232692,
          1.8968045068840498,
          1.9765769153989636
         ],
         "y0": " ",
         "yaxis": "y"
        }
       ],
       "layout": {
        "autosize": true,
        "boxmode": "overlay",
        "legend": {
         "title": {
          "text": "Institucion"
         },
         "tracegroupgap": 0
        },
        "template": {
         "data": {
          "bar": [
           {
            "error_x": {
             "color": "#2a3f5f"
            },
            "error_y": {
             "color": "#2a3f5f"
            },
            "marker": {
             "line": {
              "color": "#E5ECF6",
              "width": 0.5
             },
             "pattern": {
              "fillmode": "overlay",
              "size": 10,
              "solidity": 0.2
             }
            },
            "type": "bar"
           }
          ],
          "barpolar": [
           {
            "marker": {
             "line": {
              "color": "#E5ECF6",
              "width": 0.5
             },
             "pattern": {
              "fillmode": "overlay",
              "size": 10,
              "solidity": 0.2
             }
            },
            "type": "barpolar"
           }
          ],
          "carpet": [
           {
            "aaxis": {
             "endlinecolor": "#2a3f5f",
             "gridcolor": "white",
             "linecolor": "white",
             "minorgridcolor": "white",
             "startlinecolor": "#2a3f5f"
            },
            "baxis": {
             "endlinecolor": "#2a3f5f",
             "gridcolor": "white",
             "linecolor": "white",
             "minorgridcolor": "white",
             "startlinecolor": "#2a3f5f"
            },
            "type": "carpet"
           }
          ],
          "choropleth": [
           {
            "colorbar": {
             "outlinewidth": 0,
             "ticks": ""
            },
            "type": "choropleth"
           }
          ],
          "contour": [
           {
            "colorbar": {
             "outlinewidth": 0,
             "ticks": ""
            },
            "colorscale": [
             [
              0,
              "#0d0887"
             ],
             [
              0.1111111111111111,
              "#46039f"
             ],
             [
              0.2222222222222222,
              "#7201a8"
             ],
             [
              0.3333333333333333,
              "#9c179e"
             ],
             [
              0.4444444444444444,
              "#bd3786"
             ],
             [
              0.5555555555555556,
              "#d8576b"
             ],
             [
              0.6666666666666666,
              "#ed7953"
             ],
             [
              0.7777777777777778,
              "#fb9f3a"
             ],
             [
              0.8888888888888888,
              "#fdca26"
             ],
             [
              1,
              "#f0f921"
             ]
            ],
            "type": "contour"
           }
          ],
          "contourcarpet": [
           {
            "colorbar": {
             "outlinewidth": 0,
             "ticks": ""
            },
            "type": "contourcarpet"
           }
          ],
          "heatmap": [
           {
            "colorbar": {
             "outlinewidth": 0,
             "ticks": ""
            },
            "colorscale": [
             [
              0,
              "#0d0887"
             ],
             [
              0.1111111111111111,
              "#46039f"
             ],
             [
              0.2222222222222222,
              "#7201a8"
             ],
             [
              0.3333333333333333,
              "#9c179e"
             ],
             [
              0.4444444444444444,
              "#bd3786"
             ],
             [
              0.5555555555555556,
              "#d8576b"
             ],
             [
              0.6666666666666666,
              "#ed7953"
             ],
             [
              0.7777777777777778,
              "#fb9f3a"
             ],
             [
              0.8888888888888888,
              "#fdca26"
             ],
             [
              1,
              "#f0f921"
             ]
            ],
            "type": "heatmap"
           }
          ],
          "heatmapgl": [
           {
            "colorbar": {
             "outlinewidth": 0,
             "ticks": ""
            },
            "colorscale": [
             [
              0,
              "#0d0887"
             ],
             [
              0.1111111111111111,
              "#46039f"
             ],
             [
              0.2222222222222222,
              "#7201a8"
             ],
             [
              0.3333333333333333,
              "#9c179e"
             ],
             [
              0.4444444444444444,
              "#bd3786"
             ],
             [
              0.5555555555555556,
              "#d8576b"
             ],
             [
              0.6666666666666666,
              "#ed7953"
             ],
             [
              0.7777777777777778,
              "#fb9f3a"
             ],
             [
              0.8888888888888888,
              "#fdca26"
             ],
             [
              1,
              "#f0f921"
             ]
            ],
            "type": "heatmapgl"
           }
          ],
          "histogram": [
           {
            "marker": {
             "pattern": {
              "fillmode": "overlay",
              "size": 10,
              "solidity": 0.2
             }
            },
            "type": "histogram"
           }
          ],
          "histogram2d": [
           {
            "colorbar": {
             "outlinewidth": 0,
             "ticks": ""
            },
            "colorscale": [
             [
              0,
              "#0d0887"
             ],
             [
              0.1111111111111111,
              "#46039f"
             ],
             [
              0.2222222222222222,
              "#7201a8"
             ],
             [
              0.3333333333333333,
              "#9c179e"
             ],
             [
              0.4444444444444444,
              "#bd3786"
             ],
             [
              0.5555555555555556,
              "#d8576b"
             ],
             [
              0.6666666666666666,
              "#ed7953"
             ],
             [
              0.7777777777777778,
              "#fb9f3a"
             ],
             [
              0.8888888888888888,
              "#fdca26"
             ],
             [
              1,
              "#f0f921"
             ]
            ],
            "type": "histogram2d"
           }
          ],
          "histogram2dcontour": [
           {
            "colorbar": {
             "outlinewidth": 0,
             "ticks": ""
            },
            "colorscale": [
             [
              0,
              "#0d0887"
             ],
             [
              0.1111111111111111,
              "#46039f"
             ],
             [
              0.2222222222222222,
              "#7201a8"
             ],
             [
              0.3333333333333333,
              "#9c179e"
             ],
             [
              0.4444444444444444,
              "#bd3786"
             ],
             [
              0.5555555555555556,
              "#d8576b"
             ],
             [
              0.6666666666666666,
              "#ed7953"
             ],
             [
              0.7777777777777778,
              "#fb9f3a"
             ],
             [
              0.8888888888888888,
              "#fdca26"
             ],
             [
              1,
              "#f0f921"
             ]
            ],
            "type": "histogram2dcontour"
           }
          ],
          "mesh3d": [
           {
            "colorbar": {
             "outlinewidth": 0,
             "ticks": ""
            },
            "type": "mesh3d"
           }
          ],
          "parcoords": [
           {
            "line": {
             "colorbar": {
              "outlinewidth": 0,
              "ticks": ""
             }
            },
            "type": "parcoords"
           }
          ],
          "pie": [
           {
            "automargin": true,
            "type": "pie"
           }
          ],
          "scatter": [
           {
            "fillpattern": {
             "fillmode": "overlay",
             "size": 10,
             "solidity": 0.2
            },
            "type": "scatter"
           }
          ],
          "scatter3d": [
           {
            "line": {
             "colorbar": {
              "outlinewidth": 0,
              "ticks": ""
             }
            },
            "marker": {
             "colorbar": {
              "outlinewidth": 0,
              "ticks": ""
             }
            },
            "type": "scatter3d"
           }
          ],
          "scattercarpet": [
           {
            "marker": {
             "colorbar": {
              "outlinewidth": 0,
              "ticks": ""
             }
            },
            "type": "scattercarpet"
           }
          ],
          "scattergeo": [
           {
            "marker": {
             "colorbar": {
              "outlinewidth": 0,
              "ticks": ""
             }
            },
            "type": "scattergeo"
           }
          ],
          "scattergl": [
           {
            "marker": {
             "colorbar": {
              "outlinewidth": 0,
              "ticks": ""
             }
            },
            "type": "scattergl"
           }
          ],
          "scattermapbox": [
           {
            "marker": {
             "colorbar": {
              "outlinewidth": 0,
              "ticks": ""
             }
            },
            "type": "scattermapbox"
           }
          ],
          "scatterpolar": [
           {
            "marker": {
             "colorbar": {
              "outlinewidth": 0,
              "ticks": ""
             }
            },
            "type": "scatterpolar"
           }
          ],
          "scatterpolargl": [
           {
            "marker": {
             "colorbar": {
              "outlinewidth": 0,
              "ticks": ""
             }
            },
            "type": "scatterpolargl"
           }
          ],
          "scatterternary": [
           {
            "marker": {
             "colorbar": {
              "outlinewidth": 0,
              "ticks": ""
             }
            },
            "type": "scatterternary"
           }
          ],
          "surface": [
           {
            "colorbar": {
             "outlinewidth": 0,
             "ticks": ""
            },
            "colorscale": [
             [
              0,
              "#0d0887"
             ],
             [
              0.1111111111111111,
              "#46039f"
             ],
             [
              0.2222222222222222,
              "#7201a8"
             ],
             [
              0.3333333333333333,
              "#9c179e"
             ],
             [
              0.4444444444444444,
              "#bd3786"
             ],
             [
              0.5555555555555556,
              "#d8576b"
             ],
             [
              0.6666666666666666,
              "#ed7953"
             ],
             [
              0.7777777777777778,
              "#fb9f3a"
             ],
             [
              0.8888888888888888,
              "#fdca26"
             ],
             [
              1,
              "#f0f921"
             ]
            ],
            "type": "surface"
           }
          ],
          "table": [
           {
            "cells": {
             "fill": {
              "color": "#EBF0F8"
             },
             "line": {
              "color": "white"
             }
            },
            "header": {
             "fill": {
              "color": "#C8D4E3"
             },
             "line": {
              "color": "white"
             }
            },
            "type": "table"
           }
          ]
         },
         "layout": {
          "annotationdefaults": {
           "arrowcolor": "#2a3f5f",
           "arrowhead": 0,
           "arrowwidth": 1
          },
          "autotypenumbers": "strict",
          "coloraxis": {
           "colorbar": {
            "outlinewidth": 0,
            "ticks": ""
           }
          },
          "colorscale": {
           "diverging": [
            [
             0,
             "#8e0152"
            ],
            [
             0.1,
             "#c51b7d"
            ],
            [
             0.2,
             "#de77ae"
            ],
            [
             0.3,
             "#f1b6da"
            ],
            [
             0.4,
             "#fde0ef"
            ],
            [
             0.5,
             "#f7f7f7"
            ],
            [
             0.6,
             "#e6f5d0"
            ],
            [
             0.7,
             "#b8e186"
            ],
            [
             0.8,
             "#7fbc41"
            ],
            [
             0.9,
             "#4d9221"
            ],
            [
             1,
             "#276419"
            ]
           ],
           "sequential": [
            [
             0,
             "#0d0887"
            ],
            [
             0.1111111111111111,
             "#46039f"
            ],
            [
             0.2222222222222222,
             "#7201a8"
            ],
            [
             0.3333333333333333,
             "#9c179e"
            ],
            [
             0.4444444444444444,
             "#bd3786"
            ],
            [
             0.5555555555555556,
             "#d8576b"
            ],
            [
             0.6666666666666666,
             "#ed7953"
            ],
            [
             0.7777777777777778,
             "#fb9f3a"
            ],
            [
             0.8888888888888888,
             "#fdca26"
            ],
            [
             1,
             "#f0f921"
            ]
           ],
           "sequentialminus": [
            [
             0,
             "#0d0887"
            ],
            [
             0.1111111111111111,
             "#46039f"
            ],
            [
             0.2222222222222222,
             "#7201a8"
            ],
            [
             0.3333333333333333,
             "#9c179e"
            ],
            [
             0.4444444444444444,
             "#bd3786"
            ],
            [
             0.5555555555555556,
             "#d8576b"
            ],
            [
             0.6666666666666666,
             "#ed7953"
            ],
            [
             0.7777777777777778,
             "#fb9f3a"
            ],
            [
             0.8888888888888888,
             "#fdca26"
            ],
            [
             1,
             "#f0f921"
            ]
           ]
          },
          "colorway": [
           "#636efa",
           "#EF553B",
           "#00cc96",
           "#ab63fa",
           "#FFA15A",
           "#19d3f3",
           "#FF6692",
           "#B6E880",
           "#FF97FF",
           "#FECB52"
          ],
          "font": {
           "color": "#2a3f5f"
          },
          "geo": {
           "bgcolor": "white",
           "lakecolor": "white",
           "landcolor": "#E5ECF6",
           "showlakes": true,
           "showland": true,
           "subunitcolor": "white"
          },
          "hoverlabel": {
           "align": "left"
          },
          "hovermode": "closest",
          "mapbox": {
           "style": "light"
          },
          "paper_bgcolor": "white",
          "plot_bgcolor": "#E5ECF6",
          "polar": {
           "angularaxis": {
            "gridcolor": "white",
            "linecolor": "white",
            "ticks": ""
           },
           "bgcolor": "#E5ECF6",
           "radialaxis": {
            "gridcolor": "white",
            "linecolor": "white",
            "ticks": ""
           }
          },
          "scene": {
           "xaxis": {
            "backgroundcolor": "#E5ECF6",
            "gridcolor": "white",
            "gridwidth": 2,
            "linecolor": "white",
            "showbackground": true,
            "ticks": "",
            "zerolinecolor": "white"
           },
           "yaxis": {
            "backgroundcolor": "#E5ECF6",
            "gridcolor": "white",
            "gridwidth": 2,
            "linecolor": "white",
            "showbackground": true,
            "ticks": "",
            "zerolinecolor": "white"
           },
           "zaxis": {
            "backgroundcolor": "#E5ECF6",
            "gridcolor": "white",
            "gridwidth": 2,
            "linecolor": "white",
            "showbackground": true,
            "ticks": "",
            "zerolinecolor": "white"
           }
          },
          "shapedefaults": {
           "line": {
            "color": "#2a3f5f"
           }
          },
          "ternary": {
           "aaxis": {
            "gridcolor": "white",
            "linecolor": "white",
            "ticks": ""
           },
           "baxis": {
            "gridcolor": "white",
            "linecolor": "white",
            "ticks": ""
           },
           "bgcolor": "#E5ECF6",
           "caxis": {
            "gridcolor": "white",
            "linecolor": "white",
            "ticks": ""
           }
          },
          "title": {
           "x": 0.05
          },
          "xaxis": {
           "automargin": true,
           "gridcolor": "white",
           "linecolor": "white",
           "ticks": "",
           "title": {
            "standoff": 15
           },
           "zerolinecolor": "white",
           "zerolinewidth": 2
          },
          "yaxis": {
           "automargin": true,
           "gridcolor": "white",
           "linecolor": "white",
           "ticks": "",
           "title": {
            "standoff": 15
           },
           "zerolinecolor": "white",
           "zerolinewidth": 2
          }
         }
        },
        "title": {
         "text": "Débito"
        },
        "xaxis": {
         "anchor": "y",
         "autorange": true,
         "categoryarray": [
          "EVO",
          "Inbursa",
          "BBVA Bancomer",
          "Banorte",
          "Autofin",
          "Getnet",
          "Mifel",
          "Afirme"
         ],
         "categoryorder": "array",
         "domain": [
          0,
          1
         ],
         "range": [
          -0.5,
          7.5
         ],
         "title": {
          "text": "Institución"
         },
         "type": "category"
        },
        "yaxis": {
         "anchor": "x",
         "autorange": true,
         "domain": [
          0,
          1
         ],
         "range": [
          0.33491236687985537,
          3.174972981441515
         ],
         "title": {
          "text": "Tasa de Descuento (Débito)"
         },
         "type": "linear"
        }
       }
      },
      "image/png": "[encoded data removed]",
      "text/html": [
       "<div>                            <div id=\"f7e92f22-c479-4ce7-afd7-00d56883f945\" class=\"plotly-graph-div\" style=\"height:525px; width:100%;\"></div>            <script type=\"text/javascript\">                require([\"plotly\"], function(Plotly) {                    window.PLOTLYENV=window.PLOTLYENV || {};                                    if (document.getElementById(\"f7e92f22-c479-4ce7-afd7-00d56883f945\")) {                    Plotly.newPlot(                        \"f7e92f22-c479-4ce7-afd7-00d56883f945\",                        [{\"alignmentgroup\":\"True\",\"hovertemplate\":\"Institucion=%{x}\\u003cbr\\u003eSyntheticData=%{y}\\u003cextra\\u003e\\u003c\\u002fextra\\u003e\",\"legendgroup\":\"EVO\",\"marker\":{\"color\":\"#0f4990\"},\"name\":\"EVO\",\"notched\":false,\"offsetgroup\":\"EVO\",\"orientation\":\"v\",\"showlegend\":true,\"x\":[\"EVO\",\"EVO\",\"EVO\",\"EVO\",\"EVO\",\"EVO\",\"EVO\",\"EVO\",\"EVO\",\"EVO\",\"EVO\",\"EVO\",\"EVO\",\"EVO\",\"EVO\",\"EVO\",\"EVO\",\"EVO\",\"EVO\",\"EVO\",\"EVO\",\"EVO\",\"EVO\",\"EVO\",\"EVO\",\"EVO\",\"EVO\",\"EVO\",\"EVO\",\"EVO\",\"EVO\",\"EVO\",\"EVO\",\"EVO\",\"EVO\",\"EVO\",\"EVO\",\"EVO\",\"EVO\",\"EVO\",\"EVO\",\"EVO\",\"EVO\",\"EVO\",\"EVO\",\"EVO\",\"EVO\",\"EVO\",\"EVO\",\"EVO\",\"EVO\",\"EVO\",\"EVO\",\"EVO\",\"EVO\",\"EVO\",\"EVO\",\"EVO\",\"EVO\",\"EVO\",\"EVO\",\"EVO\",\"EVO\",\"EVO\",\"EVO\",\"EVO\",\"EVO\",\"EVO\",\"EVO\",\"EVO\",\"EVO\",\"EVO\",\"EVO\",\"EVO\",\"EVO\",\"EVO\",\"EVO\",\"EVO\",\"EVO\",\"EVO\",\"EVO\",\"EVO\",\"EVO\",\"EVO\",\"EVO\",\"EVO\",\"EVO\",\"EVO\",\"EVO\",\"EVO\",\"EVO\",\"EVO\",\"EVO\",\"EVO\",\"EVO\",\"EVO\",\"EVO\",\"EVO\",\"EVO\",\"EVO\"],\"x0\":\" \",\"xaxis\":\"x\",\"y\":[1.6651699457338562,1.4060298695897724,1.5159602169800905,1.755769707848277,1.6848360181284938,1.144317202823482,1.510516799329862,1.3012421304234374,1.310388418159224,1.4080137153682908,1.357368278520567,1.6063119663229655,1.4745971677779288,1.3531182531336374,1.414334014221631,1.3933981222011107,1.6138750238999453,1.291019929884498,1.3894828633136713,1.1677218095326722,0.8449319349915252,1.4541875331336687,1.4942428777833061,1.188988646122776,1.7612533785576456,1.0536705218262348,1.338694118287275,1.2944350684950916,1.621228050728107,1.6091781662810543,1.359440010882414,1.401850878724413,1.1613207079502788,0.9536486710374539,1.263896691628031,1.3597063041297563,1.563755229338267,1.5584521712690382,1.2564079046924892,1.2725624773906863,1.1307749366372524,1.0601965919359948,1.0058086637812478,1.7006473250940402,1.233166085467186,1.2467658826938746,1.091968881590514,1.477723167608063,1.0233594089639892,1.289579346759346,1.1598613533732016,1.4035114745932598,1.2329470238619142,1.1056798850167417,1.3246453766156556,1.4113830554007794,1.342638272252802,1.3874696605705585,1.2094788022006169,1.2610791784624438,1.2022325149225694,1.2616848993072973,1.175502206411554,1.0020063055569814,1.363710967028213,1.2536616221204304,1.0202623140764515,1.417928628549897,1.157613310767184,1.3398696252012665,1.468527206813732,1.354506753043908,1.546486130063227,1.095383094132806,1.4064449118237343,1.1998860827213407,1.1645485416554426,1.2200185636947611,1.2708050188957993,1.3406714150236516,1.1086215302511624,1.5011570325212955,1.4184758635487875,1.0381136996073277,1.612767916821164,1.6902189434458108,1.5539681185203338,1.2958142811956535,1.126557001912997,1.530345828116916,1.253396380075096,1.5622645633726613,1.3695722458346036,1.5155614169319054,1.3977096154631363,1.4642489019564702,1.331995003936956,1.6693153938421088,1.3541132976136878,1.4063779790544935],\"y0\":\" \",\"yaxis\":\"y\",\"type\":\"box\"},{\"alignmentgroup\":\"True\",\"hovertemplate\":\"Institucion=%{x}\\u003cbr\\u003eSyntheticData=%{y}\\u003cextra\\u003e\\u003c\\u002fextra\\u003e\",\"legendgroup\":\"Inbursa\",\"marker\":{\"color\":\"#0033a0\"},\"name\":\"Inbursa\",\"notched\":false,\"offsetgroup\":\"Inbursa\",\"orientation\":\"v\",\"showlegend\":true,\"x\":[\"Inbursa\",\"Inbursa\",\"Inbursa\",\"Inbursa\",\"Inbursa\",\"Inbursa\",\"Inbursa\",\"Inbursa\",\"Inbursa\",\"Inbursa\",\"Inbursa\",\"Inbursa\",\"Inbursa\",\"Inbursa\",\"Inbursa\",\"Inbursa\",\"Inbursa\",\"Inbursa\",\"Inbursa\",\"Inbursa\",\"Inbursa\",\"Inbursa\",\"Inbursa\",\"Inbursa\",\"Inbursa\",\"Inbursa\",\"Inbursa\",\"Inbursa\",\"Inbursa\",\"Inbursa\",\"Inbursa\",\"Inbursa\",\"Inbursa\",\"Inbursa\",\"Inbursa\",\"Inbursa\",\"Inbursa\",\"Inbursa\",\"Inbursa\",\"Inbursa\",\"Inbursa\",\"Inbursa\",\"Inbursa\",\"Inbursa\",\"Inbursa\",\"Inbursa\",\"Inbursa\",\"Inbursa\",\"Inbursa\",\"Inbursa\",\"Inbursa\",\"Inbursa\",\"Inbursa\",\"Inbursa\",\"Inbursa\",\"Inbursa\",\"Inbursa\",\"Inbursa\",\"Inbursa\",\"Inbursa\",\"Inbursa\",\"Inbursa\",\"Inbursa\",\"Inbursa\",\"Inbursa\",\"Inbursa\",\"Inbursa\",\"Inbursa\",\"Inbursa\",\"Inbursa\",\"Inbursa\",\"Inbursa\",\"Inbursa\",\"Inbursa\",\"Inbursa\",\"Inbursa\",\"Inbursa\",\"Inbursa\",\"Inbursa\",\"Inbursa\",\"Inbursa\",\"Inbursa\",\"Inbursa\",\"Inbursa\",\"Inbursa\",\"Inbursa\",\"Inbursa\",\"Inbursa\",\"Inbursa\",\"Inbursa\",\"Inbursa\",\"Inbursa\",\"Inbursa\",\"Inbursa\",\"Inbursa\",\"Inbursa\",\"Inbursa\",\"Inbursa\",\"Inbursa\",\"Inbursa\"],\"x0\":\" \",\"xaxis\":\"x\",\"y\":[1.6964052345967664,1.5600157208367222,1.617873798410574,1.7440893199201457,1.7067557990149969,1.422272212012359,1.615008841752559,1.5048642791702302,1.5096781148206442,1.5610598501938373,1.534404357116088,1.6654273506962975,1.5961037725146994,1.5321675016492828,1.5643863232745425,1.5533674327374267,1.6694079073157606,1.49948417362342,1.5513067701650902,1.4345904260698275,1.264701018416592,1.5853618595440362,1.6064436198859506,1.4457834979593558,1.7469754623987608,1.3745634325401235,1.5245758517301446,1.5012816149974166,1.6732779214358457,1.6669358769900284,1.5354947425696917,1.5578162519602174,1.4312214252369888,1.3219203531776074,1.4852087850673847,1.5356348969103981,1.6430290680727722,1.6402379848784412,1.4812673182592049,1.4897697249424664,1.4151447034932907,1.3779982062821026,1.3493729809374988,1.715077539523179,1.4690347818248346,1.4761925698388814,1.3947204639950075,1.597749035583191,1.3586102152442048,1.4987259719786032,1.4304533438806324,1.5586902497859263,1.4689194862431127,1.4019367815877588,1.5171817771661344,1.5628331870530419,1.526651722238317,1.5502471897739782,1.4565677906319037,1.4837258834012863,1.452753955222405,1.4840446838459458,1.4386853717955546,1.3473717397668323,1.5377426142253754,1.4798219063791738,1.3569801653033955,1.5662782255525773,1.4292701635616758,1.5251945395796138,1.5929090562177537,1.5328982910757412,1.6339400684543302,1.3965174179646347,1.5602341641177548,1.4515189909059687,1.432920285081812,1.4621150335235584,1.4888447467872628,1.5256165342229746,1.4034850159216643,1.6100826486954187,1.5665662439730461,1.3663756313722777,1.66882521937956,1.7095889176030583,1.6378779571159652,1.502007516418765,1.4129247378489458,1.6254451726931136,1.479682305302682,1.6422445070382428,1.5408274978076861,1.6176639036483713,1.5556366397174402,1.5906573168191949,1.521050002072082,1.6985870493905835,1.532691209270362,1.5601989363444702],\"y0\":\" \",\"yaxis\":\"y\",\"type\":\"box\"},{\"alignmentgroup\":\"True\",\"hovertemplate\":\"Institucion=%{x}\\u003cbr\\u003eSyntheticData=%{y}\\u003cextra\\u003e\\u003c\\u002fextra\\u003e\",\"legendgroup\":\"BBVA Bancomer\",\"marker\":{\"color\":\"#006EC1\"},\"name\":\"BBVA Bancomer\",\"notched\":false,\"offsetgroup\":\"BBVA Bancomer\",\"orientation\":\"v\",\"showlegend\":true,\"x\":[\"BBVA Bancomer\",\"BBVA Bancomer\",\"BBVA Bancomer\",\"BBVA Bancomer\",\"BBVA Bancomer\",\"BBVA Bancomer\",\"BBVA Bancomer\",\"BBVA Bancomer\",\"BBVA Bancomer\",\"BBVA Bancomer\",\"BBVA Bancomer\",\"BBVA Bancomer\",\"BBVA Bancomer\",\"BBVA Bancomer\",\"BBVA Bancomer\",\"BBVA Bancomer\",\"BBVA Bancomer\",\"BBVA Bancomer\",\"BBVA Bancomer\",\"BBVA Bancomer\",\"BBVA Bancomer\",\"BBVA Bancomer\",\"BBVA Bancomer\",\"BBVA Bancomer\",\"BBVA Bancomer\",\"BBVA Bancomer\",\"BBVA Bancomer\",\"BBVA Bancomer\",\"BBVA Bancomer\",\"BBVA Bancomer\",\"BBVA Bancomer\",\"BBVA Bancomer\",\"BBVA Bancomer\",\"BBVA Bancomer\",\"BBVA Bancomer\",\"BBVA Bancomer\",\"BBVA Bancomer\",\"BBVA Bancomer\",\"BBVA Bancomer\",\"BBVA Bancomer\",\"BBVA Bancomer\",\"BBVA Bancomer\",\"BBVA Bancomer\",\"BBVA Bancomer\",\"BBVA Bancomer\",\"BBVA Bancomer\",\"BBVA Bancomer\",\"BBVA Bancomer\",\"BBVA Bancomer\",\"BBVA Bancomer\",\"BBVA Bancomer\",\"BBVA Bancomer\",\"BBVA Bancomer\",\"BBVA Bancomer\",\"BBVA Bancomer\",\"BBVA Bancomer\",\"BBVA Bancomer\",\"BBVA Bancomer\",\"BBVA Bancomer\",\"BBVA Bancomer\",\"BBVA Bancomer\",\"BBVA Bancomer\",\"BBVA Bancomer\",\"BBVA Bancomer\",\"BBVA Bancomer\",\"BBVA Bancomer\",\"BBVA Bancomer\",\"BBVA Bancomer\",\"BBVA Bancomer\",\"BBVA Bancomer\",\"BBVA Bancomer\",\"BBVA Bancomer\",\"BBVA Bancomer\",\"BBVA Bancomer\",\"BBVA Bancomer\",\"BBVA Bancomer\",\"BBVA Bancomer\",\"BBVA Bancomer\",\"BBVA Bancomer\",\"BBVA Bancomer\",\"BBVA Bancomer\",\"BBVA Bancomer\",\"BBVA Bancomer\",\"BBVA Bancomer\",\"BBVA Bancomer\",\"BBVA Bancomer\",\"BBVA Bancomer\",\"BBVA Bancomer\",\"BBVA Bancomer\",\"BBVA Bancomer\",\"BBVA Bancomer\",\"BBVA Bancomer\",\"BBVA Bancomer\",\"BBVA Bancomer\",\"BBVA Bancomer\",\"BBVA Bancomer\",\"BBVA Bancomer\",\"BBVA Bancomer\",\"BBVA Bancomer\",\"BBVA Bancomer\"],\"x0\":\" \",\"xaxis\":\"x\",\"y\":[1.8846078518951497,1.6800235812550837,1.766810697615861,1.9561339798802186,1.9001336985224953,1.4734083180185384,1.7625132626288385,1.5972964187553453,1.6045171722309663,1.681589775290756,1.6416065356741318,1.8381410260444464,1.734155658772049,1.6382512524739243,1.6865794849118139,1.67005114910614,1.844111860973641,1.58922626043513,1.6669601552476354,1.4918856391047415,1.2370515276248883,1.7180427893160541,1.749665429828926,1.5086752469390339,1.9604631935981414,1.4018451488101853,1.626863777595217,1.591922422496125,1.8499168821537688,1.8404038154850428,1.6432421138545374,1.6767243779403262,1.4868321378554832,1.322880529766411,1.5678131776010773,1.6434523453655971,1.8045436021091583,1.8003569773176618,1.5619009773888073,1.5746545874136997,1.4627170552399362,1.4069973094231538,1.3640594714062482,1.9126163092847686,1.543552172737252,1.5542888547583222,1.4320806959925112,1.7366235533747867,1.3779153228663075,1.5880889579679047,1.4856800158209489,1.6780353746788894,1.543379229364669,1.4429051723816384,1.615772665749202,1.6842497805795626,1.6299775833574752,1.6653707846609673,1.5248516859478556,1.5655888251019294,1.5191309328336073,1.5660670257689189,1.498028057693332,1.3610576096502487,1.646613921338063,1.5597328595687607,1.3754702479550933,1.6894173383288662,1.483905245342514,1.627791809369421,1.7293635843266306,1.6393474366136116,1.790910102681495,1.4347761269469523,1.6803512461766323,1.5172784863589532,1.4893804276227178,1.5331725502853377,1.573267120180894,1.628424801334462,1.4452275238824965,1.755123973043128,1.689849365959569,1.3895634470584166,1.84323782906934,1.9043833764045877,1.7968169356739476,1.5930112746281475,1.4593871067734188,1.7781677590396705,1.5595234579540231,1.8033667605573642,1.6512412467115292,1.766495855472557,1.6734549595761603,1.7259859752287923,1.621575003108123,1.8878805740858753,1.6390368139055431,1.6802984045167053],\"y0\":\" \",\"yaxis\":\"y\",\"type\":\"box\"},{\"alignmentgroup\":\"True\",\"hovertemplate\":\"Institucion=%{x}\\u003cbr\\u003eSyntheticData=%{y}\\u003cextra\\u003e\\u003c\\u002fextra\\u003e\",\"legendgroup\":\"Banorte\",\"marker\":{\"color\":\"#d52b1e\"},\"name\":\"Banorte\",\"notched\":false,\"offsetgroup\":\"Banorte\",\"orientation\":\"v\",\"showlegend\":true,\"x\":[\"Banorte\",\"Banorte\",\"Banorte\",\"Banorte\",\"Banorte\",\"Banorte\",\"Banorte\",\"Banorte\",\"Banorte\",\"Banorte\",\"Banorte\",\"Banorte\",\"Banorte\",\"Banorte\",\"Banorte\",\"Banorte\",\"Banorte\",\"Banorte\",\"Banorte\",\"Banorte\",\"Banorte\",\"Banorte\",\"Banorte\",\"Banorte\",\"Banorte\",\"Banorte\",\"Banorte\",\"Banorte\",\"Banorte\",\"Banorte\",\"Banorte\",\"Banorte\",\"Banorte\",\"Banorte\",\"Banorte\",\"Banorte\",\"Banorte\",\"Banorte\",\"Banorte\",\"Banorte\",\"Banorte\",\"Banorte\",\"Banorte\",\"Banorte\",\"Banorte\",\"Banorte\",\"Banorte\",\"Banorte\",\"Banorte\",\"Banorte\",\"Banorte\",\"Banorte\",\"Banorte\",\"Banorte\",\"Banorte\",\"Banorte\",\"Banorte\",\"Banorte\",\"Banorte\",\"Banorte\",\"Banorte\",\"Banorte\",\"Banorte\",\"Banorte\",\"Banorte\",\"Banorte\",\"Banorte\",\"Banorte\",\"Banorte\",\"Banorte\",\"Banorte\",\"Banorte\",\"Banorte\",\"Banorte\",\"Banorte\",\"Banorte\",\"Banorte\",\"Banorte\",\"Banorte\",\"Banorte\",\"Banorte\",\"Banorte\",\"Banorte\",\"Banorte\",\"Banorte\",\"Banorte\",\"Banorte\",\"Banorte\",\"Banorte\",\"Banorte\",\"Banorte\",\"Banorte\",\"Banorte\",\"Banorte\",\"Banorte\",\"Banorte\",\"Banorte\",\"Banorte\",\"Banorte\",\"Banorte\"],\"x0\":\" \",\"xaxis\":\"x\",\"y\":[2.2244967507096525,1.7880503066775113,1.9731961549138366,2.3770858237444665,2.2576185568479894,1.3472710784395483,1.9640282936081885,1.6115656933447366,1.6269699674260614,1.791391520620279,1.706093942771481,2.125367522228152,1.903532072047038,1.698936005277705,1.8020362344785361,1.7667757847597654,2.138105303410434,1.5943493555949437,1.7601816645282884,1.386689363423448,0.8430432589330947,1.8691579505409153,1.9366195836350417,1.4225071934699385,2.3863214796760346,1.1946029841283952,1.6746427255364627,1.6001011679917332,2.1504893485947063,2.130194806368091,1.7095831762230131,1.7810120062726955,1.3759085607583639,1.0261451301683433,1.5486681122156312,1.7100316701132736,2.0536930178328707,2.0447615516110114,1.5360554184294553,1.5632631198158926,1.3244630511785302,1.2055942601027279,1.113993538999996,2.2842481264741727,1.4969113018394709,1.5198162234844204,1.2591054847840235,1.908796913866211,1.1435526887814556,1.59192311033153,1.3734507004180236,1.7838087993149638,1.4965423559779605,1.282197701080828,1.6509816869316303,1.7970661985697336,1.6812855111626137,1.7567910072767299,1.4570169300220916,1.5439228268841156,1.4448126567116957,1.5449429883070267,1.3997931897457745,1.1075895672538634,1.7167763655212007,1.5314301004133561,1.1383365289708656,1.8080903217682476,1.3696645233973623,1.6766225266547643,1.8933089798968117,1.7012745314423714,2.024608219053856,1.264855737486831,1.7887493251768156,1.4408607708990997,1.3813449122617978,1.4747681072753869,1.5603031897192408,1.6779729095135185,1.287152050949326,1.9482644758253398,1.809011980713747,1.1684020203912884,2.1362407020145917,2.2666845363297865,2.037209462771088,1.6024240525400477,1.3173591611166264,1.9974245526179637,1.5309833769685826,2.051182422522377,1.7266479929845953,1.972524491674788,1.7740372470958086,1.8861034138214232,1.6633600066306624,2.2314785580498673,1.7006118696651582,1.7886365963023045],\"y0\":\" \",\"yaxis\":\"y\",\"type\":\"box\"},{\"alignmentgroup\":\"True\",\"hovertemplate\":\"Institucion=%{x}\\u003cbr\\u003eSyntheticData=%{y}\\u003cextra\\u003e\\u003c\\u002fextra\\u003e\",\"legendgroup\":\"Autofin\",\"marker\":{\"color\":\"#ffcc00\"},\"name\":\"Autofin\",\"notched\":false,\"offsetgroup\":\"Autofin\",\"orientation\":\"v\",\"showlegend\":true,\"x\":[\"Autofin\",\"Autofin\",\"Autofin\",\"Autofin\",\"Autofin\",\"Autofin\",\"Autofin\",\"Autofin\",\"Autofin\",\"Autofin\",\"Autofin\",\"Autofin\",\"Autofin\",\"Autofin\",\"Autofin\",\"Autofin\",\"Autofin\",\"Autofin\",\"Autofin\",\"Autofin\",\"Autofin\",\"Autofin\",\"Autofin\",\"Autofin\",\"Autofin\",\"Autofin\",\"Autofin\",\"Autofin\",\"Autofin\",\"Autofin\",\"Autofin\",\"Autofin\",\"Autofin\",\"Autofin\",\"Autofin\",\"Autofin\",\"Autofin\",\"Autofin\",\"Autofin\",\"Autofin\",\"Autofin\",\"Autofin\",\"Autofin\",\"Autofin\",\"Autofin\",\"Autofin\",\"Autofin\",\"Autofin\",\"Autofin\",\"Autofin\",\"Autofin\",\"Autofin\",\"Autofin\",\"Autofin\",\"Autofin\",\"Autofin\",\"Autofin\",\"Autofin\",\"Autofin\",\"Autofin\",\"Autofin\",\"Autofin\",\"Autofin\",\"Autofin\",\"Autofin\",\"Autofin\",\"Autofin\",\"Autofin\",\"Autofin\",\"Autofin\",\"Autofin\",\"Autofin\",\"Autofin\",\"Autofin\",\"Autofin\",\"Autofin\",\"Autofin\",\"Autofin\",\"Autofin\",\"Autofin\",\"Autofin\",\"Autofin\",\"Autofin\",\"Autofin\",\"Autofin\",\"Autofin\",\"Autofin\",\"Autofin\",\"Autofin\",\"Autofin\",\"Autofin\",\"Autofin\",\"Autofin\",\"Autofin\",\"Autofin\",\"Autofin\",\"Autofin\",\"Autofin\",\"Autofin\",\"Autofin\"],\"x0\":\" \",\"xaxis\":\"x\",\"y\":[2.151013086491916,1.8100393020918057,1.9546844960264347,2.2702232998003646,2.1768894975374917,1.4656805300308973,1.9475221043813973,1.6721606979255754,1.6841952870516106,1.812649625484593,1.7460108927902194,2.073568376740744,1.9002594312867482,1.740418754123207,1.8209658081863564,1.7934185818435666,2.0835197682894013,1.6587104340585497,1.7882669254127253,1.4964760651745688,1.0717525460414803,1.8734046488600902,1.9261090497148765,1.5244587448983895,2.2774386559969018,1.3464085813503088,1.7214396293253615,1.6632040374935415,2.0931948035896144,2.0773396924750713,1.748736856424229,1.8045406299005433,1.4880535630924718,1.2148008829440182,1.6230219626684619,1.7490872422759949,2.0175726701819303,2.0105949621961026,1.6131682956480118,1.6344243123561661,1.4478617587332268,1.3549955157052562,1.2834324523437468,2.1976938488079476,1.5825869545620865,1.6004814245972034,1.3968011599875183,1.9043725889579775,1.306525538110512,1.6568149299465078,1.4861333597015811,1.8067256244648155,1.5822987156077817,1.4148419539693968,1.7029544429153363,1.8170829676326044,1.726629305595792,1.7856179744349454,1.551419476579759,1.6193147085032153,1.5418848880560123,1.6201117096148647,1.5067134294888864,1.2784293494170806,1.754356535563438,1.6095547659479346,1.3024504132584889,1.8256955638814436,1.4831754089041893,1.7229863489490347,1.8922726405443842,1.7422457276893526,1.994850171135825,1.4012935449115869,1.8105854102943872,1.5387974772649216,1.4923007127045296,1.565287583808896,1.632111866968157,1.7240413355574362,1.418712539804161,1.9352066217385469,1.826415609932615,1.325939078430694,2.0820630484489,2.1839722940076456,2.004694892789913,1.6650187910469123,1.4423118446223644,1.9736129317327842,1.6092057632567052,2.015611267595607,1.7620687445192151,1.954159759120928,1.7990915992936005,1.886643292047987,1.712625005180205,2.1564676234764586,1.741728023175905,1.8104973408611753],\"y0\":\" \",\"yaxis\":\"y\",\"type\":\"box\"},{\"alignmentgroup\":\"True\",\"hovertemplate\":\"Institucion=%{x}\\u003cbr\\u003eSyntheticData=%{y}\\u003cextra\\u003e\\u003c\\u002fextra\\u003e\",\"legendgroup\":\"Getnet\",\"marker\":{\"color\":\"#ff0000\"},\"name\":\"Getnet\",\"notched\":false,\"offsetgroup\":\"Getnet\",\"orientation\":\"v\",\"showlegend\":true,\"x\":[\"Getnet\",\"Getnet\",\"Getnet\",\"Getnet\",\"Getnet\",\"Getnet\",\"Getnet\",\"Getnet\",\"Getnet\",\"Getnet\",\"Getnet\",\"Getnet\",\"Getnet\",\"Getnet\",\"Getnet\",\"Getnet\",\"Getnet\",\"Getnet\",\"Getnet\",\"Getnet\",\"Getnet\",\"Getnet\",\"Getnet\",\"Getnet\",\"Getnet\",\"Getnet\",\"Getnet\",\"Getnet\",\"Getnet\",\"Getnet\",\"Getnet\",\"Getnet\",\"Getnet\",\"Getnet\",\"Getnet\",\"Getnet\",\"Getnet\",\"Getnet\",\"Getnet\",\"Getnet\",\"Getnet\",\"Getnet\",\"Getnet\",\"Getnet\",\"Getnet\",\"Getnet\",\"Getnet\",\"Getnet\",\"Getnet\",\"Getnet\",\"Getnet\",\"Getnet\",\"Getnet\",\"Getnet\",\"Getnet\",\"Getnet\",\"Getnet\",\"Getnet\",\"Getnet\",\"Getnet\",\"Getnet\",\"Getnet\",\"Getnet\",\"Getnet\",\"Getnet\",\"Getnet\",\"Getnet\",\"Getnet\",\"Getnet\",\"Getnet\",\"Getnet\",\"Getnet\",\"Getnet\",\"Getnet\",\"Getnet\",\"Getnet\",\"Getnet\",\"Getnet\",\"Getnet\",\"Getnet\",\"Getnet\",\"Getnet\",\"Getnet\",\"Getnet\",\"Getnet\",\"Getnet\",\"Getnet\",\"Getnet\",\"Getnet\",\"Getnet\",\"Getnet\",\"Getnet\",\"Getnet\",\"Getnet\",\"Getnet\",\"Getnet\",\"Getnet\",\"Getnet\",\"Getnet\",\"Getnet\"],\"x0\":\" \",\"xaxis\":\"x\",\"y\":[2.3826993680080357,1.8780581670958725,2.0921330541191234,2.559130483704539,2.420996456355488,1.368407184445728,2.081532714484468,1.6739978329298517,1.6918090248363835,1.8819214457171978,1.7832961213295249,2.2680811975763007,2.0115839583043877,1.7750197561023464,1.8942293961158074,1.8534595011284787,2.2828092570683145,1.6540914424066537,1.8458350496108336,1.4139845764583618,0.7853937681413908,1.9718388803129334,2.049841393578017,1.4553989424496165,2.5698092108754147,1.191884700398457,1.746930651401535,1.6607419754904416,2.297128309312629,2.2736627448631053,1.787330547507859,1.8699201322528043,1.4015192733768582,0.997105306757147,1.6012725047493235,1.7878491185684726,2.1852075518692566,2.1748805440502323,1.5866890775590576,1.6181479822871259,1.3420354029251758,1.204593363243779,1.0986800294687453,2.4517868962357623,1.541428692751888,1.567912508403861,1.2664657167815272,2.017671431657807,1.1328577964035578,1.6512860963208316,1.3986773723583399,1.873153924207927,1.541002099099517,1.2931660918747074,1.7195725755146978,1.8884827920962546,1.754611372281772,1.8419146021637192,1.4953008253380435,1.595785768584759,1.481189634322898,1.5969653302299998,1.429135875643552,1.0912754371372797,1.7956476726338886,1.581341053602943,1.1268266116225636,1.9012294345445364,1.3942996051782004,1.7492197964445715,1.9997635080056886,1.777723676980242,2.1515782532810213,1.2731144464691484,1.878866407235693,1.476620266352084,1.4078050548027037,1.5158256240371664,1.614725563112872,1.7507811766250059,1.2988945589101581,2.0633058001730493,1.9022951027002701,1.161589836077427,2.2806533117043717,2.431478995131316,2.166148441329071,1.6634278107494302,1.3338215300410994,2.1201471389645206,1.5808245296199235,2.182304676041498,1.8070617418884383,2.0913564434989738,1.8618555669545287,1.9914320722310208,1.7338850076667036,2.390772082745159,1.7769574743003393,1.8787360644745397],\"y0\":\" \",\"yaxis\":\"y\",\"type\":\"box\"},{\"alignmentgroup\":\"True\",\"hovertemplate\":\"Institucion=%{x}\\u003cbr\\u003eSyntheticData=%{y}\\u003cextra\\u003e\\u003c\\u002fextra\\u003e\",\"legendgroup\":\"Mifel\",\"marker\":{\"color\":\"#004e98\"},\"name\":\"Mifel\",\"notched\":false,\"offsetgroup\":\"Mifel\",\"orientation\":\"v\",\"showlegend\":true,\"x\":[\"Mifel\",\"Mifel\",\"Mifel\",\"Mifel\",\"Mifel\",\"Mifel\",\"Mifel\",\"Mifel\",\"Mifel\",\"Mifel\",\"Mifel\",\"Mifel\",\"Mifel\",\"Mifel\",\"Mifel\",\"Mifel\",\"Mifel\",\"Mifel\",\"Mifel\",\"Mifel\",\"Mifel\",\"Mifel\",\"Mifel\",\"Mifel\",\"Mifel\",\"Mifel\",\"Mifel\",\"Mifel\",\"Mifel\",\"Mifel\",\"Mifel\",\"Mifel\",\"Mifel\",\"Mifel\",\"Mifel\",\"Mifel\",\"Mifel\",\"Mifel\",\"Mifel\",\"Mifel\",\"Mifel\",\"Mifel\",\"Mifel\",\"Mifel\",\"Mifel\",\"Mifel\",\"Mifel\",\"Mifel\",\"Mifel\",\"Mifel\",\"Mifel\",\"Mifel\",\"Mifel\",\"Mifel\",\"Mifel\",\"Mifel\",\"Mifel\",\"Mifel\",\"Mifel\",\"Mifel\",\"Mifel\",\"Mifel\",\"Mifel\",\"Mifel\",\"Mifel\",\"Mifel\",\"Mifel\",\"Mifel\",\"Mifel\",\"Mifel\",\"Mifel\",\"Mifel\",\"Mifel\",\"Mifel\",\"Mifel\",\"Mifel\",\"Mifel\",\"Mifel\",\"Mifel\",\"Mifel\",\"Mifel\",\"Mifel\",\"Mifel\",\"Mifel\",\"Mifel\",\"Mifel\",\"Mifel\",\"Mifel\",\"Mifel\",\"Mifel\",\"Mifel\",\"Mifel\",\"Mifel\",\"Mifel\",\"Mifel\",\"Mifel\",\"Mifel\",\"Mifel\",\"Mifel\",\"Mifel\"],\"x0\":\" \",\"xaxis\":\"x\",\"y\":[2.764947743362862,2.0420833204346285,2.348731131576042,3.0176733955767725,2.819805734779483,1.3120427236655021,2.3335468612885624,1.7497806796022202,1.7752940085494144,2.047617206027337,1.9063430927152654,2.6007649586903767,2.2333499943279067,1.8944877587411992,2.0652475133550756,2.0068473935083615,2.621861908773531,1.7212661202041255,1.9959258818749779,1.3773292581700858,0.47691539760793833,2.176417855583391,2.288151185395538,1.436652539184586,3.032969950713432,1.0591861924626547,1.8542520141697665,1.7307925594863083,2.6423729836099827,2.608760148047151,1.9121221356193656,2.030426135389152,1.3594735537560403,0.7801778718413188,1.6456065608571393,1.9128649536251094,2.4820540607856922,2.467261319855738,1.6247167867737853,1.6697795421950723,1.274266928514441,1.0773904932951432,0.9256767989687433,2.8639109594728485,1.5598843436716237,1.5978206201460714,1.1660184591735392,2.2420698885909123,0.9746341407942857,1.7172476514865966,1.355402722567352,2.035058323865409,1.5592732770884974,1.2042649424151217,1.815063418980513,2.0570158913811216,1.865254127863079,1.9903101058020842,1.4938092903490894,1.6377471820268168,1.473595962678746,1.6394368243835131,1.3990324705164394,0.9150702207642113,1.9240358553944892,1.6170561038096212,0.9659948761079964,2.0752745954286604,1.3491318668768817,1.8575310597719537,2.2164179979540948,1.8983609427014276,2.4338823628079496,1.1755423152125641,2.0432410698241013,1.467050651801634,1.3684775109336027,1.5232096776748598,1.6648771579724926,1.8597676313817653,1.2124705843848211,2.3074380380857193,2.076801093057144,1.0157908462730716,2.618773662711668,2.834821263296209,2.4547531727146152,1.734639837019454,1.2625011105994126,2.3888594152735028,1.6163162181042148,2.4778958873026866,1.9403857383807361,2.3476186893363677,2.018874190502433,2.2044837791417327,1.835565010982035,2.7765113617700927,1.8972634091329186,2.043054362625692],\"y0\":\" \",\"yaxis\":\"y\",\"type\":\"box\"},{\"alignmentgroup\":\"True\",\"hovertemplate\":\"Institucion=%{x}\\u003cbr\\u003eSyntheticData=%{y}\\u003cextra\\u003e\\u003c\\u002fextra\\u003e\",\"legendgroup\":\"Afirme\",\"marker\":{\"color\":\"#008000\"},\"name\":\"Afirme\",\"notched\":false,\"offsetgroup\":\"Afirme\",\"orientation\":\"v\",\"showlegend\":true,\"x\":[\"Afirme\",\"Afirme\",\"Afirme\",\"Afirme\",\"Afirme\",\"Afirme\",\"Afirme\",\"Afirme\",\"Afirme\",\"Afirme\",\"Afirme\",\"Afirme\",\"Afirme\",\"Afirme\",\"Afirme\",\"Afirme\",\"Afirme\",\"Afirme\",\"Afirme\",\"Afirme\",\"Afirme\",\"Afirme\",\"Afirme\",\"Afirme\",\"Afirme\",\"Afirme\",\"Afirme\",\"Afirme\",\"Afirme\",\"Afirme\",\"Afirme\",\"Afirme\",\"Afirme\",\"Afirme\",\"Afirme\",\"Afirme\",\"Afirme\",\"Afirme\",\"Afirme\",\"Afirme\",\"Afirme\",\"Afirme\",\"Afirme\",\"Afirme\",\"Afirme\",\"Afirme\",\"Afirme\",\"Afirme\",\"Afirme\",\"Afirme\",\"Afirme\",\"Afirme\",\"Afirme\",\"Afirme\",\"Afirme\",\"Afirme\",\"Afirme\",\"Afirme\",\"Afirme\",\"Afirme\",\"Afirme\",\"Afirme\",\"Afirme\",\"Afirme\",\"Afirme\",\"Afirme\",\"Afirme\",\"Afirme\",\"Afirme\",\"Afirme\",\"Afirme\",\"Afirme\",\"Afirme\",\"Afirme\",\"Afirme\",\"Afirme\",\"Afirme\",\"Afirme\",\"Afirme\",\"Afirme\",\"Afirme\",\"Afirme\",\"Afirme\",\"Afirme\",\"Afirme\",\"Afirme\",\"Afirme\",\"Afirme\",\"Afirme\",\"Afirme\",\"Afirme\",\"Afirme\",\"Afirme\",\"Afirme\",\"Afirme\",\"Afirme\",\"Afirme\",\"Afirme\",\"Afirme\",\"Afirme\"],\"x0\":\" \",\"xaxis\":\"x\",\"y\":[2.3715751803306224,1.9760455904264949,2.1438340153906643,2.5098590277684227,2.4015918171434905,1.576589414835841,2.135525641082421,1.8161064095936676,1.8300665329798684,1.979073565562128,1.9017726356366547,2.281739317019263,2.080700940292628,1.8952857547829203,1.9887203374961735,1.9567655549385374,2.293282931215706,1.800504103507918,1.9507896334787616,1.6123122356025,1.1196329534081173,2.049549392677705,2.1106864976692568,1.644772144082132,2.5182288409564064,1.4382339543663583,1.8732699700174194,1.8057166834925082,2.3045059721639527,2.2861140432710827,1.9049347534521057,1.9696671306846305,1.6025421331872673,1.2855690242150613,1.759105476695416,1.9053412010401543,2.216784297411039,2.208690156147479,1.7476752229516939,1.7723322023331527,1.5559196401305433,1.4481947982180974,1.3651816447187466,2.425724864617219,1.7122008672920206,1.7329584525327562,1.4966893455855215,2.085472203191254,1.3919696242081943,1.7983053187379492,1.6003146972538342,1.972201724379186,1.711866510105027,1.5176166666045006,1.85182715378179,1.9842162424538212,1.8792899944911188,1.9477168503445368,1.6760465928325208,1.75480506186373,1.6649864701449744,1.7557295831532431,1.6241875782071085,1.359378045323814,1.9114535812535884,1.7434835284996042,1.3872424793798472,1.9942068541024747,1.5968834743288598,1.8750641647808803,2.0714362630314858,1.8974050441196493,2.1904261985175575,1.501900512097441,1.9766790759414894,1.6614050736273094,1.6074688267372543,1.6921335972183196,1.769649765683062,1.8762879492466262,1.5221065461728267,2.1212396812167142,1.9950421075218334,1.4144893309796052,2.291593136200724,2.4098078610488693,2.2018460756362987,1.8078217976144184,1.549481739761943,2.16579100081003,1.743078685377778,2.2145090704109043,1.9203997436422895,2.1432253205802767,1.9633462551805767,2.064906218775665,1.863045006009038,2.377902443232692,1.8968045068840498,1.9765769153989636],\"y0\":\" \",\"yaxis\":\"y\",\"type\":\"box\"}],                        {\"template\":{\"data\":{\"histogram2dcontour\":[{\"type\":\"histogram2dcontour\",\"colorbar\":{\"outlinewidth\":0,\"ticks\":\"\"},\"colorscale\":[[0.0,\"#0d0887\"],[0.1111111111111111,\"#46039f\"],[0.2222222222222222,\"#7201a8\"],[0.3333333333333333,\"#9c179e\"],[0.4444444444444444,\"#bd3786\"],[0.5555555555555556,\"#d8576b\"],[0.6666666666666666,\"#ed7953\"],[0.7777777777777778,\"#fb9f3a\"],[0.8888888888888888,\"#fdca26\"],[1.0,\"#f0f921\"]]}],\"choropleth\":[{\"type\":\"choropleth\",\"colorbar\":{\"outlinewidth\":0,\"ticks\":\"\"}}],\"histogram2d\":[{\"type\":\"histogram2d\",\"colorbar\":{\"outlinewidth\":0,\"ticks\":\"\"},\"colorscale\":[[0.0,\"#0d0887\"],[0.1111111111111111,\"#46039f\"],[0.2222222222222222,\"#7201a8\"],[0.3333333333333333,\"#9c179e\"],[0.4444444444444444,\"#bd3786\"],[0.5555555555555556,\"#d8576b\"],[0.6666666666666666,\"#ed7953\"],[0.7777777777777778,\"#fb9f3a\"],[0.8888888888888888,\"#fdca26\"],[1.0,\"#f0f921\"]]}],\"heatmap\":[{\"type\":\"heatmap\",\"colorbar\":{\"outlinewidth\":0,\"ticks\":\"\"},\"colorscale\":[[0.0,\"#0d0887\"],[0.1111111111111111,\"#46039f\"],[0.2222222222222222,\"#7201a8\"],[0.3333333333333333,\"#9c179e\"],[0.4444444444444444,\"#bd3786\"],[0.5555555555555556,\"#d8576b\"],[0.6666666666666666,\"#ed7953\"],[0.7777777777777778,\"#fb9f3a\"],[0.8888888888888888,\"#fdca26\"],[1.0,\"#f0f921\"]]}],\"heatmapgl\":[{\"type\":\"heatmapgl\",\"colorbar\":{\"outlinewidth\":0,\"ticks\":\"\"},\"colorscale\":[[0.0,\"#0d0887\"],[0.1111111111111111,\"#46039f\"],[0.2222222222222222,\"#7201a8\"],[0.3333333333333333,\"#9c179e\"],[0.4444444444444444,\"#bd3786\"],[0.5555555555555556,\"#d8576b\"],[0.6666666666666666,\"#ed7953\"],[0.7777777777777778,\"#fb9f3a\"],[0.8888888888888888,\"#fdca26\"],[1.0,\"#f0f921\"]]}],\"contourcarpet\":[{\"type\":\"contourcarpet\",\"colorbar\":{\"outlinewidth\":0,\"ticks\":\"\"}}],\"contour\":[{\"type\":\"contour\",\"colorbar\":{\"outlinewidth\":0,\"ticks\":\"\"},\"colorscale\":[[0.0,\"#0d0887\"],[0.1111111111111111,\"#46039f\"],[0.2222222222222222,\"#7201a8\"],[0.3333333333333333,\"#9c179e\"],[0.4444444444444444,\"#bd3786\"],[0.5555555555555556,\"#d8576b\"],[0.6666666666666666,\"#ed7953\"],[0.7777777777777778,\"#fb9f3a\"],[0.8888888888888888,\"#fdca26\"],[1.0,\"#f0f921\"]]}],\"surface\":[{\"type\":\"surface\",\"colorbar\":{\"outlinewidth\":0,\"ticks\":\"\"},\"colorscale\":[[0.0,\"#0d0887\"],[0.1111111111111111,\"#46039f\"],[0.2222222222222222,\"#7201a8\"],[0.3333333333333333,\"#9c179e\"],[0.4444444444444444,\"#bd3786\"],[0.5555555555555556,\"#d8576b\"],[0.6666666666666666,\"#ed7953\"],[0.7777777777777778,\"#fb9f3a\"],[0.8888888888888888,\"#fdca26\"],[1.0,\"#f0f921\"]]}],\"mesh3d\":[{\"type\":\"mesh3d\",\"colorbar\":{\"outlinewidth\":0,\"ticks\":\"\"}}],\"scatter\":[{\"fillpattern\":{\"fillmode\":\"overlay\",\"size\":10,\"solidity\":0.2},\"type\":\"scatter\"}],\"parcoords\":[{\"type\":\"parcoords\",\"line\":{\"colorbar\":{\"outlinewidth\":0,\"ticks\":\"\"}}}],\"scatterpolargl\":[{\"type\":\"scatterpolargl\",\"marker\":{\"colorbar\":{\"outlinewidth\":0,\"ticks\":\"\"}}}],\"bar\":[{\"error_x\":{\"color\":\"#2a3f5f\"},\"error_y\":{\"color\":\"#2a3f5f\"},\"marker\":{\"line\":{\"color\":\"#E5ECF6\",\"width\":0.5},\"pattern\":{\"fillmode\":\"overlay\",\"size\":10,\"solidity\":0.2}},\"type\":\"bar\"}],\"scattergeo\":[{\"type\":\"scattergeo\",\"marker\":{\"colorbar\":{\"outlinewidth\":0,\"ticks\":\"\"}}}],\"scatterpolar\":[{\"type\":\"scatterpolar\",\"marker\":{\"colorbar\":{\"outlinewidth\":0,\"ticks\":\"\"}}}],\"histogram\":[{\"marker\":{\"pattern\":{\"fillmode\":\"overlay\",\"size\":10,\"solidity\":0.2}},\"type\":\"histogram\"}],\"scattergl\":[{\"type\":\"scattergl\",\"marker\":{\"colorbar\":{\"outlinewidth\":0,\"ticks\":\"\"}}}],\"scatter3d\":[{\"type\":\"scatter3d\",\"line\":{\"colorbar\":{\"outlinewidth\":0,\"ticks\":\"\"}},\"marker\":{\"colorbar\":{\"outlinewidth\":0,\"ticks\":\"\"}}}],\"scattermapbox\":[{\"type\":\"scattermapbox\",\"marker\":{\"colorbar\":{\"outlinewidth\":0,\"ticks\":\"\"}}}],\"scatterternary\":[{\"type\":\"scatterternary\",\"marker\":{\"colorbar\":{\"outlinewidth\":0,\"ticks\":\"\"}}}],\"scattercarpet\":[{\"type\":\"scattercarpet\",\"marker\":{\"colorbar\":{\"outlinewidth\":0,\"ticks\":\"\"}}}],\"carpet\":[{\"aaxis\":{\"endlinecolor\":\"#2a3f5f\",\"gridcolor\":\"white\",\"linecolor\":\"white\",\"minorgridcolor\":\"white\",\"startlinecolor\":\"#2a3f5f\"},\"baxis\":{\"endlinecolor\":\"#2a3f5f\",\"gridcolor\":\"white\",\"linecolor\":\"white\",\"minorgridcolor\":\"white\",\"startlinecolor\":\"#2a3f5f\"},\"type\":\"carpet\"}],\"table\":[{\"cells\":{\"fill\":{\"color\":\"#EBF0F8\"},\"line\":{\"color\":\"white\"}},\"header\":{\"fill\":{\"color\":\"#C8D4E3\"},\"line\":{\"color\":\"white\"}},\"type\":\"table\"}],\"barpolar\":[{\"marker\":{\"line\":{\"color\":\"#E5ECF6\",\"width\":0.5},\"pattern\":{\"fillmode\":\"overlay\",\"size\":10,\"solidity\":0.2}},\"type\":\"barpolar\"}],\"pie\":[{\"automargin\":true,\"type\":\"pie\"}]},\"layout\":{\"autotypenumbers\":\"strict\",\"colorway\":[\"#636efa\",\"#EF553B\",\"#00cc96\",\"#ab63fa\",\"#FFA15A\",\"#19d3f3\",\"#FF6692\",\"#B6E880\",\"#FF97FF\",\"#FECB52\"],\"font\":{\"color\":\"#2a3f5f\"},\"hovermode\":\"closest\",\"hoverlabel\":{\"align\":\"left\"},\"paper_bgcolor\":\"white\",\"plot_bgcolor\":\"#E5ECF6\",\"polar\":{\"bgcolor\":\"#E5ECF6\",\"angularaxis\":{\"gridcolor\":\"white\",\"linecolor\":\"white\",\"ticks\":\"\"},\"radialaxis\":{\"gridcolor\":\"white\",\"linecolor\":\"white\",\"ticks\":\"\"}},\"ternary\":{\"bgcolor\":\"#E5ECF6\",\"aaxis\":{\"gridcolor\":\"white\",\"linecolor\":\"white\",\"ticks\":\"\"},\"baxis\":{\"gridcolor\":\"white\",\"linecolor\":\"white\",\"ticks\":\"\"},\"caxis\":{\"gridcolor\":\"white\",\"linecolor\":\"white\",\"ticks\":\"\"}},\"coloraxis\":{\"colorbar\":{\"outlinewidth\":0,\"ticks\":\"\"}},\"colorscale\":{\"sequential\":[[0.0,\"#0d0887\"],[0.1111111111111111,\"#46039f\"],[0.2222222222222222,\"#7201a8\"],[0.3333333333333333,\"#9c179e\"],[0.4444444444444444,\"#bd3786\"],[0.5555555555555556,\"#d8576b\"],[0.6666666666666666,\"#ed7953\"],[0.7777777777777778,\"#fb9f3a\"],[0.8888888888888888,\"#fdca26\"],[1.0,\"#f0f921\"]],\"sequentialminus\":[[0.0,\"#0d0887\"],[0.1111111111111111,\"#46039f\"],[0.2222222222222222,\"#7201a8\"],[0.3333333333333333,\"#9c179e\"],[0.4444444444444444,\"#bd3786\"],[0.5555555555555556,\"#d8576b\"],[0.6666666666666666,\"#ed7953\"],[0.7777777777777778,\"#fb9f3a\"],[0.8888888888888888,\"#fdca26\"],[1.0,\"#f0f921\"]],\"diverging\":[[0,\"#8e0152\"],[0.1,\"#c51b7d\"],[0.2,\"#de77ae\"],[0.3,\"#f1b6da\"],[0.4,\"#fde0ef\"],[0.5,\"#f7f7f7\"],[0.6,\"#e6f5d0\"],[0.7,\"#b8e186\"],[0.8,\"#7fbc41\"],[0.9,\"#4d9221\"],[1,\"#276419\"]]},\"xaxis\":{\"gridcolor\":\"white\",\"linecolor\":\"white\",\"ticks\":\"\",\"title\":{\"standoff\":15},\"zerolinecolor\":\"white\",\"automargin\":true,\"zerolinewidth\":2},\"yaxis\":{\"gridcolor\":\"white\",\"linecolor\":\"white\",\"ticks\":\"\",\"title\":{\"standoff\":15},\"zerolinecolor\":\"white\",\"automargin\":true,\"zerolinewidth\":2},\"scene\":{\"xaxis\":{\"backgroundcolor\":\"#E5ECF6\",\"gridcolor\":\"white\",\"linecolor\":\"white\",\"showbackground\":true,\"ticks\":\"\",\"zerolinecolor\":\"white\",\"gridwidth\":2},\"yaxis\":{\"backgroundcolor\":\"#E5ECF6\",\"gridcolor\":\"white\",\"linecolor\":\"white\",\"showbackground\":true,\"ticks\":\"\",\"zerolinecolor\":\"white\",\"gridwidth\":2},\"zaxis\":{\"backgroundcolor\":\"#E5ECF6\",\"gridcolor\":\"white\",\"linecolor\":\"white\",\"showbackground\":true,\"ticks\":\"\",\"zerolinecolor\":\"white\",\"gridwidth\":2}},\"shapedefaults\":{\"line\":{\"color\":\"#2a3f5f\"}},\"annotationdefaults\":{\"arrowcolor\":\"#2a3f5f\",\"arrowhead\":0,\"arrowwidth\":1},\"geo\":{\"bgcolor\":\"white\",\"landcolor\":\"#E5ECF6\",\"subunitcolor\":\"white\",\"showland\":true,\"showlakes\":true,\"lakecolor\":\"white\"},\"title\":{\"x\":0.05},\"mapbox\":{\"style\":\"light\"}}},\"xaxis\":{\"anchor\":\"y\",\"domain\":[0.0,1.0],\"title\":{\"text\":\"Instituci\\u00f3n\"},\"categoryorder\":\"array\",\"categoryarray\":[\"EVO\",\"Inbursa\",\"BBVA Bancomer\",\"Banorte\",\"Autofin\",\"Getnet\",\"Mifel\",\"Afirme\"]},\"yaxis\":{\"anchor\":\"x\",\"domain\":[0.0,1.0],\"title\":{\"text\":\"Tasa de Descuento (D\\u00e9bito)\"}},\"legend\":{\"title\":{\"text\":\"Institucion\"},\"tracegroupgap\":0},\"title\":{\"text\":\"D\\u00e9bito\"},\"boxmode\":\"overlay\"},                        {\"responsive\": true}                    ).then(function(){\n",
       "                            \n",
       "var gd = document.getElementById('f7e92f22-c479-4ce7-afd7-00d56883f945');\n",
       "var x = new MutationObserver(function (mutations, observer) {{\n",
       "        var display = window.getComputedStyle(gd).display;\n",
       "        if (!display || display === 'none') {{\n",
       "            console.log([gd, 'removed!']);\n",
       "            Plotly.purge(gd);\n",
       "            observer.disconnect();\n",
       "        }}\n",
       "}});\n",
       "\n",
       "// Listen for the removal of the full notebook cells\n",
       "var notebookContainer = gd.closest('#notebook-container');\n",
       "if (notebookContainer) {{\n",
       "    x.observe(notebookContainer, {childList: true});\n",
       "}}\n",
       "\n",
       "// Listen for the clearing of the current output cell\n",
       "var outputEl = gd.closest('.output');\n",
       "if (outputEl) {{\n",
       "    x.observe(outputEl, {childList: true});\n",
       "}}\n",
       "\n",
       "                        })                };                });            </script>        </div>"
      ]
     },
     "metadata": {},
     "output_type": "display_data"
    }
   ],
   "source": [
    "fig_credito = px.box(synthetic_df_credito, x='Institucion', y='SyntheticData', color='Institucion',title='Crédito',\n",
    "                    color_discrete_map=color_dict)\n",
    "fig_credito.update_layout(yaxis_title='Tasa de Descuento (Crédito)', xaxis_title='Institución')\n",
    "\n",
    "fig_debito = px.box(synthetic_df_debito, x='Institucion', y='SyntheticData', color='Institucion', title='Débito',\n",
    "                   color_discrete_map=color_dict)\n",
    "fig_debito.update_layout(yaxis_title='Tasa de Descuento (Débito)', xaxis_title='Institución')\n",
    "\n",
    "# Mostrar las gráficas\n",
    "fig_credito.show()\n",
    "fig_debito.show()"
   ]
  },
  {
   "cell_type": "code",
   "execution_count": 22,
   "id": "60556496-5318-4579-9785-b8f699e9a82b",
   "metadata": {},
   "outputs": [],
   "source": [
    "color_dict = {\n",
    "    'EVO': '#0f4990',\n",
    "    'Mifel': '#004e98',\n",
    "    'Dlocal': '#000e39',\n",
    "    'Getnet': '#ff0000',\n",
    "    'Afirme': '#008000',\n",
    "    'Banorte': '#d52b1e',\n",
    "    'BBVA Bancomer': '#006EC1',\n",
    "    'Autofin': '#ffcc00',\n",
    "    'Inbursa': '#0033a0',\n",
    "    'Adyen': '#00b140',\n",
    "    'Banregio': '#ff6600',\n",
    "    'Multiva': '#0033a0',\n",
    "    'Fiserv': '#ff6600',\n",
    "    'Bansí': '#0033a0',\n",
    "    'Azteca': '#ff0000',\n",
    "    'Intercam Banco': '#008000',\n",
    "    'Bajío': '#ff0000',\n",
    "    'Bzpay': '#0033a0',\n",
    "    'Velpay': '#ff6600',\n",
    "    'Mercado Pago': '#0033a0',\n",
    "    'Espiral': '#ff0000',\n",
    "    'Paypal': '#003087',\n",
    "    'PayU Digicuenta': '#00b140',\n",
    "    'Pocket': '#ff6600',\n",
    "    'Pago Fácil': '#ff0000',\n",
    "    'Sr. Pago': '#0033a0',\n",
    "    'Stripe': '#6772e5',\n",
    "    'Clip': '#ff6600',\n",
    "    'Ebanx': '#0033a0',\n",
    "    'Smart Payment': '#ff6600',\n",
    "    'Xaldo': '#0033a0',\n",
    "    'Cyborgbeat': '#ff0000',\n",
    "    'Adquira': '#0033a0',\n",
    "    'OEL': '#ff6600',\n",
    "    'MerIT': '#0033a0',\n",
    "    'EMS': '#ff0000',\n",
    "    'Qiubo': '#0033a0',\n",
    "    'Banjército': '#008000'\n",
    "}\n"
   ]
  }
 ],
 "metadata": {
  "kernelspec": {
   "display_name": "Scrapper",
   "language": "python",
   "name": "scrapper"
  },
  "language_info": {
   "codemirror_mode": {
    "name": "ipython",
    "version": 3
   },
   "file_extension": ".py",
   "mimetype": "text/x-python",
   "name": "python",
   "nbconvert_exporter": "python",
   "pygments_lexer": "ipython3",
   "version": "3.11.3"
  }
 },
 "nbformat": 4,
 "nbformat_minor": 5
}
